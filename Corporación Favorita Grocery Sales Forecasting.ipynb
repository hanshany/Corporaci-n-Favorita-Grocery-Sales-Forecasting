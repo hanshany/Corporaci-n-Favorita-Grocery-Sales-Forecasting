{
 "cells": [
  {
   "cell_type": "code",
   "execution_count": 10,
   "metadata": {},
   "outputs": [
    {
     "data": {
      "text/html": [
       "<script>requirejs.config({paths: { 'plotly': ['https://cdn.plot.ly/plotly-latest.min']},});if(!window.Plotly) {{require(['plotly'],function(plotly) {window.Plotly=plotly;});}}</script>"
      ],
      "text/vnd.plotly.v1+html": [
       "<script>requirejs.config({paths: { 'plotly': ['https://cdn.plot.ly/plotly-latest.min']},});if(!window.Plotly) {{require(['plotly'],function(plotly) {window.Plotly=plotly;});}}</script>"
      ]
     },
     "metadata": {},
     "output_type": "display_data"
    }
   ],
   "source": [
    "%matplotlib inline\n",
    "\n",
    "import numpy as np\n",
    "import pandas as pd\n",
    "import sklearn as sklearn\n",
    "from pandas import Series, DataFrame\n",
    "import matplotlib.pyplot as plt\n",
    "from sklearn.ensemble import RandomForestRegressor\n",
    "from sklearn.ensemble import ExtraTreesClassifier\n",
    "\n",
    "import sklearn.preprocessing as preprocessing\n",
    "from sklearn import linear_model\n",
    "from sklearn import cross_validation\n",
    "from sklearn.preprocessing import Imputer \n",
    "from sklearn.model_selection import StratifiedShuffleSplit\n",
    "from sklearn.cross_validation import ShuffleSplit\n",
    "from sklearn.metrics import r2_score\n",
    "from collections import defaultdict\n",
    "\n",
    "import plotly.offline as py\n",
    "py.init_notebook_mode(connected=True)\n",
    "import plotly.graph_objs as go\n",
    "import plotly.tools as tls\n",
    "\n",
    "import matplotlib.pyplot as plt\n",
    "from sklearn.learning_curve import learning_curve\n",
    "\n",
    "from sklearn.utils import shuffle\n",
    "from sklearn.metrics import accuracy_score\n",
    "from sklearn.metrics import classification_report\n",
    "from sklearn.model_selection import GridSearchCV\n",
    "from sklearn.cross_validation import cross_val_score\n",
    "\n",
    "import datetime\n",
    "from  datetime import timedelta\n",
    "\n",
    "from subprocess import check_output\n",
    "\n",
    "# import xgboost as xgb\n",
    "from sklearn.cross_validation import cross_val_score\n",
    "from sklearn.datasets import make_blobs\n",
    "from sklearn.ensemble import ExtraTreesRegressor\n",
    "from sklearn.tree import DecisionTreeClassifier\n",
    "\n",
    "import xgboost as xgb"
   ]
  },
  {
   "cell_type": "markdown",
   "metadata": {},
   "source": [
    "https://www.kaggle.com/thepathofd/a-first-kaggle-part-1-forecasting-store-47"
   ]
  },
  {
   "cell_type": "markdown",
   "metadata": {},
   "source": [
    "# 1 Import data"
   ]
  },
  {
   "cell_type": "markdown",
   "metadata": {},
   "source": [
    "## 1.1 Read data\n",
    "### 1.1.1 train"
   ]
  },
  {
   "cell_type": "markdown",
   "metadata": {},
   "source": [
    "1. Train data: includes the target unit_sales by date, store_nbr, and item_nbr and a unique id;\n",
    "2. Target unit_sales: integer or float; negative values represents returns of that particular ite; negative sales are treated at zero sales in the Test set.;\n",
    "3. Onpromotion: for a specfied data and store_nbr; 16% of them are NaN.\n",
    "4. date from 2013-01-01 to 2017-08-15"
   ]
  },
  {
   "cell_type": "markdown",
   "metadata": {},
   "source": [
    "### 1.1.2 test"
   ]
  },
  {
   "cell_type": "markdown",
   "metadata": {},
   "source": [
    "A possible way to forecast new product sales is using surrogates. That is finding similar products using **family** and **class attributes**, finding sales patterns in those similar products, possibly clustering those similar products and choosing the cluster with the best forecasting results."
   ]
  },
  {
   "cell_type": "markdown",
   "metadata": {},
   "source": [
    "From **2017-08-16 to 2017-08-31**"
   ]
  },
  {
   "cell_type": "code",
   "execution_count": 3,
   "metadata": {},
   "outputs": [
    {
     "name": "stderr",
     "output_type": "stream",
     "text": [
      "/Users/hanshany/anaconda3/lib/python3.6/site-packages/IPython/core/interactiveshell.py:2698: DtypeWarning:\n",
      "\n",
      "Columns (5) have mixed types. Specify dtype option on import or set low_memory=False.\n",
      "\n"
     ]
    },
    {
     "name": "stdout",
     "output_type": "stream",
     "text": [
      "<class 'pandas.core.frame.DataFrame'>\n",
      "RangeIndex: 125497040 entries, 0 to 125497039\n",
      "Data columns (total 6 columns):\n",
      "id             int64\n",
      "date           object\n",
      "store_nbr      int64\n",
      "item_nbr       int64\n",
      "unit_sales     float64\n",
      "onpromotion    object\n",
      "dtypes: float64(1), int64(3), object(2)\n",
      "memory usage: 5.6+ GB\n"
     ]
    }
   ],
   "source": [
    "# split data\n",
    "train_original = pd.read_csv(\"/Users/hanshany/Documents/USC/EE660/Final project/train_original.csv\")\n",
    "train_original['date'] = pd.to_datetime(train_original['date'])\n",
    "train_8 = train_original[(train_original['date'].dt.month == 8) & (train_original['date'].dt.day > 15)]"
   ]
  },
  {
   "cell_type": "markdown",
   "metadata": {},
   "source": [
    "### 1.1.3 holidays_events"
   ]
  },
  {
   "cell_type": "markdown",
   "metadata": {},
   "source": [
    "1. Transferred: a holiday is transferred officially falls on the calendar day, but was moved to another date by the government, which means a transferred day is more like a normal day than a holiday;\n",
    "2. Type: additional, bridge, event, holiday, transfer, work day;\n",
    "3. type-bridge: extra days added to a holiday; there are frequently made up by the type Work Day which is a day not normally scheduled for work that is meant to payback the Bridge.(调休……)\n",
    "4. Locale: local, national, regional."
   ]
  },
  {
   "cell_type": "markdown",
   "metadata": {},
   "source": [
    "### 1.1.4 items"
   ]
  },
  {
   "cell_type": "markdown",
   "metadata": {},
   "source": [
    "1. Item: family, class, perishable\n",
    "2. NOTE: Items marked as perishable have a score weight of 1.25; otherwise, the weight is 1.0\n",
    "3. There are 33 families class"
   ]
  },
  {
   "cell_type": "markdown",
   "metadata": {},
   "source": [
    "### 1.1.5 oil"
   ]
  },
  {
   "cell_type": "markdown",
   "metadata": {},
   "source": [
    "1. Ecuador is an oil-dependent country and it's economical heallth is highly vulnerable to shockc in oil prices.\n",
    "2. **Training and testing data timeframe.**"
   ]
  },
  {
   "cell_type": "markdown",
   "metadata": {},
   "source": [
    "### 1.1.6 stores"
   ]
  },
  {
   "cell_type": "markdown",
   "metadata": {},
   "source": [
    "1. For the most part, stores in a particular cluster have one type.\n",
    "2. One state can have many different store types.\n",
    "3. Store: city, state, type and cluster;\n",
    "4. Cluster: a grouping of similar stores.\n",
    "5. Type: 5, cities: 22, states: 16.\n",
    "6. Most of the store types seem to contain a mix of the clusters, especially with regards to store type \"D\". Only type \"E\" stores seem to fall within the single cluster of cluster 10. However with regards to our initial plan of trying to suss out relationships between store types and clusters, it seems that there is nothing apparent that stands out. If we think of store types, one would normally think of categories such as convenience store types, huge general store types or bulk buy types"
   ]
  },
  {
   "cell_type": "markdown",
   "metadata": {},
   "source": [
    "### 1.1.7 transactions"
   ]
  },
  {
   "cell_type": "markdown",
   "metadata": {
    "collapsed": true
   },
   "source": [
    "1. Transactions: data, store_nbr\n",
    "2. **Training** data timeframe"
   ]
  },
  {
   "cell_type": "markdown",
   "metadata": {},
   "source": [
    "## 1.2 Low memory\n",
    "Merge data\n",
    "1. Join stores and items data to train data with respect to **store_nbr and item_nbr**\n",
    "2. Join holiday and oil data to Train with respect to **date**"
   ]
  },
  {
   "cell_type": "code",
   "execution_count": 13,
   "metadata": {
    "collapsed": true
   },
   "outputs": [],
   "source": [
    "class Data(object):\n",
    "    def __init__(self, data_folder, test_the_script=False, items_choice=None, holidays_choice=None):\n",
    "        self.DATA_FOLDER = data_folder\n",
    "        self.test_the_script = test_the_script\n",
    "        self.items_choice = items_choice\n",
    "        self.holidays_choice = holidays_choice\n",
    "        self.read_data()\n",
    "        # self.process_data()\n",
    "\n",
    "        print('Train shape: ', self.train.shape)\n",
    "\n",
    "    def read_data(self):\n",
    "        self.nrows = None\n",
    "#         if self.test_the_script:\n",
    "#             self.nrows = 10000\n",
    "\n",
    "        self.train = self.read_train_test_low_memory(train_flag = True)\n",
    "        print(\"read train over~~\")\n",
    "        \n",
    "        self.test = self.read_train_test_low_memory(train_flag = False)\n",
    "        print(\"read test over~~\")\n",
    "        self.stores = self.read_stores_low_memory()\n",
    "        self.items = self.read_items_low_memory()\n",
    "        self.oil = self.read_oil_low_memory()\n",
    "        self.transactions = self.read_transactions_low_memory()\n",
    "        self.transactions_test = self.read_transactions_test_low_memory()\n",
    "        self.holidays = self.read_holidays_low_memory()\n",
    "        self.ma_unit_sales = self.read_ma_unit_sales_low_memory()\n",
    "        self.ma_oil = self.read_ma_oil_low_memory()\n",
    "        self.ma_transactions = self.read_ma_transactions_low_memory()\n",
    "        print(\"read over~~\")\n",
    "        \n",
    "        self.merged_train_data = self.merge_data(self.train, 'train', self.items_choice, self.holidays_choice)\n",
    "        print(\"merge train over~~\")\n",
    "\n",
    "        self.merged_test_data = self.merge_data(self.test, 'test', self.items_choice, self.holidays_choice)\n",
    "        print(\"merge test over~~\")\n",
    "\n",
    "        self.processed_train, self.processed_test = self.preprocessing_all(self.merged_train_data, self.merged_test_data)\n",
    "\n",
    "            \n",
    "    def read_train_test_low_memory(self, train_flag = True):\n",
    "        filename = 'train'\n",
    "        if not train_flag: \n",
    "            filename = 'test'\n",
    "\n",
    "        types = {'id': 'int32',\n",
    "                'item_nbr': 'int32',\n",
    "                'store_nbr': 'int8',\n",
    "                'unit_sales': 'float32',\n",
    "                'onpromotion': bool,\n",
    "            }\n",
    "        data = pd.read_csv(self.DATA_FOLDER + filename + '.csv', parse_dates = ['date'], dtype = types, \n",
    "                        nrows = self.nrows, infer_datetime_format = True)\n",
    "        \n",
    "        data['onpromotion'].fillna(False, inplace = True)\n",
    "        data['onpromotion'] = data['onpromotion'].map({False : 0, True : 1})\n",
    "        data['onpromotion'] = data['onpromotion'].astype('int8')\n",
    "        \n",
    "        if train_flag:\n",
    "            data.loc[(data.unit_sales < 0),'unit_sales'] = 0 \n",
    "            data['unit_sales'] =  data['unit_sales'].apply(pd.np.log1p) \n",
    "            \n",
    "        return data\n",
    "\n",
    "    \n",
    "    def read_stores_low_memory(self):\n",
    "        types = {'cluster': 'int8',\n",
    "                'store_nbr': 'int8',\n",
    "                }\n",
    "        data = pd.read_csv(self.DATA_FOLDER + 'stores.csv', dtype = types)\n",
    "        return data\n",
    "\n",
    "    \n",
    "    def read_items_low_memory(self):\n",
    "        types = {'item_nbr': 'int32',\n",
    "                'perishable': 'int8',\n",
    "                'class' : 'int16'\n",
    "                }\n",
    "        data = pd.read_csv(self.DATA_FOLDER + 'items.csv', dtype = types)\n",
    "        return data  \n",
    "\n",
    "    \n",
    "    def read_oil_low_memory(self):\n",
    "        types = {'dcoilwtico': 'float32',\n",
    "                }\n",
    "        data = pd.read_csv(self.DATA_FOLDER + 'oil.csv', parse_dates = ['date'], dtype = types, \n",
    "                                infer_datetime_format = True)\n",
    "        return data\n",
    "    \n",
    "    \n",
    "    def read_transactions_low_memory(self):\n",
    "        types = {'transactions': 'float16',\n",
    "                'store_nbr' : 'int8'\n",
    "                }\n",
    "        data = pd.read_csv(self.DATA_FOLDER + 'transactions_all.csv', parse_dates = ['date'], dtype = types, \n",
    "                                infer_datetime_format = True)\n",
    "        return data\n",
    "    \n",
    "    \n",
    "    def read_transactions_test_low_memory(self):\n",
    "        types = {'transactions': 'float16',\n",
    "                 'store_nbr' : 'int8',\n",
    "                 'mais_transactions': 'float16',\n",
    "                 'madw_transactions': 'float16',\n",
    "                 'mawk_transactions': 'float16'\n",
    "                }\n",
    "        data = pd.read_csv(self.DATA_FOLDER + 'ma_is_transactions.csv', parse_dates = ['date'], dtype = types, \n",
    "                                infer_datetime_format = True)\n",
    "        return data\n",
    "    \n",
    "    \n",
    "    def read_holidays_low_memory(self):\n",
    "        data = pd.read_csv(self.DATA_FOLDER + 'holidays_events.csv', parse_dates = ['date','type','locale','locale_name','description','transferred'], \n",
    "                                infer_datetime_format = True)\n",
    "        return data\n",
    "    \n",
    "    \n",
    "    def read_ma_unit_sales_low_memory(self):\n",
    "        types = {'item_nbr': 'int32',\n",
    "                 'store_nbr': 'int8',\n",
    "                 'dow': 'int8',\n",
    "                 'mais': 'float16',\n",
    "                 'mawk': 'float16',\n",
    "                 'madw': 'float16'\n",
    "                }\n",
    "        data = pd.read_csv(self.DATA_FOLDER + 'ma_unit_sales.csv', dtype = types)\n",
    "        return data\n",
    "    \n",
    "    def read_ma_oil_low_memory(self):\n",
    "        types = {'madw_dcoilwtico': 'float16'\n",
    "                }\n",
    "        data = pd.read_csv(self.DATA_FOLDER + 'ma_is_oil.csv', parse_dates = ['date'], dtype = types, \n",
    "                                infer_datetime_format = True)\n",
    "        return data\n",
    "    \n",
    "    def read_ma_transactions_low_memory(self):\n",
    "        types = {'store_nbr': 'int8',\n",
    "                 'dow': 'int8',\n",
    "                 'mais_transactions': 'float16',\n",
    "                 'mawk_transactions': 'float16',\n",
    "                 'madw_transactions': 'float16'\n",
    "                }\n",
    "        data = pd.read_csv(self.DATA_FOLDER + 'ma_transactions.csv', dtype = types)\n",
    "        return data\n",
    "    \n",
    "    \n",
    "    def merge_data(self, data, data_type, items_choice, holidays_choice):\n",
    "        # train, store, holidays\n",
    "        merged_data = self.preprocessing_holidays(data, holidays_choice)\n",
    "        print(\"merge store process holidays over!\")\n",
    "\n",
    "        # items\n",
    "        if data_type == 'train':\n",
    "            merged_data = self.preprocessing_items(merged_data, 'train', items_choice)\n",
    "        elif data_type =='test':\n",
    "            merged_data = self.preprocessing_items(merged_data, 'test', items_choice)\n",
    "        print(\"merge process items over!\")\n",
    "        \n",
    "        # merge transactions\n",
    "        merged_data = pd.merge(merged_data, self.transactions, on=['date','store_nbr'], how='left')\n",
    "            \n",
    "        # merge oil\n",
    "        merged_data = pd.merge(merged_data, self.oil, on='date', how='left')\n",
    "        \n",
    "        print(\"merge over!\")\n",
    "        \n",
    "        return merged_data\n",
    "    \n",
    "    def preprocessing_all(self, train, test):\n",
    "        # merge training data and testing data\n",
    "        all_data = pd.concat([train,test])\n",
    "        stores_new = self.preprocessing_stores(self.stores)\n",
    "        all_data = pd.merge(all_data, stores_new, on='store_nbr', how='left')\n",
    "        \n",
    "        print(\"process stores over!\")\n",
    "\n",
    "        all_data.drop(['state',\n",
    "                       'city',\n",
    "                       'cluster',\n",
    "                       'type',\n",
    "                       'id'], axis=1, inplace=True)\n",
    "\n",
    "        all_data['date'] = pd.to_datetime(all_data['date'])\n",
    "        all_data['year'] = all_data['date'].dt.year\n",
    "        all_data['month'] = all_data['date'].dt.month\n",
    "        all_data['dow'] = all_data['date'].dt.dayofweek\n",
    "        \n",
    "        # merge ma_unit_sales,ma_transactions\n",
    "        all_data = pd.merge(all_data, self.ma_unit_sales, on=['store_nbr','item_nbr','dow'],how='left')\n",
    "        all_data = pd.merge(all_data, self.ma_transactions, on=['store_nbr','dow'],how='left')\n",
    "        # merge ma_is_oil\n",
    "        all_data = pd.merge(all_data, self.ma_oil, on='date',how='left')\n",
    "        \n",
    "        all_data.drop(['store_nbr',\n",
    "                       'item_nbr',], axis=1, inplace=True)\n",
    "\n",
    "        \n",
    "        # convert 2013 -> 1\n",
    "        for i in range(5):\n",
    "            all_data.year.loc[all_data.year == 2013 + i] = 1 + i\n",
    "        \n",
    "        # dummy month, perishable, dayoff, onpromotion\n",
    "        dummies_month = pd.get_dummies(all_data['month'], prefix='month')\n",
    "        dummies_dow = pd.get_dummies(all_data['dow'], prefix='dow')\n",
    "        dummies_dayoff = pd.get_dummies(all_data['dayoff'], prefix='dayoff')\n",
    "\n",
    "        all_data['perishable'] = all_data['perishable'].map({0:1.0, 1:1.25})\n",
    "        \n",
    "        all_data.drop(['month','dayoff','dow'], axis=1, inplace=True)\n",
    "        all_data = pd.concat([all_data,dummies_month,dummies_dayoff,dummies_dow], axis = 1)\n",
    "\n",
    "        unit_sales = all_data.unit_sales\n",
    "        all_data.drop(['unit_sales'], axis=1, inplace=True)\n",
    "        all_data.insert(len(all_data.columns),'unit_sales',unit_sales)\n",
    "        \n",
    "        all_data.loc[:, 'mawk'].fillna(0, inplace=True) # fill NaNs\n",
    "        all_data.loc[:, 'mais'].fillna(0, inplace=True) # fill NaNs\n",
    "        all_data.loc[:, 'madw'].fillna(0, inplace=True) # fill NaNs\n",
    "        all_data.loc[:, 'ma_wk_transactions'].fillna(0, inplace=True) # fill NaNs\n",
    "        all_data.loc[:, 'mais_transactions'].fillna(0, inplace=True) # fill NaNs\n",
    "        all_data.loc[:, 'ma_dw_transactions'].fillna(0, inplace=True) # fill NaNs\n",
    "        all_data['transactions'] =  all_data['transactions'].apply(pd.np.log1p) #logarithm conversion\n",
    "        all_data['dcoilwtico'] =  all_data['dcoilwtico'].apply(pd.np.log1p)\n",
    "\n",
    "\n",
    "        processed_train = all_data[all_data['date'] < '2017-08-16']\n",
    "        processed_test = all_data[all_data['date'] >= '2017-08-16']\n",
    "        \n",
    "        processed_train.drop(['date'], axis=1, inplace=True)\n",
    "        processed_test.drop(['date'], axis=1, inplace=True)\n",
    "        \n",
    "        return processed_train, processed_test    \n",
    "    \n",
    "    \n",
    "    def preprocessing_holidays(self, data, choice):\n",
    "        def delete_description(data):\n",
    "            data.drop('description', axis=1, inplace=True)\n",
    "            return data\n",
    "        def remain_description(data):\n",
    "            pass            \n",
    "        \n",
    "        merged_t_stores = pd.merge(data, self.stores, on='store_nbr', how='left')\n",
    "        \n",
    "        df_holiday = self.holidays\n",
    "        merged_t_stores['dayoff'] = [x.isoweekday() in [6,7] for x in merged_t_stores.date]\n",
    "        \n",
    "        merged_t_stores.loc[merged_t_stores['dayoff'] == True, 'dayoff'] = 1\n",
    "        merged_t_stores.loc[merged_t_stores['dayoff'] == False, 'dayoff'] = 0\n",
    "        \n",
    "        for (d,t,l,n,tr) in zip(df_holiday.date,df_holiday.type,df_holiday.locale,df_holiday.locale_name,df_holiday.transferred):\n",
    "            if t != 'Work Day':\n",
    "                if tr == True:\n",
    "                    merged_t_stores.loc[merged_t_stores.date==d,'dayoff'] = 0\n",
    "                elif l == 'National': \n",
    "                    merged_t_stores.loc[merged_t_stores.date==d,'dayoff'] = 1\n",
    "                elif l == 'Regional':\n",
    "                    merged_t_stores.loc[(merged_t_stores.date==d)&(merged_t_stores.state==n),'dayoff'] = 1\n",
    "                else:\n",
    "                    merged_t_stores.loc[(merged_t_stores.date==d)&(merged_t_stores.city==n),'dayoff'] = 1\n",
    "            else:\n",
    "                merged_t_stores.loc[merged_t_stores.date==d,'dayoff'] = 0\n",
    "        merged_data = pd.merge(merged_t_stores, df_holiday[['date','description']], on='date', how='left')\n",
    "        \n",
    "        if choice == 1:\n",
    "            return delete_description(merged_data)\n",
    "        elif choice == 2:\n",
    "            return remain_description(merged_data)\n",
    "        else:\n",
    "            return merged_data\n",
    "\n",
    "    \n",
    "    def preprocessing_items(self, data, data_type, choice):\n",
    "        def preprocessing_items_1(data_type, data):\n",
    "            # dummy family and drop class\n",
    "            data = pd.merge(data, self.items, on='item_nbr', how='left')\n",
    "            data.drop(['class'], axis=1, inplace=True)\n",
    "            dummies_family = pd.get_dummies(data['family'], prefix='family')\n",
    "            data.drop(['family'], axis=1, inplace=True)\n",
    "            data = pd.concat([data,dummies_family], axis = 1)\n",
    "            return data\n",
    "        def preprocessing_items_2(data_type, data):\n",
    "            # dummy class and drop family\n",
    "            data = pd.merge(data, self.items, on='item_nbr', how='left')\n",
    "            data.drop(['family'], axis=1, inplace=True)\n",
    "            dummies_class = pd.get_dummies(data['class'], prefix='family')\n",
    "            data.drop(['class'], axis=1, inplace=True)\n",
    "            data = pd.concat([data,dummies_class], axis = 1)\n",
    "            return data\n",
    "        def preprocessing_items_3(data_type, data):\n",
    "            # unit_sales mean\n",
    "            # drop family and class                \n",
    "            mean_item_unit_sales = self.train[['item_nbr','unit_sales']].groupby(['item_nbr'])['unit_sales'].mean().to_frame('mean_item_unit_sales')\n",
    "            mean_item_unit_sales.reset_index(inplace=True)            \n",
    "            if data_type == 'train':\n",
    "                res = pd.merge(data, mean_item_unit_sales, on='item_nbr', how='left')            \n",
    "            elif data_type == 'test':\n",
    "                test_item_nbr = pd.DataFrame(self.test.item_nbr.unique(), columns=['item_nbr'])\n",
    "                test_item_nbr = pd.merge(test_item_nbr, mean_item_unit_sales, on='item_nbr', how='left')\n",
    "\n",
    "                imp = Imputer(missing_values='NaN', strategy='mean', axis=0)\n",
    "                imp.fit(mean_item_unit_sales['mean_item_unit_sales'].reshape(-1,1))\n",
    "                test_temp = imp.transform(test_item_nbr['mean_item_unit_sales'].reshape(-1,1)) \n",
    "\n",
    "                test_item_nbr.mean_item_unit_sales = test_temp\n",
    "                res = pd.merge(data, test_item_nbr, on='item_nbr', how='left')\n",
    "                \n",
    "            temp = self.items[['item_nbr','perishable']]\n",
    "            res = pd.merge(res, temp, on='item_nbr', how='left')\n",
    "                \n",
    "            return res             \n",
    "        \n",
    "        if choice == 1:\n",
    "            return preprocessing_items_1(data_type, data)\n",
    "        elif choice == 2:\n",
    "            return preprocessing_items_2(data_type, data)\n",
    "        elif choice == 3:\n",
    "            return preprocessing_items_3(data_type, data)\n",
    "        else:\n",
    "            return preprocessing_items_3(data_type, data)\n",
    "\n",
    "        \n",
    "    def preprocessing_stores(self, data):\n",
    "        dummies_city = pd.get_dummies(data['city'], prefix='city')\n",
    "        dummies_state = pd.get_dummies(data['state'], prefix='state')\n",
    "        dummies_type = pd.get_dummies(data['type'], prefix='type')\n",
    "        dummies_cluster = pd.get_dummies(data['cluster'], prefix='cluster')\n",
    "        stores = pd.concat([data['store_nbr'],dummies_city,dummies_state,dummies_type,dummies_cluster], axis = 1)\n",
    "        remain_feature = ['type_A',\n",
    "                          'state_Pichincha',\n",
    "                          'state_Manabi',\n",
    "                          'cluster_15',\n",
    "                          'city_Santo Domingo',\n",
    "                          'cluster_7',\n",
    "                          'type_D',\n",
    "                          'state_Santo Domingo de los Tsachilas',\n",
    "                          'cluster_1',\n",
    "                          'city_Guayaquil',\n",
    "                          'state_Los Rios',\n",
    "                          'state_Guayas',\n",
    "                          'state_Tungurahua',\n",
    "                          'cluster_9',\n",
    "                          'cluster_4',\n",
    "                          'city_Ambato',\n",
    "                          'cluster_10',\n",
    "                          'state_Bolivar']\n",
    "\n",
    "        new_stores = pd.DataFrame()\n",
    "        for i in range(len(stores.columns)):\n",
    "            if stores.columns[i] in remain_feature:\n",
    "                new_stores = pd.concat([new_stores, stores[stores.columns[i]]], axis=1)\n",
    "        new_stores = pd.concat([new_stores, stores.store_nbr], axis=1)\n",
    "        return new_stores"
   ]
  },
  {
   "cell_type": "code",
   "execution_count": 14,
   "metadata": {},
   "outputs": [
    {
     "name": "stdout",
     "output_type": "stream",
     "text": [
      "read train over~~\n",
      "read test over~~\n",
      "read over~~\n",
      "merge store process holidays over!\n",
      "merge process items over!\n",
      "merge transactions and oil over!\n",
      "merge train over~~\n",
      "merge store process holidays over!\n"
     ]
    },
    {
     "name": "stderr",
     "output_type": "stream",
     "text": [
      "/Users/hanshany/anaconda3/lib/python3.6/site-packages/ipykernel_launcher.py:258: FutureWarning:\n",
      "\n",
      "reshape is deprecated and will raise in a subsequent release. Please use .values.reshape(...) instead\n",
      "\n",
      "/Users/hanshany/anaconda3/lib/python3.6/site-packages/ipykernel_launcher.py:259: FutureWarning:\n",
      "\n",
      "reshape is deprecated and will raise in a subsequent release. Please use .values.reshape(...) instead\n",
      "\n"
     ]
    },
    {
     "name": "stdout",
     "output_type": "stream",
     "text": [
      "merge process items over!\n",
      "merge transactions and oil over!\n",
      "merge test over~~\n",
      "process stores over!\n"
     ]
    },
    {
     "name": "stderr",
     "output_type": "stream",
     "text": [
      "/Users/hanshany/anaconda3/lib/python3.6/site-packages/pandas/core/indexing.py:179: SettingWithCopyWarning:\n",
      "\n",
      "\n",
      "A value is trying to be set on a copy of a slice from a DataFrame\n",
      "\n",
      "See the caveats in the documentation: http://pandas.pydata.org/pandas-docs/stable/indexing.html#indexing-view-versus-copy\n",
      "\n",
      "/Users/hanshany/anaconda3/lib/python3.6/site-packages/ipykernel_launcher.py:186: SettingWithCopyWarning:\n",
      "\n",
      "\n",
      "A value is trying to be set on a copy of a slice from a DataFrame\n",
      "\n",
      "See the caveats in the documentation: http://pandas.pydata.org/pandas-docs/stable/indexing.html#indexing-view-versus-copy\n",
      "\n"
     ]
    },
    {
     "name": "stdout",
     "output_type": "stream",
     "text": [
      "Train shape:  (1518118, 6)\n"
     ]
    },
    {
     "name": "stderr",
     "output_type": "stream",
     "text": [
      "/Users/hanshany/anaconda3/lib/python3.6/site-packages/ipykernel_launcher.py:187: SettingWithCopyWarning:\n",
      "\n",
      "\n",
      "A value is trying to be set on a copy of a slice from a DataFrame\n",
      "\n",
      "See the caveats in the documentation: http://pandas.pydata.org/pandas-docs/stable/indexing.html#indexing-view-versus-copy\n",
      "\n"
     ]
    }
   ],
   "source": [
    "data = Data(data_folder=\"/Users/hanshany/Documents/USC/EE660/Final project/\", test_the_script=True, items_choice=3, holidays_choice=1)"
   ]
  },
  {
   "cell_type": "code",
   "execution_count": 15,
   "metadata": {
    "collapsed": true
   },
   "outputs": [],
   "source": [
    "data.merged_train_data.to_csv(\"/Users/hanshany/Documents/USC/EE660/Final project/train_2016_merged.csv\", index=False)\n",
    "data.processed_train.to_csv(\"/Users/hanshany/Documents/USC/EE660/Final project/train_2016_processed.csv\", index=False)\n",
    "data.merged_test_data.to_csv(\"/Users/hanshany/Documents/USC/EE660/Final project/test_2016_merged.csv\", index=False)\n",
    "data.processed_test.to_csv(\"/Users/hanshany/Documents/USC/EE660/Final project/test_2016_processed.csv\", index=False)"
   ]
  },
  {
   "cell_type": "markdown",
   "metadata": {},
   "source": [
    "## 1.3 Standardization\n",
    "return value must be positive"
   ]
  },
  {
   "cell_type": "code",
   "execution_count": 15,
   "metadata": {
    "collapsed": true
   },
   "outputs": [],
   "source": [
    "def standardization(train, test):\n",
    "    X_train = train.reshape(-1,1)\n",
    "    X_test = test.reshape(-1,1)\n",
    "    stantard_scaler = preprocessing.StandardScaler().fit(X_train)\n",
    "    X_train = stantard_scaler.transform(X_train)\n",
    "    X_test = stantard_scaler.transform(X_test)\n",
    "    return X_train, X_test\n",
    "\n",
    "def scale_to_a_range(train, test):\n",
    "    X_train = train.reshape(-1,1)\n",
    "    X_test = test.reshape(-1,1)\n",
    "    min_max_scaler = preprocessing.MinMaxScaler().fit(X_train)  \n",
    "    X_train_minmax = min_max_scaler.transform(X_train)\n",
    "    X_test_minmax = min_max_scaler.transform(X_test)\n",
    "    return X_train_minmax, X_test_minmax"
   ]
  },
  {
   "cell_type": "code",
   "execution_count": 16,
   "metadata": {
    "scrolled": true
   },
   "outputs": [
    {
     "name": "stderr",
     "output_type": "stream",
     "text": [
      "/Users/hanshany/anaconda3/lib/python3.6/site-packages/ipykernel_launcher.py:10: FutureWarning:\n",
      "\n",
      "reshape is deprecated and will raise in a subsequent release. Please use .values.reshape(...) instead\n",
      "\n",
      "/Users/hanshany/anaconda3/lib/python3.6/site-packages/ipykernel_launcher.py:11: FutureWarning:\n",
      "\n",
      "reshape is deprecated and will raise in a subsequent release. Please use .values.reshape(...) instead\n",
      "\n"
     ]
    },
    {
     "data": {
      "text/html": [
       "<div>\n",
       "<style>\n",
       "    .dataframe thead tr:only-child th {\n",
       "        text-align: right;\n",
       "    }\n",
       "\n",
       "    .dataframe thead th {\n",
       "        text-align: left;\n",
       "    }\n",
       "\n",
       "    .dataframe tbody tr th {\n",
       "        vertical-align: top;\n",
       "    }\n",
       "</style>\n",
       "<table border=\"1\" class=\"dataframe\">\n",
       "  <thead>\n",
       "    <tr style=\"text-align: right;\">\n",
       "      <th></th>\n",
       "      <th>mean_item_unit_sales</th>\n",
       "      <th>onpromotion</th>\n",
       "      <th>perishable</th>\n",
       "      <th>city_Ambato</th>\n",
       "      <th>city_Guayaquil</th>\n",
       "      <th>city_Santo Domingo</th>\n",
       "      <th>state_Bolivar</th>\n",
       "      <th>state_Guayas</th>\n",
       "      <th>state_Los Rios</th>\n",
       "      <th>state_Manabi</th>\n",
       "      <th>...</th>\n",
       "      <th>dow_0</th>\n",
       "      <th>dow_1</th>\n",
       "      <th>dow_2</th>\n",
       "      <th>dow_3</th>\n",
       "      <th>dow_4</th>\n",
       "      <th>dow_5</th>\n",
       "      <th>dow_6</th>\n",
       "      <th>unit_sales</th>\n",
       "      <th>dcoilwtico_scaled</th>\n",
       "      <th>transactions_scaled</th>\n",
       "    </tr>\n",
       "  </thead>\n",
       "  <tbody>\n",
       "    <tr>\n",
       "      <th>0</th>\n",
       "      <td>2.051276</td>\n",
       "      <td>0</td>\n",
       "      <td>1.0</td>\n",
       "      <td>0</td>\n",
       "      <td>0</td>\n",
       "      <td>0</td>\n",
       "      <td>0</td>\n",
       "      <td>0</td>\n",
       "      <td>0</td>\n",
       "      <td>0</td>\n",
       "      <td>...</td>\n",
       "      <td>0</td>\n",
       "      <td>1</td>\n",
       "      <td>0</td>\n",
       "      <td>0</td>\n",
       "      <td>0</td>\n",
       "      <td>0</td>\n",
       "      <td>0</td>\n",
       "      <td>1.386294</td>\n",
       "      <td>0.497369</td>\n",
       "      <td>0.5584</td>\n",
       "    </tr>\n",
       "    <tr>\n",
       "      <th>1</th>\n",
       "      <td>2.737654</td>\n",
       "      <td>0</td>\n",
       "      <td>1.0</td>\n",
       "      <td>0</td>\n",
       "      <td>0</td>\n",
       "      <td>0</td>\n",
       "      <td>0</td>\n",
       "      <td>0</td>\n",
       "      <td>0</td>\n",
       "      <td>0</td>\n",
       "      <td>...</td>\n",
       "      <td>0</td>\n",
       "      <td>1</td>\n",
       "      <td>0</td>\n",
       "      <td>0</td>\n",
       "      <td>0</td>\n",
       "      <td>0</td>\n",
       "      <td>0</td>\n",
       "      <td>2.639057</td>\n",
       "      <td>0.497369</td>\n",
       "      <td>0.5584</td>\n",
       "    </tr>\n",
       "    <tr>\n",
       "      <th>2</th>\n",
       "      <td>1.659467</td>\n",
       "      <td>0</td>\n",
       "      <td>1.0</td>\n",
       "      <td>0</td>\n",
       "      <td>0</td>\n",
       "      <td>0</td>\n",
       "      <td>0</td>\n",
       "      <td>0</td>\n",
       "      <td>0</td>\n",
       "      <td>0</td>\n",
       "      <td>...</td>\n",
       "      <td>0</td>\n",
       "      <td>1</td>\n",
       "      <td>0</td>\n",
       "      <td>0</td>\n",
       "      <td>0</td>\n",
       "      <td>0</td>\n",
       "      <td>0</td>\n",
       "      <td>0.693147</td>\n",
       "      <td>0.497369</td>\n",
       "      <td>0.5584</td>\n",
       "    </tr>\n",
       "    <tr>\n",
       "      <th>3</th>\n",
       "      <td>1.632953</td>\n",
       "      <td>0</td>\n",
       "      <td>1.0</td>\n",
       "      <td>0</td>\n",
       "      <td>0</td>\n",
       "      <td>0</td>\n",
       "      <td>0</td>\n",
       "      <td>0</td>\n",
       "      <td>0</td>\n",
       "      <td>0</td>\n",
       "      <td>...</td>\n",
       "      <td>0</td>\n",
       "      <td>1</td>\n",
       "      <td>0</td>\n",
       "      <td>0</td>\n",
       "      <td>0</td>\n",
       "      <td>0</td>\n",
       "      <td>0</td>\n",
       "      <td>2.197225</td>\n",
       "      <td>0.497369</td>\n",
       "      <td>0.5584</td>\n",
       "    </tr>\n",
       "    <tr>\n",
       "      <th>4</th>\n",
       "      <td>1.624079</td>\n",
       "      <td>0</td>\n",
       "      <td>1.0</td>\n",
       "      <td>0</td>\n",
       "      <td>0</td>\n",
       "      <td>0</td>\n",
       "      <td>0</td>\n",
       "      <td>0</td>\n",
       "      <td>0</td>\n",
       "      <td>0</td>\n",
       "      <td>...</td>\n",
       "      <td>0</td>\n",
       "      <td>1</td>\n",
       "      <td>0</td>\n",
       "      <td>0</td>\n",
       "      <td>0</td>\n",
       "      <td>0</td>\n",
       "      <td>0</td>\n",
       "      <td>0.693147</td>\n",
       "      <td>0.497369</td>\n",
       "      <td>0.5584</td>\n",
       "    </tr>\n",
       "  </tbody>\n",
       "</table>\n",
       "<p>5 rows × 35 columns</p>\n",
       "</div>"
      ],
      "text/plain": [
       "   mean_item_unit_sales  onpromotion  perishable  city_Ambato  city_Guayaquil  \\\n",
       "0              2.051276            0         1.0            0               0   \n",
       "1              2.737654            0         1.0            0               0   \n",
       "2              1.659467            0         1.0            0               0   \n",
       "3              1.632953            0         1.0            0               0   \n",
       "4              1.624079            0         1.0            0               0   \n",
       "\n",
       "   city_Santo Domingo  state_Bolivar  state_Guayas  state_Los Rios  \\\n",
       "0                   0              0             0               0   \n",
       "1                   0              0             0               0   \n",
       "2                   0              0             0               0   \n",
       "3                   0              0             0               0   \n",
       "4                   0              0             0               0   \n",
       "\n",
       "   state_Manabi         ...           dow_0  dow_1  dow_2  dow_3  dow_4  \\\n",
       "0             0         ...               0      1      0      0      0   \n",
       "1             0         ...               0      1      0      0      0   \n",
       "2             0         ...               0      1      0      0      0   \n",
       "3             0         ...               0      1      0      0      0   \n",
       "4             0         ...               0      1      0      0      0   \n",
       "\n",
       "   dow_5  dow_6  unit_sales  dcoilwtico_scaled  transactions_scaled  \n",
       "0      0      0    1.386294           0.497369               0.5584  \n",
       "1      0      0    2.639057           0.497369               0.5584  \n",
       "2      0      0    0.693147           0.497369               0.5584  \n",
       "3      0      0    2.197225           0.497369               0.5584  \n",
       "4      0      0    0.693147           0.497369               0.5584  \n",
       "\n",
       "[5 rows x 35 columns]"
      ]
     },
     "execution_count": 16,
     "metadata": {},
     "output_type": "execute_result"
    }
   ],
   "source": [
    "train_dcoilwtico, test_dcoilwtico = scale_to_a_range(data.processed_train.dcoilwtico, data.processed_test.dcoilwtico)\n",
    "data.processed_train['dcoilwtico_scaled'] = train_dcoilwtico\n",
    "data.processed_test['dcoilwtico_scaled'] = test_dcoilwtico\n",
    "train_transactions, test_transactions = scale_to_a_range(data.processed_train.transactions, data.processed_test.transactions)\n",
    "data.processed_train['transactions_scaled'] = train_transactions\n",
    "data.processed_test['transactions_scaled'] = test_transactions\n",
    "\n",
    "data.processed_train.drop(['dcoilwtico'], axis=1, inplace=True)\n",
    "data.processed_test.drop(['dcoilwtico'], axis=1, inplace=True)\n",
    "data.processed_train.drop(['transactions'], axis=1, inplace=True)\n",
    "data.processed_test.drop(['transactions'], axis=1, inplace=True)\n",
    "data.processed_train.head()"
   ]
  },
  {
   "cell_type": "code",
   "execution_count": null,
   "metadata": {
    "collapsed": true
   },
   "outputs": [],
   "source": [
    "train_mawk, test_mawk = scale_to_a_range(data.processed_train.mawk, data.processed_test.mawk)\n",
    "data.processed_train['mawk_scaled'] = train_mawk\n",
    "data.processed_test['mawk_scaled'] = test_mawk\n",
    "\n",
    "train_mais, test_mais = scale_to_a_range(data.processed_train.mais, data.processed_test.mais)\n",
    "data.processed_train['mais_scaled'] = train_mais\n",
    "data.processed_test['mais_scaled'] = test_mais\n",
    "\n",
    "train_madw, test_madw = scale_to_a_range(data.processed_train.madw, data.processed_test.madw)\n",
    "data.processed_train['madw_scaled'] = train_madw\n",
    "data.processed_test['madw_scaled'] = test_madw\n",
    "\n",
    "train_ma_wk_transactions, test_ma_wk_transactions = scale_to_a_range(data.processed_train.ma_wk_transactions, \n",
    "                                                                     data.processed_test.ma_wk_transactions)\n",
    "data.processed_train['ma_wk_transactions_scaled'] = train_ma_wk_transactions\n",
    "data.processed_test['ma_wk_transactions_scaled'] = test_ma_wk_transactions\n",
    "\n",
    "train_mais_transactions, test_mais_transactions = scale_to_a_range(data.processed_train.mais_transactions, \n",
    "                                                                   data.processed_test.mais_transactions)\n",
    "data.processed_train['mais_transactions_scaled'] = train_mais_transactions\n",
    "data.processed_test['mais_transactions_scaled'] = test_mais_transactions\n",
    "\n",
    "train_ma_dw_transactions, test_ma_dw_transactions = scale_to_a_range(data.processed_train.ma_dw_transactions, \n",
    "                                                                     data.processed_test.ma_dw_transactions)\n",
    "data.processed_train['ma_dw_transactions_scaled'] = train_ma_dw_transactions\n",
    "data.processed_test['ma_dw_transactions_scaled'] = test_ma_dw_transactions\n",
    "\n",
    "\n",
    "data.processed_train.drop(['mawk'], axis=1, inplace=True)\n",
    "data.processed_test.drop(['mawk'], axis=1, inplace=True)\n",
    "data.processed_train.drop(['mais'], axis=1, inplace=True)\n",
    "data.processed_test.drop(['mais'], axis=1, inplace=True)\n",
    "data.processed_train.drop(['madw'], axis=1, inplace=True)\n",
    "data.processed_test.drop(['madw'], axis=1, inplace=True)\n",
    "\n",
    "data.processed_train.drop(['ma_wk_transactions'], axis=1, inplace=True)\n",
    "data.processed_test.drop(['ma_wk_transactions'], axis=1, inplace=True)\n",
    "data.processed_train.drop(['mais_transactions'], axis=1, inplace=True)\n",
    "data.processed_test.drop(['mais_transactions'], axis=1, inplace=True)\n",
    "data.processed_train.drop(['ma_dw_transactions'], axis=1, inplace=True)\n",
    "data.processed_test.drop(['ma_dw_transactions'], axis=1, inplace=True)\n",
    "data.processed_train.head()\n",
    "\n",
    "train_madw_dcoilwtico, test_madw_dcoilwtico = scale_to_a_range(data.processed_train.madw_dcoilwtico, \n",
    "                                                                     data.processed_test.madw_dcoilwtico)\n",
    "data.processed_train['madw_dcoilwtico_scaled'] = train_madw_dcoilwtico\n",
    "data.processed_test['madw_dcoilwtico_scaled'] = test_madw_dcoilwtico\n",
    "\n",
    "data.processed_train.drop(['madw_dcoilwtico'], axis=1, inplace=True)\n",
    "data.processed_test.drop(['madw_dcoilwtico'], axis=1, inplace=True)"
   ]
  },
  {
   "cell_type": "code",
   "execution_count": 13,
   "metadata": {},
   "outputs": [
    {
     "data": {
      "text/html": [
       "<div>\n",
       "<style>\n",
       "    .dataframe thead tr:only-child th {\n",
       "        text-align: right;\n",
       "    }\n",
       "\n",
       "    .dataframe thead th {\n",
       "        text-align: left;\n",
       "    }\n",
       "\n",
       "    .dataframe tbody tr th {\n",
       "        vertical-align: top;\n",
       "    }\n",
       "</style>\n",
       "<table border=\"1\" class=\"dataframe\">\n",
       "  <thead>\n",
       "    <tr style=\"text-align: right;\">\n",
       "      <th></th>\n",
       "      <th>mean_item_unit_sales</th>\n",
       "      <th>city_Ambato</th>\n",
       "      <th>city_Guayaquil</th>\n",
       "      <th>city_Santo Domingo</th>\n",
       "      <th>state_Bolivar</th>\n",
       "      <th>state_Guayas</th>\n",
       "      <th>state_Los Rios</th>\n",
       "      <th>state_Manabi</th>\n",
       "      <th>state_Pichincha</th>\n",
       "      <th>state_Santo Domingo de los Tsachilas</th>\n",
       "      <th>...</th>\n",
       "      <th>dow_0</th>\n",
       "      <th>dow_1</th>\n",
       "      <th>dow_2</th>\n",
       "      <th>dow_3</th>\n",
       "      <th>dow_4</th>\n",
       "      <th>dow_5</th>\n",
       "      <th>dow_6</th>\n",
       "      <th>dcoilwtico_scaled</th>\n",
       "      <th>transactions_scaled</th>\n",
       "      <th>unit_sales</th>\n",
       "    </tr>\n",
       "  </thead>\n",
       "  <tbody>\n",
       "    <tr>\n",
       "      <th>0</th>\n",
       "      <td>2.051276</td>\n",
       "      <td>0</td>\n",
       "      <td>0</td>\n",
       "      <td>0</td>\n",
       "      <td>0</td>\n",
       "      <td>0</td>\n",
       "      <td>0</td>\n",
       "      <td>0</td>\n",
       "      <td>1</td>\n",
       "      <td>0</td>\n",
       "      <td>...</td>\n",
       "      <td>0</td>\n",
       "      <td>1</td>\n",
       "      <td>0</td>\n",
       "      <td>0</td>\n",
       "      <td>0</td>\n",
       "      <td>0</td>\n",
       "      <td>0</td>\n",
       "      <td>0.497369</td>\n",
       "      <td>0.278332</td>\n",
       "      <td>1.386294</td>\n",
       "    </tr>\n",
       "    <tr>\n",
       "      <th>1</th>\n",
       "      <td>2.737654</td>\n",
       "      <td>0</td>\n",
       "      <td>0</td>\n",
       "      <td>0</td>\n",
       "      <td>0</td>\n",
       "      <td>0</td>\n",
       "      <td>0</td>\n",
       "      <td>0</td>\n",
       "      <td>1</td>\n",
       "      <td>0</td>\n",
       "      <td>...</td>\n",
       "      <td>0</td>\n",
       "      <td>1</td>\n",
       "      <td>0</td>\n",
       "      <td>0</td>\n",
       "      <td>0</td>\n",
       "      <td>0</td>\n",
       "      <td>0</td>\n",
       "      <td>0.497369</td>\n",
       "      <td>0.278332</td>\n",
       "      <td>2.639057</td>\n",
       "    </tr>\n",
       "    <tr>\n",
       "      <th>2</th>\n",
       "      <td>1.659467</td>\n",
       "      <td>0</td>\n",
       "      <td>0</td>\n",
       "      <td>0</td>\n",
       "      <td>0</td>\n",
       "      <td>0</td>\n",
       "      <td>0</td>\n",
       "      <td>0</td>\n",
       "      <td>1</td>\n",
       "      <td>0</td>\n",
       "      <td>...</td>\n",
       "      <td>0</td>\n",
       "      <td>1</td>\n",
       "      <td>0</td>\n",
       "      <td>0</td>\n",
       "      <td>0</td>\n",
       "      <td>0</td>\n",
       "      <td>0</td>\n",
       "      <td>0.497369</td>\n",
       "      <td>0.278332</td>\n",
       "      <td>0.693147</td>\n",
       "    </tr>\n",
       "    <tr>\n",
       "      <th>3</th>\n",
       "      <td>1.632953</td>\n",
       "      <td>0</td>\n",
       "      <td>0</td>\n",
       "      <td>0</td>\n",
       "      <td>0</td>\n",
       "      <td>0</td>\n",
       "      <td>0</td>\n",
       "      <td>0</td>\n",
       "      <td>1</td>\n",
       "      <td>0</td>\n",
       "      <td>...</td>\n",
       "      <td>0</td>\n",
       "      <td>1</td>\n",
       "      <td>0</td>\n",
       "      <td>0</td>\n",
       "      <td>0</td>\n",
       "      <td>0</td>\n",
       "      <td>0</td>\n",
       "      <td>0.497369</td>\n",
       "      <td>0.278332</td>\n",
       "      <td>2.197225</td>\n",
       "    </tr>\n",
       "    <tr>\n",
       "      <th>4</th>\n",
       "      <td>1.624079</td>\n",
       "      <td>0</td>\n",
       "      <td>0</td>\n",
       "      <td>0</td>\n",
       "      <td>0</td>\n",
       "      <td>0</td>\n",
       "      <td>0</td>\n",
       "      <td>0</td>\n",
       "      <td>1</td>\n",
       "      <td>0</td>\n",
       "      <td>...</td>\n",
       "      <td>0</td>\n",
       "      <td>1</td>\n",
       "      <td>0</td>\n",
       "      <td>0</td>\n",
       "      <td>0</td>\n",
       "      <td>0</td>\n",
       "      <td>0</td>\n",
       "      <td>0.497369</td>\n",
       "      <td>0.278332</td>\n",
       "      <td>0.693147</td>\n",
       "    </tr>\n",
       "  </tbody>\n",
       "</table>\n",
       "<p>5 rows × 37 columns</p>\n",
       "</div>"
      ],
      "text/plain": [
       "   mean_item_unit_sales  city_Ambato  city_Guayaquil  city_Santo Domingo  \\\n",
       "0              2.051276            0               0                   0   \n",
       "1              2.737654            0               0                   0   \n",
       "2              1.659467            0               0                   0   \n",
       "3              1.632953            0               0                   0   \n",
       "4              1.624079            0               0                   0   \n",
       "\n",
       "   state_Bolivar  state_Guayas  state_Los Rios  state_Manabi  state_Pichincha  \\\n",
       "0              0             0               0             0                1   \n",
       "1              0             0               0             0                1   \n",
       "2              0             0               0             0                1   \n",
       "3              0             0               0             0                1   \n",
       "4              0             0               0             0                1   \n",
       "\n",
       "   state_Santo Domingo de los Tsachilas     ...      dow_0  dow_1  dow_2  \\\n",
       "0                                     0     ...          0      1      0   \n",
       "1                                     0     ...          0      1      0   \n",
       "2                                     0     ...          0      1      0   \n",
       "3                                     0     ...          0      1      0   \n",
       "4                                     0     ...          0      1      0   \n",
       "\n",
       "   dow_3  dow_4  dow_5  dow_6  dcoilwtico_scaled  transactions_scaled  \\\n",
       "0      0      0      0      0           0.497369             0.278332   \n",
       "1      0      0      0      0           0.497369             0.278332   \n",
       "2      0      0      0      0           0.497369             0.278332   \n",
       "3      0      0      0      0           0.497369             0.278332   \n",
       "4      0      0      0      0           0.497369             0.278332   \n",
       "\n",
       "   unit_sales  \n",
       "0    1.386294  \n",
       "1    2.639057  \n",
       "2    0.693147  \n",
       "3    2.197225  \n",
       "4    0.693147  \n",
       "\n",
       "[5 rows x 37 columns]"
      ]
     },
     "execution_count": 13,
     "metadata": {},
     "output_type": "execute_result"
    }
   ],
   "source": [
    "data.processed_train.to_csv(\"/Users/hanshany/Documents/USC/EE660/Final project/train_2016_processed_f_s.csv\", index=False)\n",
    "data.processed_test.to_csv(\"/Users/hanshany/Documents/USC/EE660/Final project/test_2016_processed_f_s.csv\", index=False)"
   ]
  },
  {
   "cell_type": "code",
   "execution_count": 11,
   "metadata": {
    "collapsed": true
   },
   "outputs": [],
   "source": [
    "types = {\n",
    "        'dcoilwtico':'float32',\n",
    "        'mean_item_unit_sales':'float32',\n",
    "        'onpromotion':'int8',\n",
    "        'perishable':'float64',\n",
    "        'transactions':'float16',\n",
    "        'city_Ambato':'uint8',\n",
    "        'city_Guayaquil':'uint8',\n",
    "        'city_Santo Domingo':'uint8',\n",
    "        'state_Bolivar':'uint8',\n",
    "        'state_Guayas':'uint8',\n",
    "        'state_Los Rios':'uint8',\n",
    "        'state_Manabi':'uint8',\n",
    "        'state_Pichincha':'uint8',\n",
    "        'state_Santo Domingo de los Tsachilas':'uint8',\n",
    "        'state_Tungurahua':'uint8',\n",
    "        'type_A':'uint8',\n",
    "        'type_D':'uint8',\n",
    "        'cluster_1':'uint8',\n",
    "        'cluster_4':'uint8',\n",
    "        'cluster_7':'uint8',\n",
    "        'cluster_9':'uint8',\n",
    "        'cluster_10':'uint8',\n",
    "        'cluster_15':'uint8',\n",
    "        'year':'int64',\n",
    "        'mawk':'float16',\n",
    "        'mais':'float16',\n",
    "        'madw':'float16',\n",
    "        'ma_wk_transactions':'float16',\n",
    "        'mais_transactions':'float16',\n",
    "        'ma_dw_transactions':'float64',\n",
    "        'madw_dcoilwtico':'float16',\n",
    "        'month_1':'uint8',\n",
    "        'month_2':'uint8',\n",
    "        'month_3':'uint8',\n",
    "        'month_4':'uint8',\n",
    "        'month_5':'uint8',\n",
    "        'month_6':'uint8',\n",
    "        'month_7':'uint8',\n",
    "        'month_8':'uint8',\n",
    "        'month_9':'uint8',\n",
    "        'month_10':'uint8',\n",
    "        'month_11':'uint8',\n",
    "        'month_12':'uint8',\n",
    "        'dayoff_False':'uint8',\n",
    "        'dayoff_True':'uint8',\n",
    "        'dow_0':'uint8',\n",
    "        'dow_1':'uint8',\n",
    "        'dow_2':'uint8',\n",
    "        'dow_3':'uint8',\n",
    "        'dow_4':'uint8',\n",
    "        'dow_5':'uint8',\n",
    "        'dow_6':'uint8',\n",
    "        'unit_sales':'float32',\n",
    "        }\n",
    "\n",
    "# process_train_1 = pd.read_csv('/Users/hanshany/Documents/USC/EE660/Final project/train_2016_processed_f_s.csv', dtype = types)\n",
    "process_test_1 = pd.read_csv('/Users/hanshany/Documents/USC/EE660/Final project/test_2016_processed_f_s.csv', dtype = types)"
   ]
  },
  {
   "cell_type": "code",
   "execution_count": null,
   "metadata": {
    "collapsed": true
   },
   "outputs": [],
   "source": [
    "# split 2016-9\n",
    "processed_train_2016_9 = process_train_1[(process_train_1.month_9 == 1) & (process_train_1.year_scaled == 0)]\n",
    "processed_train_2016_9.head()"
   ]
  },
  {
   "cell_type": "code",
   "execution_count": null,
   "metadata": {
    "collapsed": true
   },
   "outputs": [],
   "source": [
    "# move unit_sales to the last column \n",
    "process_train_1 = data.processed_train\n",
    "process_test_1 = data.processed_test\n",
    "unit_sales_train = process_train_1.unit_sales\n",
    "process_train_1.drop(['unit_sales'], axis=1, inplace=True)\n",
    "process_train_1.insert(len(process_train_1.columns),'unit_sales',unit_sales_train)\n",
    "unit_sales_test = process_test_1.unit_sales\n",
    "process_test_1.drop(['unit_sales'], axis=1, inplace=True)\n",
    "process_test_1.insert(len(process_test_1.columns),'unit_sales',unit_sales_test)\n",
    "process_test_1.head()"
   ]
  },
  {
   "cell_type": "markdown",
   "metadata": {},
   "source": [
    "# 4 Model fitting"
   ]
  },
  {
   "cell_type": "markdown",
   "metadata": {},
   "source": [
    "## 4.1 Linear regression"
   ]
  },
  {
   "cell_type": "code",
   "execution_count": 19,
   "metadata": {},
   "outputs": [
    {
     "name": "stdout",
     "output_type": "stream",
     "text": [
      "model start!\n",
      "model finish ;)\n",
      "Don't worry!\n",
      "Calm down~!~\n",
      "Finish~~\n",
      "[  4.75261284e-01   4.89328395e-01  -5.48749404e+20   4.71083571e-01\n",
      "   4.81317245e-01]\n"
     ]
    }
   ],
   "source": [
    "# train model\n",
    "train = process_train_1\n",
    "test = process_test_1\n",
    "\n",
    "train_np = train.as_matrix()\n",
    "test_np = test.as_matrix()\n",
    "\n",
    "X_train = train_np[:,:-1]\n",
    "y_train = train_np[:,-1]\n",
    "\n",
    "X_test = test_np[:,:-1]\n",
    "y_test = test_np[:,-1]\n",
    "\n",
    "print(\"model start!\")\n",
    "r_lin = linear_model.LinearRegression()\n",
    "r_lin.fit(X_train, y_train)\n",
    "print(\"model finish ;)\")\n",
    "print(\"Don't worry!\")\n",
    "print(\"Calm down~!~\")\n",
    "predict_test = r_lin.predict(X_test)\n",
    "print(\"Finish~~\")\n",
    "\n",
    "scores = cross_val_score(r_lin, X_train, y_train, cv=5)\n",
    "print(scores)"
   ]
  },
  {
   "cell_type": "code",
   "execution_count": 25,
   "metadata": {},
   "outputs": [
    {
     "name": "stdout",
     "output_type": "stream",
     "text": [
      "0.479997332934\n"
     ]
    }
   ],
   "source": [
    "print(r_lin.score(X_train, y_train))"
   ]
  },
  {
   "cell_type": "code",
   "execution_count": 26,
   "metadata": {},
   "outputs": [
    {
     "data": {
      "text/plain": [
       "array([  2.98198710e+11,   2.98198710e+11,   2.98198710e+11, ...,\n",
       "         2.98198710e+11,   2.98198710e+11,   2.98198710e+11])"
      ]
     },
     "execution_count": 26,
     "metadata": {},
     "output_type": "execute_result"
    }
   ],
   "source": [
    "predict_test"
   ]
  },
  {
   "cell_type": "code",
   "execution_count": 27,
   "metadata": {
    "scrolled": true
   },
   "outputs": [
    {
     "data": {
      "text/plain": [
       "0          inf\n",
       "1          inf\n",
       "2          inf\n",
       "3          inf\n",
       "4          inf\n",
       "5          inf\n",
       "6          inf\n",
       "7          inf\n",
       "8          inf\n",
       "9          inf\n",
       "10         inf\n",
       "11         inf\n",
       "12         inf\n",
       "13         inf\n",
       "14         inf\n",
       "15         inf\n",
       "16         inf\n",
       "17         inf\n",
       "18         inf\n",
       "19         inf\n",
       "20         inf\n",
       "21         inf\n",
       "22         inf\n",
       "23         inf\n",
       "24         inf\n",
       "25         inf\n",
       "26         inf\n",
       "27         inf\n",
       "28         inf\n",
       "29         inf\n",
       "          ... \n",
       "3370434    inf\n",
       "3370435    inf\n",
       "3370436    inf\n",
       "3370437    inf\n",
       "3370438    inf\n",
       "3370439    inf\n",
       "3370440    inf\n",
       "3370441    inf\n",
       "3370442    inf\n",
       "3370443    inf\n",
       "3370444    inf\n",
       "3370445    inf\n",
       "3370446    inf\n",
       "3370447    inf\n",
       "3370448    inf\n",
       "3370449    inf\n",
       "3370450    inf\n",
       "3370451    inf\n",
       "3370452    inf\n",
       "3370453    inf\n",
       "3370454    inf\n",
       "3370455    inf\n",
       "3370456    inf\n",
       "3370457    inf\n",
       "3370458    inf\n",
       "3370459    inf\n",
       "3370460    inf\n",
       "3370461    inf\n",
       "3370462    inf\n",
       "3370463    inf\n",
       "Name: unit_sales, Length: 3370464, dtype: float64"
      ]
     },
     "execution_count": 27,
     "metadata": {},
     "output_type": "execute_result"
    }
   ],
   "source": [
    "predict_test\n",
    "y_test = pd.DataFrame(predict_test)\n",
    "y_test.columns = ['unit_sales']\n",
    "y_test.unit_sales.apply(pd.np.expm1)"
   ]
  },
  {
   "cell_type": "code",
   "execution_count": 47,
   "metadata": {
    "scrolled": true
   },
   "outputs": [
    {
     "data": {
      "text/html": [
       "<div>\n",
       "<style scoped>\n",
       "    .dataframe tbody tr th:only-of-type {\n",
       "        vertical-align: middle;\n",
       "    }\n",
       "\n",
       "    .dataframe tbody tr th {\n",
       "        vertical-align: top;\n",
       "    }\n",
       "\n",
       "    .dataframe thead th {\n",
       "        text-align: right;\n",
       "    }\n",
       "</style>\n",
       "<table border=\"1\" class=\"dataframe\">\n",
       "  <thead>\n",
       "    <tr style=\"text-align: right;\">\n",
       "      <th></th>\n",
       "      <th>unit_sales</th>\n",
       "    </tr>\n",
       "  </thead>\n",
       "  <tbody>\n",
       "    <tr>\n",
       "      <th>0</th>\n",
       "      <td>-9.576215e+07</td>\n",
       "    </tr>\n",
       "    <tr>\n",
       "      <th>1</th>\n",
       "      <td>-9.576215e+07</td>\n",
       "    </tr>\n",
       "    <tr>\n",
       "      <th>2</th>\n",
       "      <td>-9.576215e+07</td>\n",
       "    </tr>\n",
       "    <tr>\n",
       "      <th>3</th>\n",
       "      <td>-9.576215e+07</td>\n",
       "    </tr>\n",
       "    <tr>\n",
       "      <th>4</th>\n",
       "      <td>-9.576215e+07</td>\n",
       "    </tr>\n",
       "    <tr>\n",
       "      <th>5</th>\n",
       "      <td>-9.576215e+07</td>\n",
       "    </tr>\n",
       "    <tr>\n",
       "      <th>6</th>\n",
       "      <td>-9.576215e+07</td>\n",
       "    </tr>\n",
       "    <tr>\n",
       "      <th>7</th>\n",
       "      <td>-9.576215e+07</td>\n",
       "    </tr>\n",
       "    <tr>\n",
       "      <th>8</th>\n",
       "      <td>-9.576215e+07</td>\n",
       "    </tr>\n",
       "    <tr>\n",
       "      <th>9</th>\n",
       "      <td>-9.576215e+07</td>\n",
       "    </tr>\n",
       "    <tr>\n",
       "      <th>10</th>\n",
       "      <td>-9.576215e+07</td>\n",
       "    </tr>\n",
       "    <tr>\n",
       "      <th>11</th>\n",
       "      <td>-9.576215e+07</td>\n",
       "    </tr>\n",
       "    <tr>\n",
       "      <th>12</th>\n",
       "      <td>-9.576215e+07</td>\n",
       "    </tr>\n",
       "    <tr>\n",
       "      <th>13</th>\n",
       "      <td>-9.576215e+07</td>\n",
       "    </tr>\n",
       "    <tr>\n",
       "      <th>14</th>\n",
       "      <td>-9.576215e+07</td>\n",
       "    </tr>\n",
       "    <tr>\n",
       "      <th>15</th>\n",
       "      <td>-9.576215e+07</td>\n",
       "    </tr>\n",
       "    <tr>\n",
       "      <th>16</th>\n",
       "      <td>-9.576215e+07</td>\n",
       "    </tr>\n",
       "    <tr>\n",
       "      <th>17</th>\n",
       "      <td>-9.576215e+07</td>\n",
       "    </tr>\n",
       "    <tr>\n",
       "      <th>18</th>\n",
       "      <td>-9.576215e+07</td>\n",
       "    </tr>\n",
       "    <tr>\n",
       "      <th>19</th>\n",
       "      <td>-9.576214e+07</td>\n",
       "    </tr>\n",
       "    <tr>\n",
       "      <th>20</th>\n",
       "      <td>-9.576214e+07</td>\n",
       "    </tr>\n",
       "    <tr>\n",
       "      <th>21</th>\n",
       "      <td>-9.576215e+07</td>\n",
       "    </tr>\n",
       "    <tr>\n",
       "      <th>22</th>\n",
       "      <td>-9.576215e+07</td>\n",
       "    </tr>\n",
       "    <tr>\n",
       "      <th>23</th>\n",
       "      <td>-9.576215e+07</td>\n",
       "    </tr>\n",
       "    <tr>\n",
       "      <th>24</th>\n",
       "      <td>-9.576215e+07</td>\n",
       "    </tr>\n",
       "    <tr>\n",
       "      <th>25</th>\n",
       "      <td>-9.576215e+07</td>\n",
       "    </tr>\n",
       "    <tr>\n",
       "      <th>26</th>\n",
       "      <td>-9.576215e+07</td>\n",
       "    </tr>\n",
       "    <tr>\n",
       "      <th>27</th>\n",
       "      <td>-9.576215e+07</td>\n",
       "    </tr>\n",
       "    <tr>\n",
       "      <th>28</th>\n",
       "      <td>-9.576214e+07</td>\n",
       "    </tr>\n",
       "    <tr>\n",
       "      <th>29</th>\n",
       "      <td>-9.576215e+07</td>\n",
       "    </tr>\n",
       "    <tr>\n",
       "      <th>...</th>\n",
       "      <td>...</td>\n",
       "    </tr>\n",
       "    <tr>\n",
       "      <th>3370434</th>\n",
       "      <td>-9.576215e+07</td>\n",
       "    </tr>\n",
       "    <tr>\n",
       "      <th>3370435</th>\n",
       "      <td>-9.576215e+07</td>\n",
       "    </tr>\n",
       "    <tr>\n",
       "      <th>3370436</th>\n",
       "      <td>-9.576214e+07</td>\n",
       "    </tr>\n",
       "    <tr>\n",
       "      <th>3370437</th>\n",
       "      <td>-9.576214e+07</td>\n",
       "    </tr>\n",
       "    <tr>\n",
       "      <th>3370438</th>\n",
       "      <td>-9.576215e+07</td>\n",
       "    </tr>\n",
       "    <tr>\n",
       "      <th>3370439</th>\n",
       "      <td>-9.576215e+07</td>\n",
       "    </tr>\n",
       "    <tr>\n",
       "      <th>3370440</th>\n",
       "      <td>-9.576215e+07</td>\n",
       "    </tr>\n",
       "    <tr>\n",
       "      <th>3370441</th>\n",
       "      <td>-9.576215e+07</td>\n",
       "    </tr>\n",
       "    <tr>\n",
       "      <th>3370442</th>\n",
       "      <td>-9.576214e+07</td>\n",
       "    </tr>\n",
       "    <tr>\n",
       "      <th>3370443</th>\n",
       "      <td>-9.576215e+07</td>\n",
       "    </tr>\n",
       "    <tr>\n",
       "      <th>3370444</th>\n",
       "      <td>-9.576215e+07</td>\n",
       "    </tr>\n",
       "    <tr>\n",
       "      <th>3370445</th>\n",
       "      <td>-9.576215e+07</td>\n",
       "    </tr>\n",
       "    <tr>\n",
       "      <th>3370446</th>\n",
       "      <td>-9.576215e+07</td>\n",
       "    </tr>\n",
       "    <tr>\n",
       "      <th>3370447</th>\n",
       "      <td>-9.576215e+07</td>\n",
       "    </tr>\n",
       "    <tr>\n",
       "      <th>3370448</th>\n",
       "      <td>-9.576215e+07</td>\n",
       "    </tr>\n",
       "    <tr>\n",
       "      <th>3370449</th>\n",
       "      <td>-9.576215e+07</td>\n",
       "    </tr>\n",
       "    <tr>\n",
       "      <th>3370450</th>\n",
       "      <td>-9.576215e+07</td>\n",
       "    </tr>\n",
       "    <tr>\n",
       "      <th>3370451</th>\n",
       "      <td>-9.576215e+07</td>\n",
       "    </tr>\n",
       "    <tr>\n",
       "      <th>3370452</th>\n",
       "      <td>-9.576215e+07</td>\n",
       "    </tr>\n",
       "    <tr>\n",
       "      <th>3370453</th>\n",
       "      <td>-9.576215e+07</td>\n",
       "    </tr>\n",
       "    <tr>\n",
       "      <th>3370454</th>\n",
       "      <td>-9.576215e+07</td>\n",
       "    </tr>\n",
       "    <tr>\n",
       "      <th>3370455</th>\n",
       "      <td>-9.576215e+07</td>\n",
       "    </tr>\n",
       "    <tr>\n",
       "      <th>3370456</th>\n",
       "      <td>-9.576215e+07</td>\n",
       "    </tr>\n",
       "    <tr>\n",
       "      <th>3370457</th>\n",
       "      <td>-9.576215e+07</td>\n",
       "    </tr>\n",
       "    <tr>\n",
       "      <th>3370458</th>\n",
       "      <td>-9.576215e+07</td>\n",
       "    </tr>\n",
       "    <tr>\n",
       "      <th>3370459</th>\n",
       "      <td>-9.576215e+07</td>\n",
       "    </tr>\n",
       "    <tr>\n",
       "      <th>3370460</th>\n",
       "      <td>-9.576215e+07</td>\n",
       "    </tr>\n",
       "    <tr>\n",
       "      <th>3370461</th>\n",
       "      <td>-9.576215e+07</td>\n",
       "    </tr>\n",
       "    <tr>\n",
       "      <th>3370462</th>\n",
       "      <td>-9.576215e+07</td>\n",
       "    </tr>\n",
       "    <tr>\n",
       "      <th>3370463</th>\n",
       "      <td>-9.576215e+07</td>\n",
       "    </tr>\n",
       "  </tbody>\n",
       "</table>\n",
       "<p>3370464 rows × 1 columns</p>\n",
       "</div>"
      ],
      "text/plain": [
       "           unit_sales\n",
       "0       -9.576215e+07\n",
       "1       -9.576215e+07\n",
       "2       -9.576215e+07\n",
       "3       -9.576215e+07\n",
       "4       -9.576215e+07\n",
       "5       -9.576215e+07\n",
       "6       -9.576215e+07\n",
       "7       -9.576215e+07\n",
       "8       -9.576215e+07\n",
       "9       -9.576215e+07\n",
       "10      -9.576215e+07\n",
       "11      -9.576215e+07\n",
       "12      -9.576215e+07\n",
       "13      -9.576215e+07\n",
       "14      -9.576215e+07\n",
       "15      -9.576215e+07\n",
       "16      -9.576215e+07\n",
       "17      -9.576215e+07\n",
       "18      -9.576215e+07\n",
       "19      -9.576214e+07\n",
       "20      -9.576214e+07\n",
       "21      -9.576215e+07\n",
       "22      -9.576215e+07\n",
       "23      -9.576215e+07\n",
       "24      -9.576215e+07\n",
       "25      -9.576215e+07\n",
       "26      -9.576215e+07\n",
       "27      -9.576215e+07\n",
       "28      -9.576214e+07\n",
       "29      -9.576215e+07\n",
       "...               ...\n",
       "3370434 -9.576215e+07\n",
       "3370435 -9.576215e+07\n",
       "3370436 -9.576214e+07\n",
       "3370437 -9.576214e+07\n",
       "3370438 -9.576215e+07\n",
       "3370439 -9.576215e+07\n",
       "3370440 -9.576215e+07\n",
       "3370441 -9.576215e+07\n",
       "3370442 -9.576214e+07\n",
       "3370443 -9.576215e+07\n",
       "3370444 -9.576215e+07\n",
       "3370445 -9.576215e+07\n",
       "3370446 -9.576215e+07\n",
       "3370447 -9.576215e+07\n",
       "3370448 -9.576215e+07\n",
       "3370449 -9.576215e+07\n",
       "3370450 -9.576215e+07\n",
       "3370451 -9.576215e+07\n",
       "3370452 -9.576215e+07\n",
       "3370453 -9.576215e+07\n",
       "3370454 -9.576215e+07\n",
       "3370455 -9.576215e+07\n",
       "3370456 -9.576215e+07\n",
       "3370457 -9.576215e+07\n",
       "3370458 -9.576215e+07\n",
       "3370459 -9.576215e+07\n",
       "3370460 -9.576215e+07\n",
       "3370461 -9.576215e+07\n",
       "3370462 -9.576215e+07\n",
       "3370463 -9.576215e+07\n",
       "\n",
       "[3370464 rows x 1 columns]"
      ]
     },
     "execution_count": 47,
     "metadata": {},
     "output_type": "execute_result"
    }
   ],
   "source": [
    "y_test = pd.DataFrame(predict_test)\n",
    "y_test.columns = ['unit_sales']\n",
    "res = pd.read_csv(\"/Princess/kaggle/sales_forecasting/sample_submission.csv\")\n",
    "res.drop(['unit_sales'], axis=1, inplace=True)\n",
    "res = pd.concat([res,y_test.unit_sales], axis=1)\n",
    "res.head()"
   ]
  },
  {
   "cell_type": "code",
   "execution_count": 56,
   "metadata": {
    "collapsed": true
   },
   "outputs": [],
   "source": [
    "res.to_csv(\"/Princess/kaggle/sales_forecasting/res_1.csv\", index=False)"
   ]
  },
  {
   "cell_type": "markdown",
   "metadata": {},
   "source": [
    "## 4.2 Xgboost"
   ]
  },
  {
   "cell_type": "code",
   "execution_count": null,
   "metadata": {
    "collapsed": true
   },
   "outputs": [],
   "source": [
    "from xgboost.sklearn import XGBClassifier"
   ]
  },
  {
   "cell_type": "code",
   "execution_count": 17,
   "metadata": {},
   "outputs": [
    {
     "ename": "AttributeError",
     "evalue": "module 'xgboost' has no attribute 'XGBClassifier'",
     "output_type": "error",
     "traceback": [
      "\u001b[0;31m---------------------------------------------------------------------------\u001b[0m",
      "\u001b[0;31mAttributeError\u001b[0m                            Traceback (most recent call last)",
      "\u001b[0;32m<ipython-input-17-23a715a2e269>\u001b[0m in \u001b[0;36m<module>\u001b[0;34m()\u001b[0m\n\u001b[1;32m      1\u001b[0m \u001b[0;31m# predictors = [x for x in train.columns if x not in [target,IDcol]]\u001b[0m\u001b[0;34m\u001b[0m\u001b[0;34m\u001b[0m\u001b[0m\n\u001b[1;32m      2\u001b[0m \u001b[0mpredictors\u001b[0m \u001b[0;34m=\u001b[0m \u001b[0;34m[\u001b[0m\u001b[0mx\u001b[0m \u001b[0;32mfor\u001b[0m \u001b[0mx\u001b[0m \u001b[0;32min\u001b[0m \u001b[0mtrain\u001b[0m\u001b[0;34m.\u001b[0m\u001b[0mcolumns\u001b[0m \u001b[0;32mif\u001b[0m \u001b[0mx\u001b[0m \u001b[0;32mnot\u001b[0m \u001b[0;32min\u001b[0m \u001b[0;34m[\u001b[0m\u001b[0;34m'unit_sales'\u001b[0m\u001b[0;34m]\u001b[0m\u001b[0;34m]\u001b[0m\u001b[0;34m\u001b[0m\u001b[0m\n\u001b[0;32m----> 3\u001b[0;31m xgb1 = xgb.XGBClassifier(\n\u001b[0m\u001b[1;32m      4\u001b[0m     \u001b[0mlearning_rate\u001b[0m \u001b[0;34m=\u001b[0m\u001b[0;36m0.1\u001b[0m\u001b[0;34m,\u001b[0m\u001b[0;34m\u001b[0m\u001b[0m\n\u001b[1;32m      5\u001b[0m     \u001b[0mn_estimators\u001b[0m\u001b[0;34m=\u001b[0m\u001b[0;36m1000\u001b[0m\u001b[0;34m,\u001b[0m\u001b[0;34m\u001b[0m\u001b[0m\n",
      "\u001b[0;31mAttributeError\u001b[0m: module 'xgboost' has no attribute 'XGBClassifier'"
     ]
    }
   ],
   "source": [
    "# read data\n",
    "dtrain = xgb.DMatrix(X_train, y_train)\n",
    "dtest = xgb.DMatrix(X_test, y_test)\n",
    "\n",
    "# set parameters\n",
    "param = {\n",
    "    'learning_rate': 0.1,\n",
    "    'n_estimators': 30,\n",
    "    'max_depth': 12,\n",
    "    'min_child_weight': 0.3,\n",
    "    'gamma': 0,\n",
    "    'subsample': 0.9,\n",
    "    'colsample_bytree': 0.8,\n",
    "    'objective': 'reg:linear',\n",
    "    'seed': 27,\n",
    "    'eta':0.3,\n",
    "    'eval_metric':'rmse'\n",
    "}\n",
    "\n",
    "# number of iteration\n",
    "num_round = 10 \n",
    "\n",
    "# training model\n",
    "bst = xgb.train(param, dtrain, num_round)\n",
    "\n",
    "# prediction\n",
    "preds = bst.predict(dtest)\n",
    "\n",
    "# print results\n",
    "y_hat = preds\n",
    "\n",
    "print(y_hat)"
   ]
  },
  {
   "cell_type": "code",
   "execution_count": 9,
   "metadata": {
    "collapsed": true
   },
   "outputs": [],
   "source": [
    "y_predict = y_hat"
   ]
  },
  {
   "cell_type": "code",
   "execution_count": 10,
   "metadata": {
    "collapsed": true
   },
   "outputs": [],
   "source": [
    "y_test = pd.DataFrame(y_predict)\n",
    "y_test.columns = ['unit_sales']\n",
    "y_test_res = y_test.unit_sales.apply(pd.np.expm1)"
   ]
  },
  {
   "cell_type": "code",
   "execution_count": 11,
   "metadata": {
    "collapsed": true
   },
   "outputs": [],
   "source": [
    "y_test_res = pd.DataFrame(y_test_res)\n",
    "y_test_res.columns = ['unit_sales']"
   ]
  },
  {
   "cell_type": "code",
   "execution_count": 12,
   "metadata": {},
   "outputs": [
    {
     "data": {
      "text/html": [
       "<div>\n",
       "<style>\n",
       "    .dataframe thead tr:only-child th {\n",
       "        text-align: right;\n",
       "    }\n",
       "\n",
       "    .dataframe thead th {\n",
       "        text-align: left;\n",
       "    }\n",
       "\n",
       "    .dataframe tbody tr th {\n",
       "        vertical-align: top;\n",
       "    }\n",
       "</style>\n",
       "<table border=\"1\" class=\"dataframe\">\n",
       "  <thead>\n",
       "    <tr style=\"text-align: right;\">\n",
       "      <th></th>\n",
       "      <th>unit_sales</th>\n",
       "    </tr>\n",
       "  </thead>\n",
       "  <tbody>\n",
       "    <tr>\n",
       "      <th>0</th>\n",
       "      <td>1.118989</td>\n",
       "    </tr>\n",
       "    <tr>\n",
       "      <th>1</th>\n",
       "      <td>1.600074</td>\n",
       "    </tr>\n",
       "    <tr>\n",
       "      <th>2</th>\n",
       "      <td>2.150055</td>\n",
       "    </tr>\n",
       "    <tr>\n",
       "      <th>3</th>\n",
       "      <td>1.798542</td>\n",
       "    </tr>\n",
       "    <tr>\n",
       "      <th>4</th>\n",
       "      <td>1.972731</td>\n",
       "    </tr>\n",
       "  </tbody>\n",
       "</table>\n",
       "</div>"
      ],
      "text/plain": [
       "   unit_sales\n",
       "0    1.118989\n",
       "1    1.600074\n",
       "2    2.150055\n",
       "3    1.798542\n",
       "4    1.972731"
      ]
     },
     "execution_count": 12,
     "metadata": {},
     "output_type": "execute_result"
    }
   ],
   "source": [
    "y_test_res.head()"
   ]
  },
  {
   "cell_type": "code",
   "execution_count": 13,
   "metadata": {},
   "outputs": [
    {
     "data": {
      "text/html": [
       "<div>\n",
       "<style>\n",
       "    .dataframe thead tr:only-child th {\n",
       "        text-align: right;\n",
       "    }\n",
       "\n",
       "    .dataframe thead th {\n",
       "        text-align: left;\n",
       "    }\n",
       "\n",
       "    .dataframe tbody tr th {\n",
       "        vertical-align: top;\n",
       "    }\n",
       "</style>\n",
       "<table border=\"1\" class=\"dataframe\">\n",
       "  <thead>\n",
       "    <tr style=\"text-align: right;\">\n",
       "      <th></th>\n",
       "      <th>id</th>\n",
       "      <th>unit_sales</th>\n",
       "    </tr>\n",
       "  </thead>\n",
       "  <tbody>\n",
       "    <tr>\n",
       "      <th>0</th>\n",
       "      <td>125497040</td>\n",
       "      <td>1.118989</td>\n",
       "    </tr>\n",
       "    <tr>\n",
       "      <th>1</th>\n",
       "      <td>125497041</td>\n",
       "      <td>1.600074</td>\n",
       "    </tr>\n",
       "    <tr>\n",
       "      <th>2</th>\n",
       "      <td>125497042</td>\n",
       "      <td>2.150055</td>\n",
       "    </tr>\n",
       "    <tr>\n",
       "      <th>3</th>\n",
       "      <td>125497043</td>\n",
       "      <td>1.798542</td>\n",
       "    </tr>\n",
       "    <tr>\n",
       "      <th>4</th>\n",
       "      <td>125497044</td>\n",
       "      <td>1.972731</td>\n",
       "    </tr>\n",
       "  </tbody>\n",
       "</table>\n",
       "</div>"
      ],
      "text/plain": [
       "          id  unit_sales\n",
       "0  125497040    1.118989\n",
       "1  125497041    1.600074\n",
       "2  125497042    2.150055\n",
       "3  125497043    1.798542\n",
       "4  125497044    1.972731"
      ]
     },
     "execution_count": 13,
     "metadata": {},
     "output_type": "execute_result"
    }
   ],
   "source": [
    "res = pd.read_csv(\"/Users/hanshany/Documents/USC/EE660/Final project/sample_submission.csv\")\n",
    "res.drop(['unit_sales'], axis=1, inplace=True)\n",
    "res = pd.concat([res,y_test_res.unit_sales], axis=1)\n",
    "res.head()"
   ]
  },
  {
   "cell_type": "markdown",
   "metadata": {},
   "source": [
    "## 4.3 Extra trees"
   ]
  },
  {
   "cell_type": "code",
   "execution_count": null,
   "metadata": {
    "collapsed": true
   },
   "outputs": [],
   "source": [
    "a = X_train.shape[1]"
   ]
  },
  {
   "cell_type": "code",
   "execution_count": null,
   "metadata": {
    "collapsed": true
   },
   "outputs": [],
   "source": [
    "reg = ExtraTreesRegressor(n_estimators=a, \n",
    "                          max_depth=None, \n",
    "                          min_samples_split=2, \n",
    "                          random_state=0)\n",
    "reg_etr = reg.fit(X_train, y_train)\n",
    "y_hat = reg_etr.predict(X_test)\n",
    "y_etr = y_hat\n",
    "print(y_etr)"
   ]
  },
  {
   "cell_type": "code",
   "execution_count": null,
   "metadata": {
    "collapsed": true
   },
   "outputs": [],
   "source": [
    "print(NWRMSLE(y_test, y_etr, test['perishable']))"
   ]
  },
  {
   "cell_type": "code",
   "execution_count": null,
   "metadata": {
    "collapsed": true
   },
   "outputs": [],
   "source": [
    "reg_etr.score(X_train, y_train)"
   ]
  },
  {
   "cell_type": "markdown",
   "metadata": {},
   "source": [
    "- The main parameters to adjust when using these methods is **n_estimators** and **max_features**. The former is the number of trees in the forest. The larger the better, but also the longer it will take to compute. In addition, note that results will stop getting significantly better beyond a critical number of trees. The latter is the size of the random subsets of features to consider when splitting a node. The lower the greater the reduction of variance, but also the greater the increase in bias. \n",
    "- Empirical good default values are **max_features=n_features** for **regression problems**, and **max_features=sqrt(n_features)** for **classification** tasks (where n_features is the number of features in the data). Good results are often achieved when setting **max_depth=None** in combination with **min_samples_split=2** (i.e., when fully developing the trees). Bear in mind though that these values are usually not optimal, and might result in models that consume a lot of RAM. The best parameter values should always be cross-validated. In addition, note that in random forests, bootstrap samples are used by default (bootstrap=True) while the default strategy for extra-trees is to use the whole dataset (bootstrap=False). When using bootstrap sampling the generalization accuracy can be estimated on the left out or out-of-bag samples. This can be enabled by setting oob_score=True."
   ]
  },
  {
   "cell_type": "code",
   "execution_count": null,
   "metadata": {
    "collapsed": true
   },
   "outputs": [],
   "source": [
    "y_predict = y_etr\n",
    "y_test = pd.DataFrame(y_predict)\n",
    "y_test.columns = ['unit_sales']\n",
    "y_test_res = y_test.unit_sales.apply(pd.np.expm1)\n",
    "y_test_res = pd.DataFrame(y_test_res)\n",
    "y_test_res.columns = ['unit_sales']\n",
    "res = pd.read_csv(\"/Users/hanshany/Documents/USC/EE660/Final project/sample_submission.csv\")\n",
    "res.drop(['unit_sales'], axis=1, inplace=True)\n",
    "res = pd.concat([res,y_test_res.unit_sales], axis=1)\n",
    "res.head()"
   ]
  },
  {
   "cell_type": "code",
   "execution_count": null,
   "metadata": {
    "collapsed": true
   },
   "outputs": [],
   "source": [
    "res.to_csv(\"/Users/hanshany/Documents/USC/EE660/Final project/res_extra_trees_16_8.csv\", index=False)"
   ]
  },
  {
   "cell_type": "markdown",
   "metadata": {},
   "source": [
    "## 4.4 Adaboost\n",
    "The number of weak learners is controlled by the parameter **n_estimators**. The learning_rate parameter controls the contribution of the weak learners in the final combination. By default, weak learners are decision stumps. Different weak learners can be specified through the base_estimator parameter. The main parameters to tune to obtain good results are n_estimators and the complexity of the base estimators (e.g., its depth max_depth or minimum required number of samples at a leaf min_samples_leaf in case of decision trees)."
   ]
  },
  {
   "cell_type": "code",
   "execution_count": null,
   "metadata": {
    "collapsed": true
   },
   "outputs": [],
   "source": [
    "from sklearn.ensemble import AdaBoostRegressor"
   ]
  },
  {
   "cell_type": "code",
   "execution_count": null,
   "metadata": {
    "collapsed": true
   },
   "outputs": [],
   "source": [
    "reg = AdaBoostRegressor(n_estimators=X_train.shape[1])\n",
    "reg_ada = reg.fit(X_train, y_train)\n",
    "y_hat = reg_ada.predict(X_test)\n",
    "y_ada = y_hat\n",
    "print(y_hat)"
   ]
  },
  {
   "cell_type": "code",
   "execution_count": null,
   "metadata": {
    "collapsed": true
   },
   "outputs": [],
   "source": [
    "reg = AdaBoostRegressor(n_estimators=X_train.shape[1])\n",
    "reg_ada = reg.fit(X_train, y_train)\n",
    "y_hat = reg_ada.predict(X_test)\n",
    "y_ada = y_hat\n",
    "print(y_hat)"
   ]
  },
  {
   "cell_type": "code",
   "execution_count": null,
   "metadata": {
    "collapsed": true
   },
   "outputs": [],
   "source": [
    "reg_ada.score(X_train, y_train)"
   ]
  },
  {
   "cell_type": "code",
   "execution_count": null,
   "metadata": {
    "collapsed": true
   },
   "outputs": [],
   "source": [
    "y_predict = y_hat\n",
    "y_test = pd.DataFrame(y_predict)\n",
    "y_test.columns = ['unit_sales']\n",
    "y_test_res = y_test.unit_sales.apply(pd.np.expm1)\n",
    "print(y_test_res.shape)\n",
    "y_test_res = pd.DataFrame(y_test_res)\n",
    "y_test_res.columns = ['unit_sales']\n",
    "print(y_test_res.shape)\n",
    "y_test_res.head()"
   ]
  },
  {
   "cell_type": "code",
   "execution_count": null,
   "metadata": {
    "collapsed": true
   },
   "outputs": [],
   "source": [
    "res = pd.read_csv(\"/Users/hanshany/Documents/USC/EE660/Final project/sample_submission.csv\")\n",
    "res.drop(['unit_sales'], axis=1, inplace=True)\n",
    "res = pd.concat([res,y_test_res.unit_sales], axis=1)\n",
    "res.head()"
   ]
  },
  {
   "cell_type": "code",
   "execution_count": null,
   "metadata": {
    "collapsed": true
   },
   "outputs": [],
   "source": [
    "res.to_csv(\"/Users/hanshany/Documents/USC/EE660/Final project/res_adaboost_8.csv\", index=False)"
   ]
  },
  {
   "cell_type": "markdown",
   "metadata": {},
   "source": [
    "## 4.5 Gradient Boosting"
   ]
  },
  {
   "cell_type": "code",
   "execution_count": 2,
   "metadata": {
    "collapsed": true
   },
   "outputs": [],
   "source": [
    "from sklearn.ensemble import GradientBoostingRegressor"
   ]
  },
  {
   "cell_type": "code",
   "execution_count": null,
   "metadata": {
    "collapsed": true
   },
   "outputs": [],
   "source": [
    "reg = GradientBoostingRegressor(n_estimators=a, \n",
    "                              max_depth=6, \n",
    "                              learning_rate = 0.04, \n",
    "                              verbose=0, \n",
    "                              warm_start=True,\n",
    "                              subsample= 0.87, \n",
    "                              max_features = 0.8) \n",
    "reg_gbr = reg.fit(X_train, y_train)\n",
    "y_hat = reg_gbr.predict(X_test)\n",
    "y_gbr = y_hat\n",
    "print(y_hat)"
   ]
  },
  {
   "cell_type": "code",
   "execution_count": null,
   "metadata": {
    "collapsed": true
   },
   "outputs": [],
   "source": [
    "r.score(X_train, y_train)"
   ]
  },
  {
   "cell_type": "code",
   "execution_count": null,
   "metadata": {
    "collapsed": true
   },
   "outputs": [],
   "source": [
    "y_predict = y_hat\n",
    "y_test = pd.DataFrame(y_predict)\n",
    "y_test.columns = ['unit_sales']\n",
    "y_test_res = y_test.unit_sales.apply(pd.np.expm1)\n",
    "print(y_test_res.shape)\n",
    "y_test_res = pd.DataFrame(y_test_res)\n",
    "y_test_res.columns = ['unit_sales']\n",
    "print(y_test_res.shape)\n",
    "y_test_res.head()"
   ]
  },
  {
   "cell_type": "code",
   "execution_count": null,
   "metadata": {
    "collapsed": true
   },
   "outputs": [],
   "source": [
    "res = pd.read_csv(\"/Users/hanshany/Documents/USC/EE660/Final project/sample_submission.csv\")\n",
    "res.drop(['unit_sales'], axis=1, inplace=True)\n",
    "res = pd.concat([res,y_test_res.unit_sales], axis=1)\n",
    "res.head()"
   ]
  },
  {
   "cell_type": "code",
   "execution_count": null,
   "metadata": {
    "collapsed": true
   },
   "outputs": [],
   "source": [
    "res.to_csv(\"/Users/hanshany/Documents/USC/EE660/Final project/res_adaboost_8.csv\", index=False)"
   ]
  },
  {
   "cell_type": "markdown",
   "metadata": {},
   "source": [
    "## 4.7 LightGBM"
   ]
  },
  {
   "cell_type": "code",
   "execution_count": 3,
   "metadata": {
    "collapsed": true
   },
   "outputs": [],
   "source": [
    "import lightgbm as lgb\n",
    "from sklearn.metrics import mean_squared_error"
   ]
  },
  {
   "cell_type": "code",
   "execution_count": 38,
   "metadata": {
    "collapsed": true
   },
   "outputs": [],
   "source": [
    "# num_leaves = 2^(max_depth)\n",
    "dtrain = processed_train_2016_8\n",
    "dtest = process_test_1\n",
    "traget = 'unit_sales'\n",
    "predictors = [x for x in processed_train_2016_8.columns if x not in ['unit_sales']]\n",
    "\n",
    "# split data\n",
    "train_data = lgb.Dataset(dtrain[predictors],label=dtrain['unit_sales'],feature_name=list(dtrain[predictors].columns))\n",
    "test_data = lgb.Dataset(dtest[predictors],label=dtest['unit_sales'],feature_name=list(dtest[predictors].columns))\n",
    "\n",
    "# set parameters\n",
    "params = {\n",
    "    'num_leaves': 2**5 - 1,\n",
    "    'objective': 'regression_l2',\n",
    "    'max_depth': 8,\n",
    "    'min_data_in_leaf': 50,\n",
    "    'learning_rate': 0.05,\n",
    "    'feature_fraction': 0.75,\n",
    "    'bagging_fraction': 0.75,\n",
    "    'bagging_freq': 1,\n",
    "    'metric': 'l2',\n",
    "    'num_threads': 4\n",
    "}"
   ]
  },
  {
   "cell_type": "code",
   "execution_count": null,
   "metadata": {
    "collapsed": true
   },
   "outputs": [],
   "source": [
    "# st=lgb.cv(param,train_data, num_boost_round=1000, nfold=3, early_stopping_rounds=30)\n",
    "r_lgb = lgb.train(param,train_data,num_boost_round=1000)"
   ]
  },
  {
   "cell_type": "code",
   "execution_count": 41,
   "metadata": {
    "collapsed": true
   },
   "outputs": [],
   "source": [
    "ypred = r_lgb.predict(dtest[predictors])"
   ]
  },
  {
   "cell_type": "code",
   "execution_count": 43,
   "metadata": {},
   "outputs": [
    {
     "name": "stdout",
     "output_type": "stream",
     "text": [
      "(3370464,)\n",
      "(3370464, 1)\n"
     ]
    },
    {
     "data": {
      "text/html": [
       "<div>\n",
       "<style>\n",
       "    .dataframe thead tr:only-child th {\n",
       "        text-align: right;\n",
       "    }\n",
       "\n",
       "    .dataframe thead th {\n",
       "        text-align: left;\n",
       "    }\n",
       "\n",
       "    .dataframe tbody tr th {\n",
       "        vertical-align: top;\n",
       "    }\n",
       "</style>\n",
       "<table border=\"1\" class=\"dataframe\">\n",
       "  <thead>\n",
       "    <tr style=\"text-align: right;\">\n",
       "      <th></th>\n",
       "      <th>unit_sales</th>\n",
       "    </tr>\n",
       "  </thead>\n",
       "  <tbody>\n",
       "    <tr>\n",
       "      <th>0</th>\n",
       "      <td>3.703619</td>\n",
       "    </tr>\n",
       "    <tr>\n",
       "      <th>1</th>\n",
       "      <td>3.703619</td>\n",
       "    </tr>\n",
       "    <tr>\n",
       "      <th>2</th>\n",
       "      <td>3.448353</td>\n",
       "    </tr>\n",
       "    <tr>\n",
       "      <th>3</th>\n",
       "      <td>2.506592</td>\n",
       "    </tr>\n",
       "    <tr>\n",
       "      <th>4</th>\n",
       "      <td>3.276762</td>\n",
       "    </tr>\n",
       "  </tbody>\n",
       "</table>\n",
       "</div>"
      ],
      "text/plain": [
       "   unit_sales\n",
       "0    3.703619\n",
       "1    3.703619\n",
       "2    3.448353\n",
       "3    2.506592\n",
       "4    3.276762"
      ]
     },
     "execution_count": 43,
     "metadata": {},
     "output_type": "execute_result"
    }
   ],
   "source": [
    "y_test = pd.DataFrame(ypred)\n",
    "y_test.columns = ['unit_sales']\n",
    "y_test_res = y_test.unit_sales.apply(pd.np.expm1)\n",
    "print(y_test_res.shape)\n",
    "y_test_res = pd.DataFrame(y_test_res)\n",
    "y_test_res.columns = ['unit_sales']\n",
    "print(y_test_res.shape)\n",
    "y_test_res.head()"
   ]
  },
  {
   "cell_type": "code",
   "execution_count": 44,
   "metadata": {},
   "outputs": [
    {
     "data": {
      "text/html": [
       "<div>\n",
       "<style>\n",
       "    .dataframe thead tr:only-child th {\n",
       "        text-align: right;\n",
       "    }\n",
       "\n",
       "    .dataframe thead th {\n",
       "        text-align: left;\n",
       "    }\n",
       "\n",
       "    .dataframe tbody tr th {\n",
       "        vertical-align: top;\n",
       "    }\n",
       "</style>\n",
       "<table border=\"1\" class=\"dataframe\">\n",
       "  <thead>\n",
       "    <tr style=\"text-align: right;\">\n",
       "      <th></th>\n",
       "      <th>id</th>\n",
       "      <th>unit_sales</th>\n",
       "    </tr>\n",
       "  </thead>\n",
       "  <tbody>\n",
       "    <tr>\n",
       "      <th>0</th>\n",
       "      <td>125497040</td>\n",
       "      <td>3.703619</td>\n",
       "    </tr>\n",
       "    <tr>\n",
       "      <th>1</th>\n",
       "      <td>125497041</td>\n",
       "      <td>3.703619</td>\n",
       "    </tr>\n",
       "    <tr>\n",
       "      <th>2</th>\n",
       "      <td>125497042</td>\n",
       "      <td>3.448353</td>\n",
       "    </tr>\n",
       "    <tr>\n",
       "      <th>3</th>\n",
       "      <td>125497043</td>\n",
       "      <td>2.506592</td>\n",
       "    </tr>\n",
       "    <tr>\n",
       "      <th>4</th>\n",
       "      <td>125497044</td>\n",
       "      <td>3.276762</td>\n",
       "    </tr>\n",
       "  </tbody>\n",
       "</table>\n",
       "</div>"
      ],
      "text/plain": [
       "          id  unit_sales\n",
       "0  125497040    3.703619\n",
       "1  125497041    3.703619\n",
       "2  125497042    3.448353\n",
       "3  125497043    2.506592\n",
       "4  125497044    3.276762"
      ]
     },
     "execution_count": 44,
     "metadata": {},
     "output_type": "execute_result"
    }
   ],
   "source": [
    "res = pd.read_csv(\"/Users/hanshany/Documents/USC/EE660/Final project/sample_submission.csv\")\n",
    "res.drop(['unit_sales'], axis=1, inplace=True)\n",
    "res = pd.concat([res,y_test_res.unit_sales], axis=1)\n",
    "res.head()"
   ]
  },
  {
   "cell_type": "code",
   "execution_count": 45,
   "metadata": {
    "collapsed": true
   },
   "outputs": [],
   "source": [
    "res.to_csv(\"/Users/hanshany/Documents/USC/EE660/Final project/res_lightgbm_16_8.csv\", index=False)"
   ]
  },
  {
   "cell_type": "markdown",
   "metadata": {},
   "source": [
    "1.175->0.767"
   ]
  },
  {
   "cell_type": "markdown",
   "metadata": {},
   "source": [
    "## 4.8 Evaluation"
   ]
  },
  {
   "cell_type": "code",
   "execution_count": null,
   "metadata": {
    "collapsed": true
   },
   "outputs": [],
   "source": [
    "def NWRMSLE(y, pred, w):\n",
    "    return metrics.mean_squared_error(y, pred, sample_weight=w)**0.5"
   ]
  },
  {
   "cell_type": "code",
   "execution_count": null,
   "metadata": {
    "collapsed": true
   },
   "outputs": [],
   "source": [
    "print(NWRMSLE(y_test, predict_test, test['perishable']))"
   ]
  },
  {
   "cell_type": "markdown",
   "metadata": {},
   "source": [
    "# 2 Preprocessing\n",
    "## 2.1 transactions\n",
    "Use Facebook Prophet to predict testing data\n",
    "**杨杨**"
   ]
  },
  {
   "cell_type": "markdown",
   "metadata": {
    "collapsed": true
   },
   "source": [
    "## 2.2  stores\n",
    "**10 features**\n",
    "- feature 38 (0.310676) type_A\n",
    "- feature 34 (0.307727) state_Pichincha\n",
    "- feature 32 (0.096955) state_Manabi\n",
    "- feature 57 (0.071549) cluster_15\n",
    "- feature 21 (0.036588) city_Santo Domingo\n",
    "- feature 49 (0.033177) cluster_7\n",
    "- feature 41 (0.030693) type_D\n",
    "- feature 36 (0.029397) state_Santo Domingo de los Tsachilas\n",
    "- feature 43 (0.012616) cluster_1\n",
    "- feature 8 (0.012273) city_Guayaquil\n",
    "\n",
    "- feature 31 (0.005823) state_Los Rios\n",
    "- feature 28 (0.005308) state_Guayas\n",
    "- feature 37 (0.004272) state_Tungurahua\n",
    "- feature 51 (0.004086) cluster_9\n",
    "- feature 46 (0.003743) cluster_4\n",
    "- feature 0 (0.002882) city_Ambato\n",
    "- feature 52 (0.001498) cluster_10\n",
    "- feature 23 (0.001059) state_Bolivar"
   ]
  },
  {
   "cell_type": "code",
   "execution_count": 97,
   "metadata": {
    "collapsed": true,
    "scrolled": true
   },
   "outputs": [],
   "source": [
    "def preprocessing_stores():\n",
    "    dummies_city = pd.get_dummies(data.stores['city'], prefix='city')\n",
    "    dummies_state = pd.get_dummies(data.stores['state'], prefix='state')\n",
    "    dummies_type = pd.get_dummies(data.stores['type'], prefix='type')\n",
    "    dummies_cluster = pd.get_dummies(data.stores['cluster'], prefix='cluster')\n",
    "    stores = pd.concat([data.stores['store_nbr'],dummies_city,dummies_state,dummies_type,dummies_cluster], axis = 1)\n",
    "    remain_feature = ['type_A',\n",
    "                      'state_Pichincha',\n",
    "                      'state_Manabi',\n",
    "                      'cluster_15',\n",
    "                      'city_Santo Domingo',\n",
    "                      'cluster_7',\n",
    "                      'type_D',\n",
    "                      'state_Santo Domingo de los Tsachilas',\n",
    "                      'cluster_1',\n",
    "                      'city_Guayaquil',\n",
    "                      'state_Los Rios',\n",
    "                      'state_Guayas',\n",
    "                      'state_Tungurahua',\n",
    "                      'cluster_9',\n",
    "                      'cluster_4',\n",
    "                      'city_Ambato',\n",
    "                      'cluster_10',\n",
    "                      'state_Bolivar']\n",
    "\n",
    "    new_stores = pd.DataFrame()\n",
    "    for i in range(len(stores.columns)):\n",
    "        if stores.columns[i] in remain_feature:\n",
    "            new_stores = pd.concat([new_stores, stores[stores.columns[i]]], axis=1)\n",
    "    new_stores = pd.concat([new_stores, stores.store_nbr], axis=1)\n",
    "    return new_stores"
   ]
  },
  {
   "cell_type": "code",
   "execution_count": 105,
   "metadata": {},
   "outputs": [
    {
     "data": {
      "text/html": [
       "<div>\n",
       "<style scoped>\n",
       "    .dataframe tbody tr th:only-of-type {\n",
       "        vertical-align: middle;\n",
       "    }\n",
       "\n",
       "    .dataframe tbody tr th {\n",
       "        vertical-align: top;\n",
       "    }\n",
       "\n",
       "    .dataframe thead th {\n",
       "        text-align: right;\n",
       "    }\n",
       "</style>\n",
       "<table border=\"1\" class=\"dataframe\">\n",
       "  <thead>\n",
       "    <tr style=\"text-align: right;\">\n",
       "      <th></th>\n",
       "      <th>city_Guayaquil</th>\n",
       "      <th>city_Santo Domingo</th>\n",
       "      <th>state_Manabi</th>\n",
       "      <th>state_Pichincha</th>\n",
       "      <th>state_Santo Domingo de los Tsachilas</th>\n",
       "      <th>type_A</th>\n",
       "      <th>type_D</th>\n",
       "      <th>cluster_1</th>\n",
       "      <th>cluster_7</th>\n",
       "      <th>cluster_15</th>\n",
       "      <th>store_nbr</th>\n",
       "    </tr>\n",
       "  </thead>\n",
       "  <tbody>\n",
       "    <tr>\n",
       "      <th>0</th>\n",
       "      <td>0</td>\n",
       "      <td>0</td>\n",
       "      <td>0</td>\n",
       "      <td>1</td>\n",
       "      <td>0</td>\n",
       "      <td>0</td>\n",
       "      <td>1</td>\n",
       "      <td>0</td>\n",
       "      <td>0</td>\n",
       "      <td>0</td>\n",
       "      <td>1</td>\n",
       "    </tr>\n",
       "    <tr>\n",
       "      <th>1</th>\n",
       "      <td>0</td>\n",
       "      <td>0</td>\n",
       "      <td>0</td>\n",
       "      <td>1</td>\n",
       "      <td>0</td>\n",
       "      <td>0</td>\n",
       "      <td>1</td>\n",
       "      <td>0</td>\n",
       "      <td>0</td>\n",
       "      <td>0</td>\n",
       "      <td>2</td>\n",
       "    </tr>\n",
       "    <tr>\n",
       "      <th>2</th>\n",
       "      <td>0</td>\n",
       "      <td>0</td>\n",
       "      <td>0</td>\n",
       "      <td>1</td>\n",
       "      <td>0</td>\n",
       "      <td>0</td>\n",
       "      <td>1</td>\n",
       "      <td>0</td>\n",
       "      <td>0</td>\n",
       "      <td>0</td>\n",
       "      <td>3</td>\n",
       "    </tr>\n",
       "    <tr>\n",
       "      <th>3</th>\n",
       "      <td>0</td>\n",
       "      <td>0</td>\n",
       "      <td>0</td>\n",
       "      <td>1</td>\n",
       "      <td>0</td>\n",
       "      <td>0</td>\n",
       "      <td>1</td>\n",
       "      <td>0</td>\n",
       "      <td>0</td>\n",
       "      <td>0</td>\n",
       "      <td>4</td>\n",
       "    </tr>\n",
       "    <tr>\n",
       "      <th>4</th>\n",
       "      <td>0</td>\n",
       "      <td>1</td>\n",
       "      <td>0</td>\n",
       "      <td>0</td>\n",
       "      <td>1</td>\n",
       "      <td>0</td>\n",
       "      <td>1</td>\n",
       "      <td>0</td>\n",
       "      <td>0</td>\n",
       "      <td>0</td>\n",
       "      <td>5</td>\n",
       "    </tr>\n",
       "  </tbody>\n",
       "</table>\n",
       "</div>"
      ],
      "text/plain": [
       "   city_Guayaquil  city_Santo Domingo  state_Manabi  state_Pichincha  \\\n",
       "0               0                   0             0                1   \n",
       "1               0                   0             0                1   \n",
       "2               0                   0             0                1   \n",
       "3               0                   0             0                1   \n",
       "4               0                   1             0                0   \n",
       "\n",
       "   state_Santo Domingo de los Tsachilas  type_A  type_D  cluster_1  cluster_7  \\\n",
       "0                                     0       0       1          0          0   \n",
       "1                                     0       0       1          0          0   \n",
       "2                                     0       0       1          0          0   \n",
       "3                                     0       0       1          0          0   \n",
       "4                                     1       0       1          0          0   \n",
       "\n",
       "   cluster_15  store_nbr  \n",
       "0           0          1  \n",
       "1           0          2  \n",
       "2           0          3  \n",
       "3           0          4  \n",
       "4           0          5  "
      ]
     },
     "execution_count": 105,
     "metadata": {},
     "output_type": "execute_result"
    }
   ],
   "source": [
    "new_stores = preprocessing_stores()\n",
    "new_stores.head()"
   ]
  },
  {
   "cell_type": "markdown",
   "metadata": {},
   "source": [
    "## 2.3 items"
   ]
  },
  {
   "cell_type": "markdown",
   "metadata": {
    "collapsed": true
   },
   "source": [
    "### 2.3.1 method 1\n",
    "- **item_nbr**\n",
    "- **perishable**"
   ]
  },
  {
   "cell_type": "code",
   "execution_count": 107,
   "metadata": {},
   "outputs": [
    {
     "data": {
      "text/html": [
       "<div>\n",
       "<style scoped>\n",
       "    .dataframe tbody tr th:only-of-type {\n",
       "        vertical-align: middle;\n",
       "    }\n",
       "\n",
       "    .dataframe tbody tr th {\n",
       "        vertical-align: top;\n",
       "    }\n",
       "\n",
       "    .dataframe thead th {\n",
       "        text-align: right;\n",
       "    }\n",
       "</style>\n",
       "<table border=\"1\" class=\"dataframe\">\n",
       "  <thead>\n",
       "    <tr style=\"text-align: right;\">\n",
       "      <th></th>\n",
       "      <th>item_nbr</th>\n",
       "      <th>family</th>\n",
       "      <th>class</th>\n",
       "      <th>perishable</th>\n",
       "    </tr>\n",
       "  </thead>\n",
       "  <tbody>\n",
       "    <tr>\n",
       "      <th>0</th>\n",
       "      <td>96995</td>\n",
       "      <td>GROCERY I</td>\n",
       "      <td>1093</td>\n",
       "      <td>0</td>\n",
       "    </tr>\n",
       "    <tr>\n",
       "      <th>1</th>\n",
       "      <td>99197</td>\n",
       "      <td>GROCERY I</td>\n",
       "      <td>1067</td>\n",
       "      <td>0</td>\n",
       "    </tr>\n",
       "    <tr>\n",
       "      <th>2</th>\n",
       "      <td>103501</td>\n",
       "      <td>CLEANING</td>\n",
       "      <td>3008</td>\n",
       "      <td>0</td>\n",
       "    </tr>\n",
       "    <tr>\n",
       "      <th>3</th>\n",
       "      <td>103520</td>\n",
       "      <td>GROCERY I</td>\n",
       "      <td>1028</td>\n",
       "      <td>0</td>\n",
       "    </tr>\n",
       "    <tr>\n",
       "      <th>4</th>\n",
       "      <td>103665</td>\n",
       "      <td>BREAD/BAKERY</td>\n",
       "      <td>2712</td>\n",
       "      <td>1</td>\n",
       "    </tr>\n",
       "  </tbody>\n",
       "</table>\n",
       "</div>"
      ],
      "text/plain": [
       "   item_nbr        family  class  perishable\n",
       "0     96995     GROCERY I   1093           0\n",
       "1     99197     GROCERY I   1067           0\n",
       "2    103501      CLEANING   3008           0\n",
       "3    103520     GROCERY I   1028           0\n",
       "4    103665  BREAD/BAKERY   2712           1"
      ]
     },
     "execution_count": 107,
     "metadata": {},
     "output_type": "execute_result"
    }
   ],
   "source": [
    "data.items.head()"
   ]
  },
  {
   "cell_type": "code",
   "execution_count": 121,
   "metadata": {},
   "outputs": [
    {
     "data": {
      "text/html": [
       "<div>\n",
       "<style scoped>\n",
       "    .dataframe tbody tr th:only-of-type {\n",
       "        vertical-align: middle;\n",
       "    }\n",
       "\n",
       "    .dataframe tbody tr th {\n",
       "        vertical-align: top;\n",
       "    }\n",
       "\n",
       "    .dataframe thead th {\n",
       "        text-align: right;\n",
       "    }\n",
       "</style>\n",
       "<table border=\"1\" class=\"dataframe\">\n",
       "  <thead>\n",
       "    <tr style=\"text-align: right;\">\n",
       "      <th></th>\n",
       "      <th>item_nbr</th>\n",
       "      <th>perishable</th>\n",
       "    </tr>\n",
       "  </thead>\n",
       "  <tbody>\n",
       "    <tr>\n",
       "      <th>0</th>\n",
       "      <td>96995</td>\n",
       "      <td>0</td>\n",
       "    </tr>\n",
       "    <tr>\n",
       "      <th>1</th>\n",
       "      <td>99197</td>\n",
       "      <td>0</td>\n",
       "    </tr>\n",
       "    <tr>\n",
       "      <th>2</th>\n",
       "      <td>103501</td>\n",
       "      <td>0</td>\n",
       "    </tr>\n",
       "    <tr>\n",
       "      <th>3</th>\n",
       "      <td>103520</td>\n",
       "      <td>0</td>\n",
       "    </tr>\n",
       "    <tr>\n",
       "      <th>4</th>\n",
       "      <td>103665</td>\n",
       "      <td>1</td>\n",
       "    </tr>\n",
       "  </tbody>\n",
       "</table>\n",
       "</div>"
      ],
      "text/plain": [
       "   item_nbr  perishable\n",
       "0     96995           0\n",
       "1     99197           0\n",
       "2    103501           0\n",
       "3    103520           0\n",
       "4    103665           1"
      ]
     },
     "execution_count": 121,
     "metadata": {},
     "output_type": "execute_result"
    }
   ],
   "source": [
    "def preprocessing_items_1():\n",
    "    data.items.drop(['family','class'], axis=1, inplace=True)\n",
    "    \n",
    "preprocessing_items()\n",
    "data.items.head()"
   ]
  },
  {
   "cell_type": "code",
   "execution_count": null,
   "metadata": {
    "collapsed": true
   },
   "outputs": [],
   "source": [
    "def preprocessing_items_3(data):\n",
    "    # transfer family and class into numerical format\n",
    "    mean_2016_by_month_s = stores_transactions_2016.groupby(['month','store_nbr'])['transactions'].mean()\n",
    "    mean_2016_by_month = pd.DataFrame({'month':mean_2016_by_month_s.index.get_level_values('month'), \n",
    "                                       'store_nbr':mean_2016_by_month_s.index.get_level_values('store_nbr'), \n",
    "                                       'transactions':mean_2016_by_month_s.values})\n",
    "    initial_stores_transactions = pd.merge(data.stores, mean_2016_by_month.loc[mean_2016_by_month.month == 1], how='left')\n",
    "\n",
    "\n",
    "preprocecssing_items"
   ]
  },
  {
   "cell_type": "code",
   "execution_count": 34,
   "metadata": {
    "scrolled": true
   },
   "outputs": [
    {
     "data": {
      "text/html": [
       "<div>\n",
       "<style scoped>\n",
       "    .dataframe tbody tr th:only-of-type {\n",
       "        vertical-align: middle;\n",
       "    }\n",
       "\n",
       "    .dataframe tbody tr th {\n",
       "        vertical-align: top;\n",
       "    }\n",
       "\n",
       "    .dataframe thead th {\n",
       "        text-align: right;\n",
       "    }\n",
       "</style>\n",
       "<table border=\"1\" class=\"dataframe\">\n",
       "  <thead>\n",
       "    <tr style=\"text-align: right;\">\n",
       "      <th></th>\n",
       "      <th>item_nbr</th>\n",
       "      <th>family</th>\n",
       "      <th>class</th>\n",
       "      <th>perishable</th>\n",
       "    </tr>\n",
       "  </thead>\n",
       "  <tbody>\n",
       "    <tr>\n",
       "      <th>0</th>\n",
       "      <td>96995</td>\n",
       "      <td>GROCERY I</td>\n",
       "      <td>1093</td>\n",
       "      <td>0</td>\n",
       "    </tr>\n",
       "    <tr>\n",
       "      <th>1</th>\n",
       "      <td>99197</td>\n",
       "      <td>GROCERY I</td>\n",
       "      <td>1067</td>\n",
       "      <td>0</td>\n",
       "    </tr>\n",
       "    <tr>\n",
       "      <th>2</th>\n",
       "      <td>103501</td>\n",
       "      <td>CLEANING</td>\n",
       "      <td>3008</td>\n",
       "      <td>0</td>\n",
       "    </tr>\n",
       "    <tr>\n",
       "      <th>3</th>\n",
       "      <td>103520</td>\n",
       "      <td>GROCERY I</td>\n",
       "      <td>1028</td>\n",
       "      <td>0</td>\n",
       "    </tr>\n",
       "    <tr>\n",
       "      <th>4</th>\n",
       "      <td>103665</td>\n",
       "      <td>BREAD/BAKERY</td>\n",
       "      <td>2712</td>\n",
       "      <td>1</td>\n",
       "    </tr>\n",
       "  </tbody>\n",
       "</table>\n",
       "</div>"
      ],
      "text/plain": [
       "   item_nbr        family  class  perishable\n",
       "0     96995     GROCERY I   1093           0\n",
       "1     99197     GROCERY I   1067           0\n",
       "2    103501      CLEANING   3008           0\n",
       "3    103520     GROCERY I   1028           0\n",
       "4    103665  BREAD/BAKERY   2712           1"
      ]
     },
     "execution_count": 34,
     "metadata": {},
     "output_type": "execute_result"
    }
   ],
   "source": [
    "data.items.head()"
   ]
  },
  {
   "cell_type": "code",
   "execution_count": 41,
   "metadata": {},
   "outputs": [
    {
     "data": {
      "text/html": [
       "<div>\n",
       "<style scoped>\n",
       "    .dataframe tbody tr th:only-of-type {\n",
       "        vertical-align: middle;\n",
       "    }\n",
       "\n",
       "    .dataframe tbody tr th {\n",
       "        vertical-align: top;\n",
       "    }\n",
       "\n",
       "    .dataframe thead th {\n",
       "        text-align: right;\n",
       "    }\n",
       "</style>\n",
       "<table border=\"1\" class=\"dataframe\">\n",
       "  <thead>\n",
       "    <tr style=\"text-align: right;\">\n",
       "      <th></th>\n",
       "      <th>item_nbr</th>\n",
       "      <th>family</th>\n",
       "      <th>class</th>\n",
       "      <th>perishable</th>\n",
       "      <th>family_mean</th>\n",
       "      <th>class_mean</th>\n",
       "    </tr>\n",
       "  </thead>\n",
       "  <tbody>\n",
       "    <tr>\n",
       "      <th>0</th>\n",
       "      <td>96995</td>\n",
       "      <td>GROCERY I</td>\n",
       "      <td>1093</td>\n",
       "      <td>0</td>\n",
       "      <td>1.155452e+06</td>\n",
       "      <td>8.459944e+05</td>\n",
       "    </tr>\n",
       "    <tr>\n",
       "      <th>1</th>\n",
       "      <td>99197</td>\n",
       "      <td>GROCERY I</td>\n",
       "      <td>1067</td>\n",
       "      <td>0</td>\n",
       "      <td>1.155452e+06</td>\n",
       "      <td>2.577245e+05</td>\n",
       "    </tr>\n",
       "    <tr>\n",
       "      <th>2</th>\n",
       "      <td>103501</td>\n",
       "      <td>CLEANING</td>\n",
       "      <td>3008</td>\n",
       "      <td>0</td>\n",
       "      <td>9.598143e+05</td>\n",
       "      <td>9.674663e+05</td>\n",
       "    </tr>\n",
       "    <tr>\n",
       "      <th>3</th>\n",
       "      <td>103520</td>\n",
       "      <td>GROCERY I</td>\n",
       "      <td>1028</td>\n",
       "      <td>0</td>\n",
       "      <td>1.155452e+06</td>\n",
       "      <td>1.235221e+06</td>\n",
       "    </tr>\n",
       "    <tr>\n",
       "      <th>4</th>\n",
       "      <td>103665</td>\n",
       "      <td>BREAD/BAKERY</td>\n",
       "      <td>2712</td>\n",
       "      <td>1</td>\n",
       "      <td>9.584383e+05</td>\n",
       "      <td>9.192286e+05</td>\n",
       "    </tr>\n",
       "  </tbody>\n",
       "</table>\n",
       "</div>"
      ],
      "text/plain": [
       "   item_nbr        family  class  perishable   family_mean    class_mean\n",
       "0     96995     GROCERY I   1093           0  1.155452e+06  8.459944e+05\n",
       "1     99197     GROCERY I   1067           0  1.155452e+06  2.577245e+05\n",
       "2    103501      CLEANING   3008           0  9.598143e+05  9.674663e+05\n",
       "3    103520     GROCERY I   1028           0  1.155452e+06  1.235221e+06\n",
       "4    103665  BREAD/BAKERY   2712           1  9.584383e+05  9.192286e+05"
      ]
     },
     "execution_count": 41,
     "metadata": {},
     "output_type": "execute_result"
    }
   ],
   "source": [
    "mean_items_family_s = data.items.groupby(['family'])['item_nbr'].mean()\n",
    "mean_items_family = pd.DataFrame({'family':mean_items_family_s.index.get_level_values('family'), \n",
    "                                   'family_mean':mean_items_family_s.values})\n",
    "mean_items_class_s = data.items.groupby(['class'])['item_nbr'].mean()\n",
    "mean_items_class = pd.DataFrame({'class':mean_items_class_s.index.get_level_values('class'), \n",
    "                                 'class_mean':mean_items_class_s.values})\n",
    "items_family = pd.merge(data.items, mean_items_family, how='left')\n",
    "items_family_class = pd.merge(items_family, mean_items_class, how='left')\n",
    "items_family_class.head()"
   ]
  },
  {
   "cell_type": "code",
   "execution_count": null,
   "metadata": {
    "collapsed": true
   },
   "outputs": [],
   "source": []
  },
  {
   "cell_type": "markdown",
   "metadata": {},
   "source": [
    "## 2.4 holidays"
   ]
  },
  {
   "cell_type": "code",
   "execution_count": 260,
   "metadata": {
    "collapsed": true
   },
   "outputs": [],
   "source": [
    "d = data.test\n",
    "\n",
    "merged_t_stores = pd.merge(d, data.stores, on='store_nbr', how='left')\n",
    "\n",
    "df_holiday = data.holidays\n",
    "merged_t_stores['dayoff'] = [x.isoweekday() in [6,7] for x in merged_t_stores.date]\n",
    "for (d,t,l,n,tr) in zip(df_holiday.date,df_holiday.type,df_holiday.locale,df_holiday.locale_name,df_holiday.transferred):\n",
    "    if t != 'Work Day':\n",
    "        if tr == True:\n",
    "            merged_t_stores.loc[merged_t_stores.date==d,'dayoff'] = 0\n",
    "            print(1)\n",
    "        elif l == 'National': \n",
    "            merged_t_stores.loc[merged_t_stores.date==d,'dayoff'] = 1\n",
    "        elif l == 'Regional':\n",
    "            merged_t_stores.loc[(merged_t_stores.date==d)&(merged_t_stores.state==n),'dayoff'] = 1\n",
    "        else:\n",
    "            merged_t_stores.loc[(merged_t_stores.date==d)&(merged_t_stores.city==n),'dayoff'] = 1\n",
    "    else:\n",
    "        merged_t_stores.loc[merged_t_stores.date==d,'dayoff'] = 0\n",
    "merged_data = pd.merge(merged_t_stores, df_holiday[['date','description']], on='date', how='left')\n",
    "\n",
    "merged_data.dayoff = 0"
   ]
  },
  {
   "cell_type": "code",
   "execution_count": 261,
   "metadata": {},
   "outputs": [
    {
     "data": {
      "text/html": [
       "<div>\n",
       "<style scoped>\n",
       "    .dataframe tbody tr th:only-of-type {\n",
       "        vertical-align: middle;\n",
       "    }\n",
       "\n",
       "    .dataframe tbody tr th {\n",
       "        vertical-align: top;\n",
       "    }\n",
       "\n",
       "    .dataframe thead th {\n",
       "        text-align: right;\n",
       "    }\n",
       "</style>\n",
       "<table border=\"1\" class=\"dataframe\">\n",
       "  <thead>\n",
       "    <tr style=\"text-align: right;\">\n",
       "      <th></th>\n",
       "      <th>id</th>\n",
       "      <th>date</th>\n",
       "      <th>store_nbr</th>\n",
       "      <th>item_nbr</th>\n",
       "      <th>onpromotion</th>\n",
       "      <th>city</th>\n",
       "      <th>state</th>\n",
       "      <th>type</th>\n",
       "      <th>cluster</th>\n",
       "      <th>dayoff</th>\n",
       "      <th>description</th>\n",
       "    </tr>\n",
       "  </thead>\n",
       "  <tbody>\n",
       "    <tr>\n",
       "      <th>0</th>\n",
       "      <td>125497040</td>\n",
       "      <td>2017-08-16</td>\n",
       "      <td>1</td>\n",
       "      <td>96995</td>\n",
       "      <td>0</td>\n",
       "      <td>Quito</td>\n",
       "      <td>Pichincha</td>\n",
       "      <td>D</td>\n",
       "      <td>13</td>\n",
       "      <td>0</td>\n",
       "      <td>NaN</td>\n",
       "    </tr>\n",
       "    <tr>\n",
       "      <th>1</th>\n",
       "      <td>125497041</td>\n",
       "      <td>2017-08-16</td>\n",
       "      <td>1</td>\n",
       "      <td>99197</td>\n",
       "      <td>0</td>\n",
       "      <td>Quito</td>\n",
       "      <td>Pichincha</td>\n",
       "      <td>D</td>\n",
       "      <td>13</td>\n",
       "      <td>0</td>\n",
       "      <td>NaN</td>\n",
       "    </tr>\n",
       "    <tr>\n",
       "      <th>2</th>\n",
       "      <td>125497042</td>\n",
       "      <td>2017-08-16</td>\n",
       "      <td>1</td>\n",
       "      <td>103501</td>\n",
       "      <td>0</td>\n",
       "      <td>Quito</td>\n",
       "      <td>Pichincha</td>\n",
       "      <td>D</td>\n",
       "      <td>13</td>\n",
       "      <td>0</td>\n",
       "      <td>NaN</td>\n",
       "    </tr>\n",
       "    <tr>\n",
       "      <th>3</th>\n",
       "      <td>125497043</td>\n",
       "      <td>2017-08-16</td>\n",
       "      <td>1</td>\n",
       "      <td>103520</td>\n",
       "      <td>0</td>\n",
       "      <td>Quito</td>\n",
       "      <td>Pichincha</td>\n",
       "      <td>D</td>\n",
       "      <td>13</td>\n",
       "      <td>0</td>\n",
       "      <td>NaN</td>\n",
       "    </tr>\n",
       "    <tr>\n",
       "      <th>4</th>\n",
       "      <td>125497044</td>\n",
       "      <td>2017-08-16</td>\n",
       "      <td>1</td>\n",
       "      <td>103665</td>\n",
       "      <td>0</td>\n",
       "      <td>Quito</td>\n",
       "      <td>Pichincha</td>\n",
       "      <td>D</td>\n",
       "      <td>13</td>\n",
       "      <td>0</td>\n",
       "      <td>NaN</td>\n",
       "    </tr>\n",
       "  </tbody>\n",
       "</table>\n",
       "</div>"
      ],
      "text/plain": [
       "          id       date  store_nbr  item_nbr  onpromotion   city      state  \\\n",
       "0  125497040 2017-08-16          1     96995            0  Quito  Pichincha   \n",
       "1  125497041 2017-08-16          1     99197            0  Quito  Pichincha   \n",
       "2  125497042 2017-08-16          1    103501            0  Quito  Pichincha   \n",
       "3  125497043 2017-08-16          1    103520            0  Quito  Pichincha   \n",
       "4  125497044 2017-08-16          1    103665            0  Quito  Pichincha   \n",
       "\n",
       "  type  cluster  dayoff description  \n",
       "0    D       13       0         NaN  \n",
       "1    D       13       0         NaN  \n",
       "2    D       13       0         NaN  \n",
       "3    D       13       0         NaN  \n",
       "4    D       13       0         NaN  "
      ]
     },
     "execution_count": 261,
     "metadata": {},
     "output_type": "execute_result"
    }
   ],
   "source": [
    "merged_data.head()"
   ]
  },
  {
   "cell_type": "markdown",
   "metadata": {},
   "source": [
    "test里面的日子都不放假！！=="
   ]
  },
  {
   "cell_type": "markdown",
   "metadata": {
    "collapsed": true
   },
   "source": [
    "## 2.5 oil"
   ]
  },
  {
   "cell_type": "code",
   "execution_count": 72,
   "metadata": {
    "collapsed": true
   },
   "outputs": [],
   "source": [
    "def standardization(data):\n",
    "    scaler = preprocessing.StandardScaler()\n",
    "    data_scale_param = scaler.fit(data)\n",
    "    df_scale = scaler.fit_transform(data, data_scale_param)\n",
    "    data = df_scale\n",
    "    return data"
   ]
  },
  {
   "cell_type": "code",
   "execution_count": 83,
   "metadata": {},
   "outputs": [
    {
     "name": "stderr",
     "output_type": "stream",
     "text": [
      "C:\\Users\\Walffy\\Anaconda3\\lib\\site-packages\\ipykernel_launcher.py:1: FutureWarning:\n",
      "\n",
      "reshape is deprecated and will raise in a subsequent release. Please use .values.reshape(...) instead\n",
      "\n"
     ]
    },
    {
     "data": {
      "text/plain": [
       "array([[ 1.02540147],\n",
       "       [ 0.99350208],\n",
       "       [ 0.98686755],\n",
       "       ..., \n",
       "       [-0.82829261],\n",
       "       [-0.84780627],\n",
       "       [-0.7970708 ]], dtype=float32)"
      ]
     },
     "execution_count": 83,
     "metadata": {},
     "output_type": "execute_result"
    }
   ],
   "source": [
    "X_train = data.oil.dcoilwtico.reshape(-1,1)\n",
    "scaler = preprocessing.StandardScaler().fit(X_train)\n",
    "df_scale = scaler.transform(X_train)\n",
    "df_scale"
   ]
  },
  {
   "cell_type": "code",
   "execution_count": 85,
   "metadata": {},
   "outputs": [
    {
     "name": "stderr",
     "output_type": "stream",
     "text": [
      "C:\\Users\\Walffy\\Anaconda3\\lib\\site-packages\\ipykernel_launcher.py:1: FutureWarning:\n",
      "\n",
      "reshape is deprecated and will raise in a subsequent release. Please use .values.reshape(...) instead\n",
      "\n"
     ]
    },
    {
     "data": {
      "text/plain": [
       "array([[ 0.80264544],\n",
       "       [ 0.79296458],\n",
       "       [ 0.79095101],\n",
       "       ..., \n",
       "       [ 0.24008051],\n",
       "       [ 0.23415849],\n",
       "       [ 0.2495558 ]], dtype=float32)"
      ]
     },
     "execution_count": 85,
     "metadata": {},
     "output_type": "execute_result"
    }
   ],
   "source": [
    "X_train = data.oil.dcoilwtico.reshape(-1,1)\n",
    "min_max_scaler = preprocessing.MinMaxScaler()   \n",
    "X_train_minmax = min_max_scaler.fit_transform(X_train)   \n",
    "X_train_minmax"
   ]
  },
  {
   "cell_type": "code",
   "execution_count": 89,
   "metadata": {
    "collapsed": true
   },
   "outputs": [],
   "source": [
    "data.oil['dcoilwtico_scale'] = X_train_minmax"
   ]
  },
  {
   "cell_type": "code",
   "execution_count": 91,
   "metadata": {},
   "outputs": [
    {
     "data": {
      "text/html": [
       "<div>\n",
       "<style scoped>\n",
       "    .dataframe tbody tr th:only-of-type {\n",
       "        vertical-align: middle;\n",
       "    }\n",
       "\n",
       "    .dataframe tbody tr th {\n",
       "        vertical-align: top;\n",
       "    }\n",
       "\n",
       "    .dataframe thead th {\n",
       "        text-align: right;\n",
       "    }\n",
       "</style>\n",
       "<table border=\"1\" class=\"dataframe\">\n",
       "  <thead>\n",
       "    <tr style=\"text-align: right;\">\n",
       "      <th></th>\n",
       "      <th>date</th>\n",
       "      <th>dcoilwtico</th>\n",
       "      <th>dcoilwtico_scale</th>\n",
       "    </tr>\n",
       "  </thead>\n",
       "  <tbody>\n",
       "    <tr>\n",
       "      <th>0</th>\n",
       "      <td>2013-01-01</td>\n",
       "      <td>93.957359</td>\n",
       "      <td>0.802645</td>\n",
       "    </tr>\n",
       "    <tr>\n",
       "      <th>1</th>\n",
       "      <td>2013-01-02</td>\n",
       "      <td>93.139999</td>\n",
       "      <td>0.792965</td>\n",
       "    </tr>\n",
       "    <tr>\n",
       "      <th>2</th>\n",
       "      <td>2013-01-03</td>\n",
       "      <td>92.970001</td>\n",
       "      <td>0.790951</td>\n",
       "    </tr>\n",
       "    <tr>\n",
       "      <th>3</th>\n",
       "      <td>2013-01-04</td>\n",
       "      <td>93.120003</td>\n",
       "      <td>0.792728</td>\n",
       "    </tr>\n",
       "    <tr>\n",
       "      <th>4</th>\n",
       "      <td>2013-01-07</td>\n",
       "      <td>93.199997</td>\n",
       "      <td>0.793675</td>\n",
       "    </tr>\n",
       "  </tbody>\n",
       "</table>\n",
       "</div>"
      ],
      "text/plain": [
       "        date  dcoilwtico  dcoilwtico_scale\n",
       "0 2013-01-01   93.957359          0.802645\n",
       "1 2013-01-02   93.139999          0.792965\n",
       "2 2013-01-03   92.970001          0.790951\n",
       "3 2013-01-04   93.120003          0.792728\n",
       "4 2013-01-07   93.199997          0.793675"
      ]
     },
     "execution_count": 91,
     "metadata": {},
     "output_type": "execute_result"
    }
   ],
   "source": [
    "data.oil.head()"
   ]
  },
  {
   "cell_type": "markdown",
   "metadata": {},
   "source": [
    "# 3 Feature selection\n",
    "##  3.1 Store\n",
    "stores vs transactions\n",
    "### 3.1.1 random forest - mean decrease impurity\n",
    "这里特征得分实际上采用的是**Gini Importance**。使用基于不纯度的方法：\n",
    "1. 这种方法存在偏向，对具有更多类别的变量会更有利；\n",
    "2. 对于存在关联的多个特征，其中任意一个都可以作为指示器（优秀的特征），并且一旦某个特征被选择之后，其他特征的重要度就会急剧下降，因为不纯度已经被选中的那个特征降下来了，其他的特征就很难再降低那么多不纯度了，这样一来，只有先被选中的那个特征重要度很高，其他的关联特征重要度往往较低。在理解数据时，这就会造成误解，导致错误的认为先被选中的特征是很重要的，而其余的特征是不重要的，但实际上这些特征对响应变量的作用确实非常接近的（这跟Lasso是很像的）。"
   ]
  },
  {
   "cell_type": "code",
   "execution_count": 24,
   "metadata": {
    "collapsed": true,
    "scrolled": true
   },
   "outputs": [],
   "source": [
    "data.transactions['date'] = pd.to_datetime(data.transactions['date'])\n",
    "data.transactions['yday'] = data.transactions['date'].dt.dayofyear\n",
    "data.transactions['year'] = data.transactions['date'].dt.year\n",
    "data.transactions['month'] = data.transactions['date'].dt.month\n",
    "\n",
    "# find mean\n",
    "stores_transactions_2016 = data.transactions[(data.transactions.year == 2016)]\n",
    "mean_2016_by_month_s = stores_transactions_2016.groupby(['month','store_nbr'])['transactions'].mean()\n",
    "mean_2016_by_month = pd.DataFrame({'month':mean_2016_by_month_s.index.get_level_values('month'), \n",
    "                                   'store_nbr':mean_2016_by_month_s.index.get_level_values('store_nbr'), \n",
    "                                   'transactions':mean_2016_by_month_s.values})\n",
    "initial_stores_transactions = pd.merge(data.stores, mean_2016_by_month.loc[mean_2016_by_month.month == 1], how='left')\n",
    "\n",
    "# merge\n",
    "for month in range(2, 13):\n",
    "    temp_stores_transactions = pd.merge(data.stores, mean_2016_by_month.loc[mean_2016_by_month.month == month], how='left')\n",
    "    initial_stores_transactions = pd.concat([temp_stores_transactions, initial_stores_transactions], axis=0)\n",
    "\n",
    "initial_stores_transactions.drop('month', axis=1, inplace=True)\n",
    "initial_stores_transactions.dropna(axis=0, how='any', inplace=True)\n",
    "dummies_city = pd.get_dummies(initial_stores_transactions['city'], prefix='city')\n",
    "dummies_state = pd.get_dummies(initial_stores_transactions['state'], prefix='state')\n",
    "dummies_type = pd.get_dummies(initial_stores_transactions['type'], prefix='type')\n",
    "dummies_cluster = pd.get_dummies(initial_stores_transactions['cluster'], prefix='cluster')\n",
    "df_stores_transactions = pd.concat([dummies_city,dummies_state,dummies_type,dummies_cluster,initial_stores_transactions['transactions'],initial_stores_transactions['store_nbr']], axis = 1)\n",
    "\n",
    "# df_stores_transactions\n",
    "matrix_stores_transactions = df_stores_transactions.as_matrix()\n",
    "   \n",
    "y = matrix_stores_transactions[:,-1]\n",
    "X = matrix_stores_transactions[:,:-1] "
   ]
  },
  {
   "cell_type": "code",
   "execution_count": 25,
   "metadata": {
    "collapsed": true
   },
   "outputs": [],
   "source": [
    "def rfr_importance(rfr, X, y, df):\n",
    "    # importance\n",
    "    importances = rfr.feature_importances_\n",
    "    std = np.std([tree.feature_importances_ for tree in rfr.estimators_], axis=0)\n",
    "    indices = np.argsort(importances)[::-1]\n",
    "\n",
    "    print(\"Feature ranking:\")\n",
    "\n",
    "    for f in range(X.shape[1]):\n",
    "        print(\"%d.feature %d (%f)\" % (f+1, indices[f], importances[indices[f]]), df.columns[indices[f]])\n",
    "\n",
    "    plt.figure()\n",
    "    plt.title(\"Feature importances\")\n",
    "    plt.bar(range(X.shape[1]), importances[indices],\n",
    "           color=\"r\", yerr=std[indices], align=\"center\")\n",
    "    plt.xticks(range(X.shape[1]), indices)\n",
    "    plt.xlim([-1, X.shape[1]])\n",
    "    plt.show()"
   ]
  },
  {
   "cell_type": "code",
   "execution_count": 26,
   "metadata": {
    "collapsed": true
   },
   "outputs": [],
   "source": [
    "def rfr_mean_decrease_impurity(X,y):\n",
    "    rfr = RandomForestRegressor(random_state=0, n_estimators=100, n_jobs=-1)\n",
    "    rfr.fit(X, y)\n",
    "    return rfr"
   ]
  },
  {
   "cell_type": "code",
   "execution_count": 27,
   "metadata": {},
   "outputs": [
    {
     "name": "stdout",
     "output_type": "stream",
     "text": [
      "Feature ranking:\n",
      "1.feature 38 (0.310676) type_A\n",
      "2.feature 34 (0.307727) state_Pichincha\n",
      "3.feature 32 (0.096955) state_Manabi\n",
      "4.feature 57 (0.071549) cluster_15\n",
      "5.feature 21 (0.036588) city_Santo Domingo\n",
      "6.feature 49 (0.033177) cluster_7\n",
      "7.feature 41 (0.030693) type_D\n",
      "8.feature 36 (0.029397) state_Santo Domingo de los Tsachilas\n",
      "9.feature 60 (0.017457) transactions\n",
      "10.feature 43 (0.012616) cluster_1\n",
      "11.feature 8 (0.012273) city_Guayaquil\n",
      "12.feature 31 (0.005823) state_Los Rios\n",
      "13.feature 28 (0.005308) state_Guayas\n",
      "14.feature 37 (0.004272) state_Tungurahua\n",
      "15.feature 51 (0.004086) cluster_9\n",
      "16.feature 46 (0.003743) cluster_4\n",
      "17.feature 0 (0.002882) city_Ambato\n",
      "18.feature 52 (0.001498) cluster_10\n",
      "19.feature 23 (0.001059) state_Bolivar\n",
      "20.feature 50 (0.000977) cluster_8\n",
      "21.feature 7 (0.000923) city_Guaranda\n",
      "22.feature 24 (0.000790) state_Chimborazo\n",
      "23.feature 48 (0.000752) cluster_6\n",
      "24.feature 20 (0.000667) city_Salinas\n",
      "25.feature 22 (0.000639) state_Azuay\n",
      "26.feature 45 (0.000625) cluster_3\n",
      "27.feature 16 (0.000612) city_Puyo\n",
      "28.feature 40 (0.000535) type_C\n",
      "29.feature 13 (0.000472) city_Machala\n",
      "30.feature 33 (0.000463) state_Pastaza\n",
      "31.feature 19 (0.000445) city_Riobamba\n",
      "32.feature 3 (0.000393) city_Cuenca\n",
      "33.feature 27 (0.000374) state_Esmeraldas\n",
      "34.feature 39 (0.000366) type_B\n",
      "35.feature 42 (0.000329) type_E\n",
      "36.feature 26 (0.000303) state_El Oro\n",
      "37.feature 56 (0.000269) cluster_14\n",
      "38.feature 4 (0.000236) city_Daule\n",
      "39.feature 18 (0.000214) city_Quito\n",
      "40.feature 35 (0.000211) state_Santa Elena\n",
      "41.feature 30 (0.000206) state_Loja\n",
      "42.feature 55 (0.000177) cluster_13\n",
      "43.feature 12 (0.000163) city_Loja\n",
      "44.feature 1 (0.000127) city_Babahoyo\n",
      "45.feature 6 (0.000116) city_Esmeraldas\n",
      "46.feature 47 (0.000108) cluster_5\n",
      "47.feature 10 (0.000108) city_Latacunga\n",
      "48.feature 25 (0.000097) state_Cotopaxi\n",
      "49.feature 44 (0.000094) cluster_2\n",
      "50.feature 29 (0.000081) state_Imbabura\n",
      "51.feature 2 (0.000066) city_Cayambe\n",
      "52.feature 9 (0.000064) city_Ibarra\n",
      "53.feature 17 (0.000063) city_Quevedo\n",
      "54.feature 11 (0.000056) city_Libertad\n",
      "55.feature 53 (0.000047) cluster_11\n",
      "56.feature 15 (0.000015) city_Playas\n",
      "57.feature 54 (0.000011) cluster_12\n",
      "58.feature 58 (0.000007) cluster_16\n",
      "59.feature 5 (0.000006) city_El Carmen\n",
      "60.feature 14 (0.000005) city_Manta\n",
      "61.feature 59 (0.000005) cluster_17\n"
     ]
    },
    {
     "data": {
      "image/png": "[encoded data removed]",
      "text/plain": [
       "<matplotlib.figure.Figure at 0x247b3f7d6d8>"
      ]
     },
     "metadata": {},
     "output_type": "display_data"
    }
   ],
   "source": [
    "rfr = rfr_mean_decrease_impurity(X,y)\n",
    "rfr_importance(rfr, X, y, df_stores_transactions)"
   ]
  },
  {
   "cell_type": "markdown",
   "metadata": {},
   "source": [
    "### 3.1.2 random forest - mean decrease accuracy\n",
    "直接度量每个特征对模型精确率的影响。主要思路是打乱每个特征的特征值顺序，并且度量顺序变动对模型的精确率的影响。很明显，对于不重要的变量来说，打乱顺序对模型的精确率影响不会太大，但是对于重要的变量来说，打乱顺序就会降低模型的精确率。"
   ]
  },
  {
   "cell_type": "code",
   "execution_count": 12,
   "metadata": {
    "collapsed": true
   },
   "outputs": [],
   "source": [
    "def rfr_mean_decrease_accuracy(X, y, df):\n",
    "    rfr = RandomForestRegressor(random_state=0, n_estimators=100, n_jobs=-1)\n",
    "    scores = defaultdict(list)\n",
    "\n",
    "    # crossvalidate the scores on a number of different random splits of the data\n",
    "    for train_idx, test_idx in ShuffleSplit(len(X), 100, .3):\n",
    "        X_train, X_test = X[train_idx], X[test_idx]\n",
    "        y_train, y_test = y[train_idx], y[test_idx]\n",
    "        r = rfr.fit(X_train, y_train)\n",
    "        acc = r2_score(y_test, rfr.predict(X_test))\n",
    "        for i in range(X.shape[1]):\n",
    "            X_t = X_test.copy()\n",
    "            np.random.shuffle(X_t[:, i])\n",
    "            shuff_acc = r2_score(y_test, rfr.predict(X_t))\n",
    "            scores[df_stores_transactions.columns[i]].append((acc-shuff_acc)/acc)\n",
    "    return rfr"
   ]
  },
  {
   "cell_type": "code",
   "execution_count": 13,
   "metadata": {},
   "outputs": [
    {
     "ename": "KeyboardInterrupt",
     "evalue": "",
     "output_type": "error",
     "traceback": [
      "\u001b[1;31m---------------------------------------------------------------------------\u001b[0m",
      "\u001b[1;31mKeyboardInterrupt\u001b[0m                         Traceback (most recent call last)",
      "\u001b[1;32m<ipython-input-13-1d334b34d9f7>\u001b[0m in \u001b[0;36m<module>\u001b[1;34m()\u001b[0m\n\u001b[1;32m----> 1\u001b[1;33m \u001b[0mrfr\u001b[0m \u001b[1;33m=\u001b[0m \u001b[0mrfr_mean_decrease_accuracy\u001b[0m\u001b[1;33m(\u001b[0m\u001b[0mX\u001b[0m\u001b[1;33m,\u001b[0m \u001b[0my\u001b[0m\u001b[1;33m,\u001b[0m \u001b[0mdf_stores_transactions\u001b[0m\u001b[1;33m)\u001b[0m\u001b[1;33m\u001b[0m\u001b[0m\n\u001b[0m\u001b[0;32m      2\u001b[0m \u001b[0mrfr_importance\u001b[0m\u001b[1;33m(\u001b[0m\u001b[0mrfr\u001b[0m\u001b[1;33m,\u001b[0m \u001b[0mX\u001b[0m\u001b[1;33m,\u001b[0m \u001b[0my\u001b[0m\u001b[1;33m,\u001b[0m \u001b[0mdf_stores_transactions\u001b[0m\u001b[1;33m)\u001b[0m\u001b[1;33m\u001b[0m\u001b[0m\n",
      "\u001b[1;32m<ipython-input-12-02f94f12c4bf>\u001b[0m in \u001b[0;36mrfr_mean_decrease_accuracy\u001b[1;34m(X, y, df)\u001b[0m\n\u001b[0;32m     12\u001b[0m             \u001b[0mX_t\u001b[0m \u001b[1;33m=\u001b[0m \u001b[0mX_test\u001b[0m\u001b[1;33m.\u001b[0m\u001b[0mcopy\u001b[0m\u001b[1;33m(\u001b[0m\u001b[1;33m)\u001b[0m\u001b[1;33m\u001b[0m\u001b[0m\n\u001b[0;32m     13\u001b[0m             \u001b[0mnp\u001b[0m\u001b[1;33m.\u001b[0m\u001b[0mrandom\u001b[0m\u001b[1;33m.\u001b[0m\u001b[0mshuffle\u001b[0m\u001b[1;33m(\u001b[0m\u001b[0mX_t\u001b[0m\u001b[1;33m[\u001b[0m\u001b[1;33m:\u001b[0m\u001b[1;33m,\u001b[0m \u001b[0mi\u001b[0m\u001b[1;33m]\u001b[0m\u001b[1;33m)\u001b[0m\u001b[1;33m\u001b[0m\u001b[0m\n\u001b[1;32m---> 14\u001b[1;33m             \u001b[0mshuff_acc\u001b[0m \u001b[1;33m=\u001b[0m \u001b[0mr2_score\u001b[0m\u001b[1;33m(\u001b[0m\u001b[0my_test\u001b[0m\u001b[1;33m,\u001b[0m \u001b[0mrfr\u001b[0m\u001b[1;33m.\u001b[0m\u001b[0mpredict\u001b[0m\u001b[1;33m(\u001b[0m\u001b[0mX_t\u001b[0m\u001b[1;33m)\u001b[0m\u001b[1;33m)\u001b[0m\u001b[1;33m\u001b[0m\u001b[0m\n\u001b[0m\u001b[0;32m     15\u001b[0m             \u001b[0mscores\u001b[0m\u001b[1;33m[\u001b[0m\u001b[0mdf_stores_transactions\u001b[0m\u001b[1;33m.\u001b[0m\u001b[0mcolumns\u001b[0m\u001b[1;33m[\u001b[0m\u001b[0mi\u001b[0m\u001b[1;33m]\u001b[0m\u001b[1;33m]\u001b[0m\u001b[1;33m.\u001b[0m\u001b[0mappend\u001b[0m\u001b[1;33m(\u001b[0m\u001b[1;33m(\u001b[0m\u001b[0macc\u001b[0m\u001b[1;33m-\u001b[0m\u001b[0mshuff_acc\u001b[0m\u001b[1;33m)\u001b[0m\u001b[1;33m/\u001b[0m\u001b[0macc\u001b[0m\u001b[1;33m)\u001b[0m\u001b[1;33m\u001b[0m\u001b[0m\n\u001b[0;32m     16\u001b[0m     \u001b[1;32mreturn\u001b[0m \u001b[0mrfr\u001b[0m\u001b[1;33m\u001b[0m\u001b[0m\n",
      "\u001b[1;32m~\\Anaconda3\\lib\\site-packages\\sklearn\\ensemble\\forest.py\u001b[0m in \u001b[0;36mpredict\u001b[1;34m(self, X)\u001b[0m\n\u001b[0;32m    694\u001b[0m         Parallel(n_jobs=n_jobs, verbose=self.verbose, backend=\"threading\")(\n\u001b[0;32m    695\u001b[0m             \u001b[0mdelayed\u001b[0m\u001b[1;33m(\u001b[0m\u001b[0maccumulate_prediction\u001b[0m\u001b[1;33m)\u001b[0m\u001b[1;33m(\u001b[0m\u001b[0me\u001b[0m\u001b[1;33m.\u001b[0m\u001b[0mpredict\u001b[0m\u001b[1;33m,\u001b[0m \u001b[0mX\u001b[0m\u001b[1;33m,\u001b[0m \u001b[1;33m[\u001b[0m\u001b[0my_hat\u001b[0m\u001b[1;33m]\u001b[0m\u001b[1;33m,\u001b[0m \u001b[0mlock\u001b[0m\u001b[1;33m)\u001b[0m\u001b[1;33m\u001b[0m\u001b[0m\n\u001b[1;32m--> 696\u001b[1;33m             for e in self.estimators_)\n\u001b[0m\u001b[0;32m    697\u001b[0m \u001b[1;33m\u001b[0m\u001b[0m\n\u001b[0;32m    698\u001b[0m         \u001b[0my_hat\u001b[0m \u001b[1;33m/=\u001b[0m \u001b[0mlen\u001b[0m\u001b[1;33m(\u001b[0m\u001b[0mself\u001b[0m\u001b[1;33m.\u001b[0m\u001b[0mestimators_\u001b[0m\u001b[1;33m)\u001b[0m\u001b[1;33m\u001b[0m\u001b[0m\n",
      "\u001b[1;32m~\\Anaconda3\\lib\\site-packages\\sklearn\\externals\\joblib\\parallel.py\u001b[0m in \u001b[0;36m__call__\u001b[1;34m(self, iterable)\u001b[0m\n\u001b[0;32m    795\u001b[0m         \u001b[1;32mfinally\u001b[0m\u001b[1;33m:\u001b[0m\u001b[1;33m\u001b[0m\u001b[0m\n\u001b[0;32m    796\u001b[0m             \u001b[1;32mif\u001b[0m \u001b[1;32mnot\u001b[0m \u001b[0mself\u001b[0m\u001b[1;33m.\u001b[0m\u001b[0m_managed_backend\u001b[0m\u001b[1;33m:\u001b[0m\u001b[1;33m\u001b[0m\u001b[0m\n\u001b[1;32m--> 797\u001b[1;33m                 \u001b[0mself\u001b[0m\u001b[1;33m.\u001b[0m\u001b[0m_terminate_backend\u001b[0m\u001b[1;33m(\u001b[0m\u001b[1;33m)\u001b[0m\u001b[1;33m\u001b[0m\u001b[0m\n\u001b[0m\u001b[0;32m    798\u001b[0m             \u001b[0mself\u001b[0m\u001b[1;33m.\u001b[0m\u001b[0m_jobs\u001b[0m \u001b[1;33m=\u001b[0m \u001b[0mlist\u001b[0m\u001b[1;33m(\u001b[0m\u001b[1;33m)\u001b[0m\u001b[1;33m\u001b[0m\u001b[0m\n\u001b[0;32m    799\u001b[0m         \u001b[0moutput\u001b[0m \u001b[1;33m=\u001b[0m \u001b[0mself\u001b[0m\u001b[1;33m.\u001b[0m\u001b[0m_output\u001b[0m\u001b[1;33m\u001b[0m\u001b[0m\n",
      "\u001b[1;32m~\\Anaconda3\\lib\\site-packages\\sklearn\\externals\\joblib\\parallel.py\u001b[0m in \u001b[0;36m_terminate_backend\u001b[1;34m(self)\u001b[0m\n\u001b[0;32m    568\u001b[0m     \u001b[1;32mdef\u001b[0m \u001b[0m_terminate_backend\u001b[0m\u001b[1;33m(\u001b[0m\u001b[0mself\u001b[0m\u001b[1;33m)\u001b[0m\u001b[1;33m:\u001b[0m\u001b[1;33m\u001b[0m\u001b[0m\n\u001b[0;32m    569\u001b[0m         \u001b[1;32mif\u001b[0m \u001b[0mself\u001b[0m\u001b[1;33m.\u001b[0m\u001b[0m_backend\u001b[0m \u001b[1;32mis\u001b[0m \u001b[1;32mnot\u001b[0m \u001b[1;32mNone\u001b[0m\u001b[1;33m:\u001b[0m\u001b[1;33m\u001b[0m\u001b[0m\n\u001b[1;32m--> 570\u001b[1;33m             \u001b[0mself\u001b[0m\u001b[1;33m.\u001b[0m\u001b[0m_backend\u001b[0m\u001b[1;33m.\u001b[0m\u001b[0mterminate\u001b[0m\u001b[1;33m(\u001b[0m\u001b[1;33m)\u001b[0m\u001b[1;33m\u001b[0m\u001b[0m\n\u001b[0m\u001b[0;32m    571\u001b[0m \u001b[1;33m\u001b[0m\u001b[0m\n\u001b[0;32m    572\u001b[0m     \u001b[1;32mdef\u001b[0m \u001b[0m_dispatch\u001b[0m\u001b[1;33m(\u001b[0m\u001b[0mself\u001b[0m\u001b[1;33m,\u001b[0m \u001b[0mbatch\u001b[0m\u001b[1;33m)\u001b[0m\u001b[1;33m:\u001b[0m\u001b[1;33m\u001b[0m\u001b[0m\n",
      "\u001b[1;32m~\\Anaconda3\\lib\\site-packages\\sklearn\\externals\\joblib\\_parallel_backends.py\u001b[0m in \u001b[0;36mterminate\u001b[1;34m(self)\u001b[0m\n\u001b[0;32m    134\u001b[0m         \u001b[1;32mif\u001b[0m \u001b[0mself\u001b[0m\u001b[1;33m.\u001b[0m\u001b[0m_pool\u001b[0m \u001b[1;32mis\u001b[0m \u001b[1;32mnot\u001b[0m \u001b[1;32mNone\u001b[0m\u001b[1;33m:\u001b[0m\u001b[1;33m\u001b[0m\u001b[0m\n\u001b[0;32m    135\u001b[0m             \u001b[0mself\u001b[0m\u001b[1;33m.\u001b[0m\u001b[0m_pool\u001b[0m\u001b[1;33m.\u001b[0m\u001b[0mclose\u001b[0m\u001b[1;33m(\u001b[0m\u001b[1;33m)\u001b[0m\u001b[1;33m\u001b[0m\u001b[0m\n\u001b[1;32m--> 136\u001b[1;33m             \u001b[0mself\u001b[0m\u001b[1;33m.\u001b[0m\u001b[0m_pool\u001b[0m\u001b[1;33m.\u001b[0m\u001b[0mterminate\u001b[0m\u001b[1;33m(\u001b[0m\u001b[1;33m)\u001b[0m  \u001b[1;31m# terminate does a join()\u001b[0m\u001b[1;33m\u001b[0m\u001b[0m\n\u001b[0m\u001b[0;32m    137\u001b[0m             \u001b[0mself\u001b[0m\u001b[1;33m.\u001b[0m\u001b[0m_pool\u001b[0m \u001b[1;33m=\u001b[0m \u001b[1;32mNone\u001b[0m\u001b[1;33m\u001b[0m\u001b[0m\n\u001b[0;32m    138\u001b[0m \u001b[1;33m\u001b[0m\u001b[0m\n",
      "\u001b[1;32m~\\Anaconda3\\lib\\multiprocessing\\pool.py\u001b[0m in \u001b[0;36mterminate\u001b[1;34m(self)\u001b[0m\n\u001b[0;32m    539\u001b[0m         \u001b[0mself\u001b[0m\u001b[1;33m.\u001b[0m\u001b[0m_state\u001b[0m \u001b[1;33m=\u001b[0m \u001b[0mTERMINATE\u001b[0m\u001b[1;33m\u001b[0m\u001b[0m\n\u001b[0;32m    540\u001b[0m         \u001b[0mself\u001b[0m\u001b[1;33m.\u001b[0m\u001b[0m_worker_handler\u001b[0m\u001b[1;33m.\u001b[0m\u001b[0m_state\u001b[0m \u001b[1;33m=\u001b[0m \u001b[0mTERMINATE\u001b[0m\u001b[1;33m\u001b[0m\u001b[0m\n\u001b[1;32m--> 541\u001b[1;33m         \u001b[0mself\u001b[0m\u001b[1;33m.\u001b[0m\u001b[0m_terminate\u001b[0m\u001b[1;33m(\u001b[0m\u001b[1;33m)\u001b[0m\u001b[1;33m\u001b[0m\u001b[0m\n\u001b[0m\u001b[0;32m    542\u001b[0m \u001b[1;33m\u001b[0m\u001b[0m\n\u001b[0;32m    543\u001b[0m     \u001b[1;32mdef\u001b[0m \u001b[0mjoin\u001b[0m\u001b[1;33m(\u001b[0m\u001b[0mself\u001b[0m\u001b[1;33m)\u001b[0m\u001b[1;33m:\u001b[0m\u001b[1;33m\u001b[0m\u001b[0m\n",
      "\u001b[1;32m~\\Anaconda3\\lib\\multiprocessing\\util.py\u001b[0m in \u001b[0;36m__call__\u001b[1;34m(self, wr, _finalizer_registry, sub_debug, getpid)\u001b[0m\n\u001b[0;32m    184\u001b[0m                 sub_debug('finalizer calling %s with args %s and kwargs %s',\n\u001b[0;32m    185\u001b[0m                           self._callback, self._args, self._kwargs)\n\u001b[1;32m--> 186\u001b[1;33m                 \u001b[0mres\u001b[0m \u001b[1;33m=\u001b[0m \u001b[0mself\u001b[0m\u001b[1;33m.\u001b[0m\u001b[0m_callback\u001b[0m\u001b[1;33m(\u001b[0m\u001b[1;33m*\u001b[0m\u001b[0mself\u001b[0m\u001b[1;33m.\u001b[0m\u001b[0m_args\u001b[0m\u001b[1;33m,\u001b[0m \u001b[1;33m**\u001b[0m\u001b[0mself\u001b[0m\u001b[1;33m.\u001b[0m\u001b[0m_kwargs\u001b[0m\u001b[1;33m)\u001b[0m\u001b[1;33m\u001b[0m\u001b[0m\n\u001b[0m\u001b[0;32m    187\u001b[0m             \u001b[0mself\u001b[0m\u001b[1;33m.\u001b[0m\u001b[0m_weakref\u001b[0m \u001b[1;33m=\u001b[0m \u001b[0mself\u001b[0m\u001b[1;33m.\u001b[0m\u001b[0m_callback\u001b[0m \u001b[1;33m=\u001b[0m \u001b[0mself\u001b[0m\u001b[1;33m.\u001b[0m\u001b[0m_args\u001b[0m \u001b[1;33m=\u001b[0m\u001b[0;31m \u001b[0m\u001b[0;31m\\\u001b[0m\u001b[1;33m\u001b[0m\u001b[0m\n\u001b[0;32m    188\u001b[0m                             \u001b[0mself\u001b[0m\u001b[1;33m.\u001b[0m\u001b[0m_kwargs\u001b[0m \u001b[1;33m=\u001b[0m \u001b[0mself\u001b[0m\u001b[1;33m.\u001b[0m\u001b[0m_key\u001b[0m \u001b[1;33m=\u001b[0m \u001b[1;32mNone\u001b[0m\u001b[1;33m\u001b[0m\u001b[0m\n",
      "\u001b[1;32m~\\Anaconda3\\lib\\multiprocessing\\pool.py\u001b[0m in \u001b[0;36m_terminate_pool\u001b[1;34m(cls, taskqueue, inqueue, outqueue, pool, worker_handler, task_handler, result_handler, cache)\u001b[0m\n\u001b[0;32m    580\u001b[0m         \u001b[0mutil\u001b[0m\u001b[1;33m.\u001b[0m\u001b[0mdebug\u001b[0m\u001b[1;33m(\u001b[0m\u001b[1;34m'joining worker handler'\u001b[0m\u001b[1;33m)\u001b[0m\u001b[1;33m\u001b[0m\u001b[0m\n\u001b[0;32m    581\u001b[0m         \u001b[1;32mif\u001b[0m \u001b[0mthreading\u001b[0m\u001b[1;33m.\u001b[0m\u001b[0mcurrent_thread\u001b[0m\u001b[1;33m(\u001b[0m\u001b[1;33m)\u001b[0m \u001b[1;32mis\u001b[0m \u001b[1;32mnot\u001b[0m \u001b[0mworker_handler\u001b[0m\u001b[1;33m:\u001b[0m\u001b[1;33m\u001b[0m\u001b[0m\n\u001b[1;32m--> 582\u001b[1;33m             \u001b[0mworker_handler\u001b[0m\u001b[1;33m.\u001b[0m\u001b[0mjoin\u001b[0m\u001b[1;33m(\u001b[0m\u001b[1;33m)\u001b[0m\u001b[1;33m\u001b[0m\u001b[0m\n\u001b[0m\u001b[0;32m    583\u001b[0m \u001b[1;33m\u001b[0m\u001b[0m\n\u001b[0;32m    584\u001b[0m         \u001b[1;31m# Terminate workers which haven't already finished.\u001b[0m\u001b[1;33m\u001b[0m\u001b[1;33m\u001b[0m\u001b[0m\n",
      "\u001b[1;32m~\\Anaconda3\\lib\\threading.py\u001b[0m in \u001b[0;36mjoin\u001b[1;34m(self, timeout)\u001b[0m\n\u001b[0;32m   1054\u001b[0m \u001b[1;33m\u001b[0m\u001b[0m\n\u001b[0;32m   1055\u001b[0m         \u001b[1;32mif\u001b[0m \u001b[0mtimeout\u001b[0m \u001b[1;32mis\u001b[0m \u001b[1;32mNone\u001b[0m\u001b[1;33m:\u001b[0m\u001b[1;33m\u001b[0m\u001b[0m\n\u001b[1;32m-> 1056\u001b[1;33m             \u001b[0mself\u001b[0m\u001b[1;33m.\u001b[0m\u001b[0m_wait_for_tstate_lock\u001b[0m\u001b[1;33m(\u001b[0m\u001b[1;33m)\u001b[0m\u001b[1;33m\u001b[0m\u001b[0m\n\u001b[0m\u001b[0;32m   1057\u001b[0m         \u001b[1;32melse\u001b[0m\u001b[1;33m:\u001b[0m\u001b[1;33m\u001b[0m\u001b[0m\n\u001b[0;32m   1058\u001b[0m             \u001b[1;31m# the behavior of a negative timeout isn't documented, but\u001b[0m\u001b[1;33m\u001b[0m\u001b[1;33m\u001b[0m\u001b[0m\n",
      "\u001b[1;32m~\\Anaconda3\\lib\\threading.py\u001b[0m in \u001b[0;36m_wait_for_tstate_lock\u001b[1;34m(self, block, timeout)\u001b[0m\n\u001b[0;32m   1070\u001b[0m         \u001b[1;32mif\u001b[0m \u001b[0mlock\u001b[0m \u001b[1;32mis\u001b[0m \u001b[1;32mNone\u001b[0m\u001b[1;33m:\u001b[0m  \u001b[1;31m# already determined that the C code is done\u001b[0m\u001b[1;33m\u001b[0m\u001b[0m\n\u001b[0;32m   1071\u001b[0m             \u001b[1;32massert\u001b[0m \u001b[0mself\u001b[0m\u001b[1;33m.\u001b[0m\u001b[0m_is_stopped\u001b[0m\u001b[1;33m\u001b[0m\u001b[0m\n\u001b[1;32m-> 1072\u001b[1;33m         \u001b[1;32melif\u001b[0m \u001b[0mlock\u001b[0m\u001b[1;33m.\u001b[0m\u001b[0macquire\u001b[0m\u001b[1;33m(\u001b[0m\u001b[0mblock\u001b[0m\u001b[1;33m,\u001b[0m \u001b[0mtimeout\u001b[0m\u001b[1;33m)\u001b[0m\u001b[1;33m:\u001b[0m\u001b[1;33m\u001b[0m\u001b[0m\n\u001b[0m\u001b[0;32m   1073\u001b[0m             \u001b[0mlock\u001b[0m\u001b[1;33m.\u001b[0m\u001b[0mrelease\u001b[0m\u001b[1;33m(\u001b[0m\u001b[1;33m)\u001b[0m\u001b[1;33m\u001b[0m\u001b[0m\n\u001b[0;32m   1074\u001b[0m             \u001b[0mself\u001b[0m\u001b[1;33m.\u001b[0m\u001b[0m_stop\u001b[0m\u001b[1;33m(\u001b[0m\u001b[1;33m)\u001b[0m\u001b[1;33m\u001b[0m\u001b[0m\n",
      "\u001b[1;31mKeyboardInterrupt\u001b[0m: "
     ]
    }
   ],
   "source": [
    "rfr = rfr_mean_decrease_accuracy(X, y, df_stores_transactions)\n",
    "rfr_importance(rfr, X, y, df_stores_transactions)"
   ]
  },
  {
   "cell_type": "markdown",
   "metadata": {},
   "source": [
    "From above figure, we can select first 11 features.\n",
    "1. feature 38 (0.310676) type_A\n",
    "2. feature 34 (0.307727) state_Pichincha\n",
    "3. feature 32 (0.096955) state_Manabi\n",
    "4. feature 57 (0.071549) cluster_15\n",
    "5. feature 21 (0.036588) city_Santo Domingo\n",
    "6. feature 49 (0.033177) cluster_7\n",
    "7. feature 41 (0.030693) type_D\n",
    "8. feature 36 (0.029397) state_Santo Domingo de los Tsachilas\n",
    "9. feature 60 (0.017457) transactions\n",
    "10. feature 43 (0.012616) cluster_1\n",
    "11. feature 8 (0.012273) city_Guayaquil"
   ]
  },
  {
   "cell_type": "markdown",
   "metadata": {},
   "source": [
    "### Plot learning curve"
   ]
  },
  {
   "cell_type": "code",
   "execution_count": 28,
   "metadata": {
    "collapsed": true
   },
   "outputs": [],
   "source": [
    "def plot_learning_curve(estimator, title, X, y, ylim=None, cv=None, n_jobs=1, \n",
    "                        train_sizes=np.linspace(.05, 1., 20), verbose=0, plot=True):\n",
    "    \"\"\"\n",
    "    Drawing learning curve\n",
    "    ------------------------\n",
    "    Parameter interpretation\n",
    "    estimator : the classifier we use\n",
    "    title : the title of chart\n",
    "    X : input feature matrix. type: numpy\n",
    "    y : input target vector\n",
    "    ylim : setting the highest and lowest point in chart (ymin, ymax)\n",
    "    cv : the total number of set we split into and one of them is testing set \n",
    "    n_jobs : the number of tasks process in parallel (default = 1)\n",
    "    \n",
    "    \"\"\"\n",
    "    train_sizes, train_scores, test_scores = learning_curve(\n",
    "        estimator, X, y, cv=cv, n_jobs=n_jobs, train_sizes=train_sizes, verbose=verbose)\n",
    "    \n",
    "    train_scores_mean = np.mean(train_scores, axis=1)\n",
    "    train_scores_std = np.std(train_scores, axis=1)\n",
    "    test_scores_mean = np.mean(test_scores, axis=1)\n",
    "    test_scores_std = np.std(test_scores, axis=1)\n",
    "    \n",
    "    if plot:\n",
    "        plt.figure()\n",
    "        plt.title(title)\n",
    "        if ylim is not None:\n",
    "            plt.ylim(*ylim)\n",
    "        plt.xlabel(\"training sample\")\n",
    "        plt.ylabel(\"score\")\n",
    "        plt.gca().invert_yaxis()\n",
    "        plt.grid()\n",
    "    \n",
    "        plt.fill_between(train_sizes, train_scores_mean - train_scores_std, train_scores_mean + train_scores_std, \n",
    "                         alpha=0.1, color=\"b\")\n",
    "        plt.fill_between(train_sizes, test_scores_mean - test_scores_std, test_scores_mean + test_scores_std, \n",
    "                         alpha=0.1, color=\"r\")\n",
    "        plt.plot(train_sizes, train_scores_mean, 'o-', color=\"b\", label=\"training data\")\n",
    "        plt.plot(train_sizes, test_scores_mean, 'o-', color=\"r\", label=\"testing data\")\n",
    "    \n",
    "        plt.legend(loc=\"best\")\n",
    "        \n",
    "        plt.draw()\n",
    "        plt.gca().invert_yaxis()\n",
    "        plt.show()\n",
    "    \n",
    "    midpoint = ((train_scores_mean[-1] + train_scores_std[-1]) + (test_scores_mean[-1] - test_scores_std[-1])) / 2\n",
    "    diff = (train_scores_mean[-1] + train_scores_std[-1]) - (test_scores_mean[-1] - test_scores_std[-1])\n",
    "    return midpoint, diff"
   ]
  },
  {
   "cell_type": "code",
   "execution_count": 29,
   "metadata": {},
   "outputs": [
    {
     "data": {
      "image/png": "[encoded data removed]",
      "text/plain": [
       "<matplotlib.figure.Figure at 0x247b46859b0>"
      ]
     },
     "metadata": {},
     "output_type": "display_data"
    },
    {
     "data": {
      "text/plain": [
       "(0.99609457658504397, 0.0072488398028111023)"
      ]
     },
     "execution_count": 29,
     "metadata": {},
     "output_type": "execute_result"
    }
   ],
   "source": [
    "train_df = df_stores_transactions\n",
    "train_np = train_df.as_matrix()\n",
    "\n",
    "y = train_np[:,-1]\n",
    "X = train_np[:,:-1]\n",
    "\n",
    "plot_learning_curve(rfr, \"Learning curve\", X, y, cv = 5)"
   ]
  },
  {
   "cell_type": "markdown",
   "metadata": {
    "collapsed": true
   },
   "source": [
    "## 3.2 Items\n",
    "### 3.2.1 family, class vs unit_sale"
   ]
  },
  {
   "cell_type": "code",
   "execution_count": 177,
   "metadata": {
    "scrolled": true
   },
   "outputs": [
    {
     "data": {
      "text/html": [
       "<div>\n",
       "<style scoped>\n",
       "    .dataframe tbody tr th:only-of-type {\n",
       "        vertical-align: middle;\n",
       "    }\n",
       "\n",
       "    .dataframe tbody tr th {\n",
       "        vertical-align: top;\n",
       "    }\n",
       "\n",
       "    .dataframe thead th {\n",
       "        text-align: right;\n",
       "    }\n",
       "</style>\n",
       "<table border=\"1\" class=\"dataframe\">\n",
       "  <thead>\n",
       "    <tr style=\"text-align: right;\">\n",
       "      <th></th>\n",
       "      <th>date</th>\n",
       "      <th>item_nbr</th>\n",
       "      <th>unit_sales</th>\n",
       "      <th>family</th>\n",
       "      <th>class</th>\n",
       "      <th>perishable</th>\n",
       "    </tr>\n",
       "  </thead>\n",
       "  <tbody>\n",
       "    <tr>\n",
       "      <th>0</th>\n",
       "      <td>2013-01-01</td>\n",
       "      <td>103665</td>\n",
       "      <td>7.0</td>\n",
       "      <td>BREAD/BAKERY</td>\n",
       "      <td>2712</td>\n",
       "      <td>1</td>\n",
       "    </tr>\n",
       "    <tr>\n",
       "      <th>1</th>\n",
       "      <td>2013-01-01</td>\n",
       "      <td>105574</td>\n",
       "      <td>1.0</td>\n",
       "      <td>GROCERY I</td>\n",
       "      <td>1045</td>\n",
       "      <td>0</td>\n",
       "    </tr>\n",
       "    <tr>\n",
       "      <th>2</th>\n",
       "      <td>2013-01-01</td>\n",
       "      <td>105575</td>\n",
       "      <td>2.0</td>\n",
       "      <td>GROCERY I</td>\n",
       "      <td>1045</td>\n",
       "      <td>0</td>\n",
       "    </tr>\n",
       "    <tr>\n",
       "      <th>3</th>\n",
       "      <td>2013-01-01</td>\n",
       "      <td>108079</td>\n",
       "      <td>1.0</td>\n",
       "      <td>GROCERY I</td>\n",
       "      <td>1030</td>\n",
       "      <td>0</td>\n",
       "    </tr>\n",
       "    <tr>\n",
       "      <th>4</th>\n",
       "      <td>2013-01-01</td>\n",
       "      <td>108701</td>\n",
       "      <td>1.0</td>\n",
       "      <td>DELI</td>\n",
       "      <td>2644</td>\n",
       "      <td>1</td>\n",
       "    </tr>\n",
       "  </tbody>\n",
       "</table>\n",
       "</div>"
      ],
      "text/plain": [
       "        date  item_nbr  unit_sales        family  class  perishable\n",
       "0 2013-01-01    103665         7.0  BREAD/BAKERY   2712           1\n",
       "1 2013-01-01    105574         1.0     GROCERY I   1045           0\n",
       "2 2013-01-01    105575         2.0     GROCERY I   1045           0\n",
       "3 2013-01-01    108079         1.0     GROCERY I   1030           0\n",
       "4 2013-01-01    108701         1.0          DELI   2644           1"
      ]
     },
     "execution_count": 177,
     "metadata": {},
     "output_type": "execute_result"
    }
   ],
   "source": [
    "items_train = pd.merge(data.train, data.items, on='item_nbr', how='left')\n",
    "items_train = items_train[['date','item_nbr','unit_sales','family','class','perishable']]\n",
    "items_train"
   ]
  },
  {
   "cell_type": "code",
   "execution_count": 180,
   "metadata": {},
   "outputs": [
    {
     "name": "stdout",
     "output_type": "stream",
     "text": [
      "<class 'pandas.core.frame.DataFrame'>\n",
      "RangeIndex: 10000000 entries, 0 to 9999999\n",
      "Data columns (total 6 columns):\n",
      "id             int64\n",
      "date           datetime64[ns]\n",
      "store_nbr      int8\n",
      "item_nbr       int32\n",
      "unit_sales     float32\n",
      "onpromotion    int8\n",
      "dtypes: datetime64[ns](1), float32(1), int32(1), int64(1), int8(2)\n",
      "memory usage: 248.0 MB\n"
     ]
    }
   ],
   "source": [
    "data.train.info()"
   ]
  },
  {
   "cell_type": "code",
   "execution_count": 178,
   "metadata": {},
   "outputs": [
    {
     "name": "stdout",
     "output_type": "stream",
     "text": [
      "family\n",
      "BREAD/BAKERY    7.000000\n",
      "DELI            1.000000\n",
      "GROCERY I       1.333333\n",
      "Name: unit_sales, dtype: float32\n",
      "family\n",
      "BREAD/BAKERY        NaN\n",
      "DELI                NaN\n",
      "GROCERY I       0.57735\n",
      "Name: unit_sales, dtype: float32\n"
     ]
    }
   ],
   "source": [
    "items_train = items_train[['unit_sales','family','perishable']].head()\n",
    "unit_sales_mean = items_train.groupby(['family'])['unit_sales'].mean()\n",
    "unit_sales_std = items_train.groupby(['family'])['unit_sales'].std()\n",
    "print(unit_sales_mean)\n",
    "print(unit_sales_std)"
   ]
  },
  {
   "cell_type": "code",
   "execution_count": 43,
   "metadata": {
    "collapsed": true
   },
   "outputs": [],
   "source": [
    "items_train = data.merged_data[['date','item_nbr','unit_sales','family','class','perishable']]\n",
    "items_unit_sales = pd.DataFrame({'item_nbr': unit_sales_mean.index.get_level_values('item_nbr'),\n",
    "                      'family': unit_sales_mean.index.get_level_values('family'),\n",
    "                      'class': unit_sales_mean.index.get_level_values('class'),\n",
    "                      'unit_sales':unit_sales_mean.values})\n",
    "items_unit_sales.head()\n",
    "\n",
    "dummies_family = pd.get_dummies(items_unit_sales['family'], prefix='family')\n",
    "dummies_class = pd.get_dummies(items_unit_sales['class'], prefix='class')\n",
    "df_items_unit_sales = pd.concat([dummies_class,dummies_family,items_unit_sales['unit_sales']], axis = 1)\n",
    "\n",
    "matrix_items_unit_sales = df_items_unit_sales.as_matrix()\n",
    "   \n",
    "y = matrix_items_unit_sales[:,-1]\n",
    "X = matrix_items_unit_sales[:,:-1] "
   ]
  },
  {
   "cell_type": "code",
   "execution_count": 44,
   "metadata": {},
   "outputs": [
    {
     "name": "stdout",
     "output_type": "stream",
     "text": [
      "Feature ranking:\n",
      "1.feature 93 (0.186836) class_2416\n",
      "2.feature 88 (0.087367) class_2302\n",
      "3.feature 177 (0.062828) family_BEVERAGES\n",
      "4.feature 8 (0.051017) class_1014\n",
      "5.feature 119 (0.050405) class_2756\n",
      "6.feature 145 (0.038694) class_3026\n",
      "7.feature 43 (0.036984) class_1080\n",
      "8.feature 39 (0.036595) class_1072\n",
      "9.feature 193 (0.030801) family_POULTRY\n",
      "10.feature 53 (0.027919) class_1124\n",
      "11.feature 47 (0.026764) class_1088\n",
      "12.feature 28 (0.023403) class_1045\n",
      "13.feature 118 (0.018892) class_2752\n",
      "14.feature 158 (0.018460) class_4114\n",
      "15.feature 108 (0.017298) class_2702\n",
      "16.feature 125 (0.016423) class_2904\n",
      "17.feature 84 (0.016383) class_2226\n",
      "18.feature 191 (0.015776) family_MEATS\n",
      "19.feature 120 (0.014873) class_2784\n",
      "20.feature 90 (0.012167) class_2306\n",
      "21.feature 9 (0.011557) class_1016\n",
      "22.feature 117 (0.011127) class_2750\n",
      "23.feature 152 (0.011106) class_3038\n",
      "24.feature 68 (0.009615) class_2102\n",
      "25.feature 149 (0.008224) class_3032\n",
      "26.feature 2 (0.008199) class_1004\n",
      "27.feature 114 (0.008054) class_2718\n",
      "28.feature 94 (0.007340) class_2502\n",
      "29.feature 178 (0.006554) family_BREAD/BAKERY\n",
      "30.feature 6 (0.006430) class_1012\n",
      "31.feature 52 (0.005644) class_1122\n",
      "32.feature 51 (0.005370) class_1120\n",
      "33.feature 189 (0.004863) family_LINGERIE\n",
      "34.feature 194 (0.004210) family_PREPARED FOODS\n",
      "35.feature 175 (0.004188) family_AUTOMOTIVE\n",
      "36.feature 135 (0.003790) class_3008\n",
      "37.feature 56 (0.003443) class_1136\n",
      "38.feature 180 (0.003378) family_DAIRY\n",
      "39.feature 85 (0.003278) class_2228\n",
      "40.feature 17 (0.003132) class_1030\n",
      "41.feature 25 (0.002844) class_1040\n",
      "42.feature 34 (0.002700) class_1062\n",
      "43.feature 10 (0.002496) class_1022\n",
      "44.feature 89 (0.002460) class_2304\n",
      "45.feature 121 (0.002180) class_2802\n",
      "46.feature 155 (0.002156) class_3046\n",
      "47.feature 127 (0.002055) class_2960\n",
      "48.feature 73 (0.002017) class_2116\n",
      "49.feature 182 (0.001982) family_EGGS\n",
      "50.feature 54 (0.001968) class_1126\n",
      "51.feature 110 (0.001873) class_2708\n",
      "52.feature 0 (0.001866) class_1002\n",
      "53.feature 195 (0.001787) family_SEAFOOD\n",
      "54.feature 22 (0.001752) class_1036\n",
      "55.feature 142 (0.001648) class_3020\n",
      "56.feature 32 (0.001603) class_1058\n",
      "57.feature 55 (0.001246) class_1132\n",
      "58.feature 41 (0.001131) class_1076\n",
      "59.feature 33 (0.001120) class_1060\n",
      "60.feature 57 (0.001105) class_1138\n",
      "61.feature 111 (0.001096) class_2712\n",
      "62.feature 124 (0.001094) class_2854\n",
      "63.feature 190 (0.001061) family_LIQUOR,WINE,BEER\n",
      "64.feature 20 (0.001036) class_1034\n",
      "65.feature 176 (0.001032) family_BEAUTY\n",
      "66.feature 144 (0.001024) class_3024\n",
      "67.feature 69 (0.000998) class_2104\n",
      "68.feature 132 (0.000965) class_3004\n",
      "69.feature 160 (0.000950) class_4126\n",
      "70.feature 50 (0.000877) class_1096\n",
      "71.feature 26 (0.000866) class_1042\n",
      "72.feature 91 (0.000861) class_2372\n",
      "73.feature 61 (0.000808) class_1318\n",
      "74.feature 13 (0.000746) class_1026\n",
      "75.feature 154 (0.000679) class_3044\n",
      "76.feature 179 (0.000674) family_CLEANING\n",
      "77.feature 102 (0.000671) class_2646\n",
      "78.feature 159 (0.000635) class_4122\n",
      "79.feature 170 (0.000634) class_6918\n",
      "80.feature 45 (0.000632) class_1086\n",
      "81.feature 186 (0.000629) family_HARDWARE\n",
      "82.feature 150 (0.000607) class_3034\n",
      "83.feature 3 (0.000605) class_1006\n",
      "84.feature 146 (0.000597) class_3028\n",
      "85.feature 192 (0.000586) family_PERSONAL CARE\n",
      "86.feature 15 (0.000583) class_1028\n",
      "87.feature 76 (0.000582) class_2130\n",
      "88.feature 123 (0.000569) class_2850\n",
      "89.feature 18 (0.000553) class_1032\n",
      "90.feature 72 (0.000540) class_2114\n",
      "91.feature 77 (0.000524) class_2142\n",
      "92.feature 184 (0.000519) family_GROCERY I\n",
      "93.feature 48 (0.000518) class_1092\n",
      "94.feature 40 (0.000516) class_1074\n",
      "95.feature 36 (0.000507) class_1066\n",
      "96.feature 27 (0.000470) class_1044\n",
      "97.feature 80 (0.000445) class_2214\n",
      "98.feature 49 (0.000439) class_1094\n",
      "99.feature 183 (0.000429) family_FROZEN FOODS\n",
      "100.feature 98 (0.000412) class_2636\n",
      "101.feature 1 (0.000407) class_1003\n",
      "102.feature 71 (0.000401) class_2112\n",
      "103.feature 148 (0.000394) class_3030\n",
      "104.feature 166 (0.000376) class_6706\n",
      "105.feature 101 (0.000365) class_2644\n",
      "106.feature 75 (0.000361) class_2128\n",
      "107.feature 107 (0.000353) class_2690\n",
      "108.feature 19 (0.000332) class_1033\n",
      "109.feature 74 (0.000328) class_2124\n",
      "110.feature 82 (0.000298) class_2220\n",
      "111.feature 62 (0.000293) class_1330\n",
      "112.feature 100 (0.000292) class_2642\n",
      "113.feature 79 (0.000281) class_2210\n",
      "114.feature 181 (0.000279) family_DELI\n",
      "115.feature 5 (0.000268) class_1010\n",
      "116.feature 139 (0.000252) class_3015\n",
      "117.feature 137 (0.000250) class_3012\n",
      "118.feature 122 (0.000249) class_2806\n",
      "119.feature 21 (0.000249) class_1035\n",
      "120.feature 185 (0.000247) family_GROCERY II\n",
      "121.feature 115 (0.000236) class_2720\n",
      "122.feature 112 (0.000234) class_2714\n",
      "123.feature 29 (0.000227) class_1048\n",
      "124.feature 4 (0.000225) class_1008\n",
      "125.feature 140 (0.000223) class_3016\n",
      "126.feature 7 (0.000218) class_1013\n",
      "127.feature 16 (0.000215) class_1029\n",
      "128.feature 138 (0.000212) class_3014\n",
      "129.feature 44 (0.000210) class_1084\n",
      "130.feature 42 (0.000202) class_1078\n",
      "131.feature 60 (0.000201) class_1314\n",
      "132.feature 151 (0.000200) class_3035\n",
      "133.feature 106 (0.000197) class_2664\n",
      "134.feature 67 (0.000192) class_1386\n",
      "135.feature 143 (0.000192) class_3022\n",
      "136.feature 141 (0.000191) class_3018\n",
      "137.feature 31 (0.000186) class_1056\n",
      "138.feature 126 (0.000185) class_2956\n",
      "139.feature 24 (0.000185) class_1039\n",
      "140.feature 188 (0.000185) family_LAWN AND GARDEN\n",
      "141.feature 153 (0.000184) class_3040\n",
      "142.feature 157 (0.000184) class_3090\n",
      "143.feature 133 (0.000174) class_3005\n",
      "144.feature 35 (0.000165) class_1064\n",
      "145.feature 83 (0.000164) class_2222\n",
      "146.feature 136 (0.000163) class_3010\n",
      "147.feature 46 (0.000163) class_1087\n",
      "148.feature 97 (0.000147) class_2632\n",
      "149.feature 131 (0.000144) class_2986\n",
      "150.feature 37 (0.000140) class_1067\n",
      "151.feature 23 (0.000133) class_1038\n",
      "152.feature 128 (0.000128) class_2962\n",
      "153.feature 109 (0.000126) class_2704\n",
      "154.feature 66 (0.000124) class_1380\n",
      "155.feature 165 (0.000119) class_6155\n",
      "156.feature 147 (0.000118) class_3029\n",
      "157.feature 14 (0.000110) class_1027\n",
      "158.feature 187 (0.000101) family_HOME APPLIANCES\n",
      "159.feature 70 (0.000101) class_2108\n",
      "160.feature 58 (0.000099) class_1236\n",
      "161.feature 174 (0.000099) class_7034\n",
      "162.feature 96 (0.000094) class_2630\n",
      "163.feature 103 (0.000087) class_2652\n",
      "164.feature 105 (0.000086) class_2662\n",
      "165.feature 113 (0.000081) class_2716\n",
      "166.feature 86 (0.000080) class_2238\n",
      "167.feature 63 (0.000078) class_1336\n",
      "168.feature 81 (0.000073) class_2218\n",
      "169.feature 11 (0.000062) class_1024\n",
      "170.feature 156 (0.000061) class_3060\n",
      "171.feature 104 (0.000061) class_2654\n",
      "172.feature 38 (0.000058) class_1070\n",
      "173.feature 12 (0.000057) class_1025\n",
      "174.feature 116 (0.000054) class_2722\n",
      "175.feature 78 (0.000053) class_2156\n",
      "176.feature 129 (0.000052) class_2966\n",
      "177.feature 65 (0.000044) class_1364\n",
      "178.feature 59 (0.000034) class_1302\n",
      "179.feature 172 (0.000030) class_7002\n",
      "180.feature 64 (0.000024) class_1338\n",
      "181.feature 130 (0.000021) class_2980\n",
      "182.feature 163 (0.000021) class_4252\n",
      "183.feature 161 (0.000020) class_4214\n",
      "184.feature 134 (0.000019) class_3006\n",
      "185.feature 171 (0.000018) class_6920\n",
      "186.feature 92 (0.000017) class_2412\n",
      "187.feature 87 (0.000017) class_2242\n",
      "188.feature 169 (0.000015) class_6824\n",
      "189.feature 30 (0.000013) class_1054\n",
      "190.feature 99 (0.000013) class_2640\n",
      "191.feature 95 (0.000009) class_2504\n",
      "192.feature 164 (0.000008) class_4254\n",
      "193.feature 168 (0.000006) class_6810\n",
      "194.feature 162 (0.000003) class_4222\n",
      "195.feature 173 (0.000002) class_7016\n",
      "196.feature 167 (0.000002) class_6806\n"
     ]
    },
    {
     "data": {
      "image/png": "[encoded data removed]",
      "text/plain": [
       "<matplotlib.figure.Figure at 0x24780146e80>"
      ]
     },
     "metadata": {},
     "output_type": "display_data"
    }
   ],
   "source": [
    "rfr = rfr_mean_decrease_impurity(X,y)\n",
    "rfr_importance(rfr, X, y, df_items_unit_sales)"
   ]
  },
  {
   "cell_type": "code",
   "execution_count": 45,
   "metadata": {},
   "outputs": [
    {
     "data": {
      "image/png": "[encoded data removed]",
      "text/plain": [
       "<matplotlib.figure.Figure at 0x247803c0c88>"
      ]
     },
     "metadata": {},
     "output_type": "display_data"
    },
    {
     "data": {
      "text/plain": [
       "(0.16731177354735435, 0.33463646652959739)"
      ]
     },
     "execution_count": 45,
     "metadata": {},
     "output_type": "execute_result"
    }
   ],
   "source": [
    "train_df = df_items_unit_sales\n",
    "train_np = train_df.as_matrix()\n",
    "\n",
    "y = train_np[:,-1]\n",
    "X = train_np[:,:-1]\n",
    "\n",
    "plot_learning_curve(rfr, \"Learning curve\", X, y, cv = 5)"
   ]
  },
  {
   "cell_type": "markdown",
   "metadata": {},
   "source": [
    "### 3.2.2 family vs unit_sale"
   ]
  },
  {
   "cell_type": "code",
   "execution_count": 174,
   "metadata": {},
   "outputs": [
    {
     "data": {
      "text/plain": [
       "array([ 7.,  1.,  2.,  1.,  1.], dtype=float32)"
      ]
     },
     "execution_count": 174,
     "metadata": {},
     "output_type": "execute_result"
    }
   ],
   "source": [
    "# items_train = data.merged_data[['date','item_nbr','unit_sales','family','class','perishable']]\n",
    "unit_sales_mean = items_train.groupby(['item_nbr','family','class'])['unit_sales'].mean()\n",
    "items_unit_sales = pd.DataFrame({'item_nbr': unit_sales_mean.index.get_level_values('item_nbr'),\n",
    "                      'family': unit_sales_mean.index.get_level_values('family'),\n",
    "                      'class': unit_sales_mean.index.get_level_values('class'),\n",
    "                      'unit_sales':unit_sales_mean.values})\n",
    "items_unit_sales.head()\n",
    "\n",
    "dummies_family = pd.get_dummies(items_unit_sales['family'], prefix='family')\n",
    "df_items_unit_sales = pd.concat([dummies_family,items_unit_sales['unit_sales']], axis = 1)\n",
    "matrix_items_unit_sales = df_items_unit_sales.as_matrix()\n",
    "   \n",
    "y = matrix_items_unit_sales[:,-1]\n",
    "X = matrix_items_unit_sales[:,:-1] "
   ]
  },
  {
   "cell_type": "code",
   "execution_count": 55,
   "metadata": {},
   "outputs": [
    {
     "name": "stdout",
     "output_type": "stream",
     "text": [
      "Feature ranking:\n",
      "1.feature 16 (0.353427) family_MEATS\n",
      "2.feature 18 (0.299511) family_POULTRY\n",
      "3.feature 2 (0.159767) family_BEVERAGES\n",
      "4.feature 3 (0.073565) family_BREAD/BAKERY\n",
      "5.feature 19 (0.033027) family_PREPARED FOODS\n",
      "6.feature 14 (0.013664) family_LINGERIE\n",
      "7.feature 0 (0.012955) family_AUTOMOTIVE\n",
      "8.feature 9 (0.006563) family_GROCERY I\n",
      "9.feature 4 (0.006517) family_CLEANING\n",
      "10.feature 6 (0.006438) family_DELI\n",
      "11.feature 8 (0.006033) family_FROZEN FOODS\n",
      "12.feature 7 (0.005246) family_EGGS\n",
      "13.feature 1 (0.004264) family_BEAUTY\n",
      "14.feature 11 (0.003691) family_HARDWARE\n",
      "15.feature 13 (0.002644) family_LAWN AND GARDEN\n",
      "16.feature 17 (0.002605) family_PERSONAL CARE\n",
      "17.feature 21 (0.002568) family_SEAFOOD\n",
      "18.feature 5 (0.002201) family_DAIRY\n",
      "19.feature 15 (0.001701) family_LIQUOR,WINE,BEER\n",
      "20.feature 10 (0.001447) family_GROCERY II\n",
      "21.feature 20 (0.001240) family_PRODUCE\n",
      "22.feature 12 (0.000925) family_HOME APPLIANCES\n"
     ]
    },
    {
     "data": {
      "image/png": "[encoded data removed]",
      "text/plain": [
       "<matplotlib.figure.Figure at 0x247805d7be0>"
      ]
     },
     "metadata": {},
     "output_type": "display_data"
    }
   ],
   "source": [
    "rfr = rfr_mean_decrease_impurity(X,y)\n",
    "rfr_importance(rfr, X, y, df_items_unit_sales)"
   ]
  },
  {
   "cell_type": "code",
   "execution_count": 56,
   "metadata": {},
   "outputs": [
    {
     "data": {
      "image/png": "[encoded data removed]",
      "text/plain": [
       "<matplotlib.figure.Figure at 0x247ad77fe48>"
      ]
     },
     "metadata": {},
     "output_type": "display_data"
    },
    {
     "data": {
      "text/plain": [
       "(0.095048301283975206, 0.046970545655864296)"
      ]
     },
     "execution_count": 56,
     "metadata": {},
     "output_type": "execute_result"
    }
   ],
   "source": [
    "train_df = df_items_unit_sales\n",
    "train_np = train_df.as_matrix()\n",
    "\n",
    "y = train_np[:,-1]\n",
    "X = train_np[:,:-1]\n",
    "\n",
    "plot_learning_curve(rfr, \"Learning curve\", X, y, cv = 5)"
   ]
  },
  {
   "cell_type": "markdown",
   "metadata": {},
   "source": [
    "### 3.2.3 class vs unit_sale"
   ]
  },
  {
   "cell_type": "code",
   "execution_count": 59,
   "metadata": {
    "collapsed": true
   },
   "outputs": [],
   "source": [
    "items_train = data.merged_data[['date','item_nbr','unit_sales','family','class','perishable']]\n",
    "unit_sales_mean = items_train.groupby(['item_nbr','family','class'])['unit_sales'].mean()\n",
    "items_unit_sales = pd.DataFrame({'item_nbr': unit_sales_mean.index.get_level_values('item_nbr'),\n",
    "                      'family': unit_sales_mean.index.get_level_values('family'),\n",
    "                      'class': unit_sales_mean.index.get_level_values('class'),\n",
    "                      'unit_sales':unit_sales_mean.values})\n",
    "items_unit_sales.head()\n",
    "\n",
    "dummies_class = pd.get_dummies(items_unit_sales['class'], prefix='class')\n",
    "df_items_unit_sales = pd.concat([dummies_class,items_unit_sales['unit_sales']], axis = 1)\n",
    "matrix_items_unit_sales = df_items_unit_sales.as_matrix()\n",
    "   \n",
    "y = matrix_items_unit_sales[:,-1]\n",
    "X = matrix_items_unit_sales[:,:-1] "
   ]
  },
  {
   "cell_type": "code",
   "execution_count": 60,
   "metadata": {},
   "outputs": [
    {
     "name": "stdout",
     "output_type": "stream",
     "text": [
      "Feature ranking:\n",
      "1.feature 92 (0.248223) class_2302\n",
      "2.feature 97 (0.154287) class_2416\n",
      "3.feature 123 (0.061001) class_2756\n",
      "4.feature 54 (0.046528) class_1124\n",
      "5.feature 8 (0.044173) class_1014\n",
      "6.feature 129 (0.038047) class_2904\n",
      "7.feature 52 (0.036651) class_1120\n",
      "8.feature 39 (0.028392) class_1072\n",
      "9.feature 122 (0.023528) class_2752\n",
      "10.feature 43 (0.022639) class_1080\n",
      "11.feature 112 (0.018590) class_2702\n",
      "12.feature 121 (0.017076) class_2750\n",
      "13.feature 57 (0.016339) class_1136\n",
      "14.feature 28 (0.015420) class_1045\n",
      "15.feature 149 (0.013031) class_3026\n",
      "16.feature 91 (0.012407) class_2246\n",
      "17.feature 53 (0.012384) class_1122\n",
      "18.feature 124 (0.010179) class_2784\n",
      "19.feature 25 (0.010054) class_1040\n",
      "20.feature 9 (0.009869) class_1016\n",
      "21.feature 162 (0.009391) class_4114\n",
      "22.feature 47 (0.009042) class_1088\n",
      "23.feature 55 (0.008678) class_1126\n",
      "24.feature 156 (0.008247) class_3038\n",
      "25.feature 94 (0.007289) class_2306\n",
      "26.feature 118 (0.006661) class_2718\n",
      "27.feature 2 (0.006523) class_1004\n",
      "28.feature 98 (0.006237) class_2502\n",
      "29.feature 87 (0.006192) class_2226\n",
      "30.feature 70 (0.004448) class_2102\n",
      "31.feature 131 (0.004371) class_2960\n",
      "32.feature 6 (0.004113) class_1012\n",
      "33.feature 41 (0.003807) class_1076\n",
      "34.feature 62 (0.003748) class_1318\n",
      "35.feature 153 (0.003482) class_3032\n",
      "36.feature 75 (0.003449) class_2116\n",
      "37.feature 32 (0.002738) class_1058\n",
      "38.feature 17 (0.002477) class_1030\n",
      "39.feature 139 (0.002359) class_3008\n",
      "40.feature 10 (0.002237) class_1022\n",
      "41.feature 58 (0.002099) class_1138\n",
      "42.feature 135 (0.001905) class_2986\n",
      "43.feature 88 (0.001904) class_2228\n",
      "44.feature 132 (0.001717) class_2962\n",
      "45.feature 125 (0.001679) class_2802\n",
      "46.feature 172 (0.001555) class_6810\n",
      "47.feature 128 (0.001553) class_2854\n",
      "48.feature 79 (0.001450) class_2130\n",
      "49.feature 114 (0.001382) class_2708\n",
      "50.feature 77 (0.001378) class_2124\n",
      "51.feature 34 (0.001283) class_1062\n",
      "52.feature 133 (0.001176) class_2966\n",
      "53.feature 176 (0.001141) class_7002\n",
      "54.feature 178 (0.001096) class_7034\n",
      "55.feature 71 (0.001085) class_2104\n",
      "56.feature 171 (0.001011) class_6806\n",
      "57.feature 26 (0.000987) class_1042\n",
      "58.feature 73 (0.000956) class_2112\n",
      "59.feature 69 (0.000943) class_2070\n",
      "60.feature 7 (0.000921) class_1013\n",
      "61.feature 0 (0.000815) class_1002\n",
      "62.feature 164 (0.000791) class_4126\n",
      "63.feature 170 (0.000748) class_6706\n",
      "64.feature 72 (0.000722) class_2108\n",
      "65.feature 63 (0.000689) class_1330\n",
      "66.feature 163 (0.000663) class_4122\n",
      "67.feature 22 (0.000641) class_1036\n",
      "68.feature 145 (0.000638) class_3018\n",
      "69.feature 40 (0.000624) class_1074\n",
      "70.feature 13 (0.000590) class_1026\n",
      "71.feature 20 (0.000576) class_1034\n",
      "72.feature 174 (0.000527) class_6918\n",
      "73.feature 81 (0.000500) class_2156\n",
      "74.feature 1 (0.000494) class_1003\n",
      "75.feature 49 (0.000487) class_1093\n",
      "76.feature 106 (0.000477) class_2646\n",
      "77.feature 56 (0.000469) class_1132\n",
      "78.feature 90 (0.000464) class_2242\n",
      "79.feature 150 (0.000462) class_3028\n",
      "80.feature 126 (0.000439) class_2806\n",
      "81.feature 93 (0.000438) class_2304\n",
      "82.feature 148 (0.000416) class_3024\n",
      "83.feature 18 (0.000406) class_1032\n",
      "84.feature 134 (0.000404) class_2980\n",
      "85.feature 159 (0.000393) class_3046\n",
      "86.feature 3 (0.000382) class_1006\n",
      "87.feature 102 (0.000377) class_2636\n",
      "88.feature 45 (0.000367) class_1086\n",
      "89.feature 51 (0.000338) class_1096\n",
      "90.feature 100 (0.000337) class_2630\n",
      "91.feature 46 (0.000330) class_1087\n",
      "92.feature 5 (0.000329) class_1010\n",
      "93.feature 48 (0.000320) class_1092\n",
      "94.feature 33 (0.000302) class_1060\n",
      "95.feature 4 (0.000294) class_1008\n",
      "96.feature 50 (0.000290) class_1094\n",
      "97.feature 36 (0.000290) class_1066\n",
      "98.feature 165 (0.000289) class_4214\n",
      "99.feature 19 (0.000286) class_1033\n",
      "100.feature 15 (0.000280) class_1028\n",
      "101.feature 158 (0.000278) class_3044\n",
      "102.feature 146 (0.000274) class_3020\n",
      "103.feature 59 (0.000273) class_1236\n",
      "104.feature 42 (0.000266) class_1078\n",
      "105.feature 83 (0.000256) class_2214\n",
      "106.feature 44 (0.000226) class_1084\n",
      "107.feature 27 (0.000215) class_1044\n",
      "108.feature 152 (0.000210) class_3030\n",
      "109.feature 105 (0.000208) class_2644\n",
      "110.feature 140 (0.000203) class_3010\n",
      "111.feature 142 (0.000202) class_3014\n",
      "112.feature 151 (0.000199) class_3029\n",
      "113.feature 168 (0.000198) class_4254\n",
      "114.feature 95 (0.000198) class_2372\n",
      "115.feature 143 (0.000197) class_3015\n",
      "116.feature 76 (0.000192) class_2122\n",
      "117.feature 67 (0.000189) class_1380\n",
      "118.feature 101 (0.000188) class_2632\n",
      "119.feature 31 (0.000184) class_1056\n",
      "120.feature 29 (0.000184) class_1048\n",
      "121.feature 24 (0.000180) class_1039\n",
      "122.feature 21 (0.000177) class_1035\n",
      "123.feature 169 (0.000174) class_6155\n",
      "124.feature 85 (0.000170) class_2220\n",
      "125.feature 64 (0.000164) class_1336\n",
      "126.feature 130 (0.000162) class_2956\n",
      "127.feature 116 (0.000162) class_2714\n",
      "128.feature 155 (0.000158) class_3035\n",
      "129.feature 144 (0.000157) class_3016\n",
      "130.feature 84 (0.000155) class_2218\n",
      "131.feature 136 (0.000154) class_3004\n",
      "132.feature 35 (0.000147) class_1064\n",
      "133.feature 177 (0.000142) class_7016\n",
      "134.feature 104 (0.000141) class_2642\n",
      "135.feature 166 (0.000139) class_4222\n",
      "136.feature 111 (0.000136) class_2690\n",
      "137.feature 16 (0.000135) class_1029\n",
      "138.feature 167 (0.000132) class_4252\n",
      "139.feature 147 (0.000131) class_3022\n",
      "140.feature 37 (0.000129) class_1067\n",
      "141.feature 154 (0.000129) class_3034\n",
      "142.feature 141 (0.000112) class_3012\n",
      "143.feature 14 (0.000110) class_1027\n",
      "144.feature 109 (0.000109) class_2662\n",
      "145.feature 173 (0.000108) class_6824\n",
      "146.feature 157 (0.000095) class_3040\n",
      "147.feature 80 (0.000093) class_2142\n",
      "148.feature 61 (0.000089) class_1314\n",
      "149.feature 113 (0.000088) class_2704\n",
      "150.feature 127 (0.000085) class_2850\n",
      "151.feature 107 (0.000085) class_2652\n",
      "152.feature 60 (0.000083) class_1302\n",
      "153.feature 115 (0.000083) class_2712\n",
      "154.feature 160 (0.000079) class_3060\n",
      "155.feature 117 (0.000072) class_2716\n",
      "156.feature 89 (0.000068) class_2238\n",
      "157.feature 161 (0.000068) class_3090\n",
      "158.feature 119 (0.000061) class_2720\n",
      "159.feature 68 (0.000060) class_1386\n",
      "160.feature 110 (0.000059) class_2664\n",
      "161.feature 137 (0.000059) class_3005\n",
      "162.feature 86 (0.000059) class_2222\n",
      "163.feature 74 (0.000055) class_2114\n",
      "164.feature 66 (0.000051) class_1364\n",
      "165.feature 23 (0.000051) class_1038\n",
      "166.feature 38 (0.000050) class_1070\n",
      "167.feature 65 (0.000043) class_1338\n",
      "168.feature 78 (0.000042) class_2128\n",
      "169.feature 175 (0.000035) class_6920\n",
      "170.feature 82 (0.000032) class_2210\n",
      "171.feature 120 (0.000031) class_2722\n",
      "172.feature 103 (0.000030) class_2640\n",
      "173.feature 12 (0.000026) class_1025\n",
      "174.feature 99 (0.000023) class_2504\n",
      "175.feature 96 (0.000019) class_2412\n",
      "176.feature 108 (0.000017) class_2654\n",
      "177.feature 30 (0.000016) class_1054\n",
      "178.feature 138 (0.000014) class_3006\n",
      "179.feature 11 (0.000013) class_1024\n"
     ]
    },
    {
     "data": {
      "image/png": "[encoded data removed]",
      "text/plain": [
       "<matplotlib.figure.Figure at 0x24791cafa20>"
      ]
     },
     "metadata": {},
     "output_type": "display_data"
    }
   ],
   "source": [
    "rfr = rfr_mean_decrease_impurity(X,y)\n",
    "rfr_importance(rfr, X, y, df_items_unit_sales)"
   ]
  },
  {
   "cell_type": "code",
   "execution_count": 61,
   "metadata": {},
   "outputs": [
    {
     "data": {
      "image/png": "[encoded data removed]",
      "text/plain": [
       "<matplotlib.figure.Figure at 0x247aac01320>"
      ]
     },
     "metadata": {},
     "output_type": "display_data"
    },
    {
     "data": {
      "text/plain": [
       "(0.14611785548115042, 0.25374861537462812)"
      ]
     },
     "execution_count": 61,
     "metadata": {},
     "output_type": "execute_result"
    }
   ],
   "source": [
    "train_df = df_items_unit_sales\n",
    "train_np = train_df.as_matrix()\n",
    "\n",
    "y = train_np[:,-1]\n",
    "X = train_np[:,:-1]\n",
    "\n",
    "plot_learning_curve(rfr, \"Learning curve\", X, y, cv = 5)"
   ]
  }
 ],
 "metadata": {
  "kernelspec": {
   "display_name": "Python 3",
   "language": "python",
   "name": "python3"
  },
  "language_info": {
   "codemirror_mode": {
    "name": "ipython",
    "version": 3
   },
   "file_extension": ".py",
   "mimetype": "text/x-python",
   "name": "python",
   "nbconvert_exporter": "python",
   "pygments_lexer": "ipython3",
   "version": "3.6.3"
  }
 },
 "nbformat": 4,
 "nbformat_minor": 2
}
